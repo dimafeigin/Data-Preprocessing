{
 "cells": [
  {
   "cell_type": "markdown",
   "metadata": {},
   "source": [
    "<div style=\"border:solid green 2px; padding: 20px\">\n",
    "<b>Hello, Dmitriy!</b>\n",
    "\n",
    "My name is Grigoriy Gusarov and I'm going to review your project.\n",
    "\n",
    "My main goal is not to show that any mistakes have been made somewhere, but to share my experience that will help you in your further work. Further in the file you can see my comments, try to take them into account when performing the next tasks. **Please, don't delete them.**\n",
    "\n",
    "\n",
    "You can find my comments in <font color='green'>green</font>, <font color='orange'>yellow</font> or <font color='red'>red</font> boxes like this:\n",
    "\n",
    "<div class=\"alert alert-success\">\n",
    "<b>Reviewer's comment:</b> if everything is done succesfully\n",
    "</div>\n",
    "\n",
    "<div class=\"alert alert-warning\">\n",
    "<b>Reviewer's comment: </b> if I can give some recommendations\n",
    "</div>\n",
    "\n",
    "<div class=\"alert alert-danger\">\n",
    "<b>Reviewer's comment:</b> if the block requires some corrections. Work can't be accepted with the red comments.\n",
    "</div>\n",
    "\n",
    "    \n",
    "Let's work on the project in dialogue: if you change something in the project or respond to my comments, write about it. It will be easier for me to track the changes if you highlight your comments:\n",
    "    \n",
    "<div class=\"alert alert-info\"> <b>Student's comment:</b> For example like this.</div>"
   ]
  },
  {
   "cell_type": "markdown",
   "metadata": {},
   "source": [
    "### <font color='orange'>General feedback</font>\n",
    "Thank you for sending your project! Unfortunately, I can't start my review right now because of the code error. Please, fix variable name in the 20-th cell.\n",
    "\n",
    "done\n",
    "\n",
    "**Update**:<br>\n",
    "Thank you for the update. Below you have the blue form for your comments, please, use it. Otherwise, there is a risk that your comments will blur into the rest of the text and I won't notice them. Unfortunately, there is another one code issue in the 22-th cell. I recommend you to rerun your project before submission.\n",
    "\n",
    "**Update**:<br>\n",
    "Thank you for sending your project again. It seems like something went wrong and you sent a version without any changes. Code issue is still here. Please check it again.\n",
    "\n",
    "Hi, i made every change and all the codes look good at the time im sending the project.\n",
    "\n",
    "**Update**:<br>\n",
    "Thank you for the fast response. Make sure, that you saved your changes before sending. To keep the review from getting bogged down, I left you comments on the first part of the research.\n",
    "\n",
    "**Update**:<br>\n",
    "Thank you for the code fixing. Please, pay attention to the <code>days_employed</code> column and expand your final conclusions. After that I would be glad to accept your research.\n",
    "\n",
    "**Update**:<br>\n",
    "Thank you for sending your project again. It's amazing to see that according to your calculations, some people have been working for several hundred years.  I also do not see any significant changes in the final conclusion. Well, if you are making formal corrections, I see no point in continuing to try to improve this research. Your project has been accepted, good luck in the next sprints."
   ]
  },
  {
   "cell_type": "markdown",
   "metadata": {},
   "source": [
    "---"
   ]
  },
  {
   "cell_type": "markdown",
   "metadata": {},
   "source": [
    "# Analyzing borrowers’ risk of defaulting\n",
    "\n",
    "Your project is to prepare a report for a bank’s loan division. You’ll need to find out if a customer’s marital status and number of children has an impact on whether they will default on a loan. The bank already has some data on customers’ credit worthiness.\n",
    "\n",
    "Your report will be considered when building a **credit scoring** of a potential customer. A **credit scoring** is used to evaluate the ability of a potential borrower to repay their loan."
   ]
  },
  {
   "cell_type": "markdown",
   "metadata": {},
   "source": [
    "## Open the data file and have a look at the general information. "
   ]
  },
  {
   "cell_type": "code",
   "execution_count": 1,
   "metadata": {},
   "outputs": [
    {
     "data": {
      "text/html": [
       "<div>\n",
       "<style scoped>\n",
       "    .dataframe tbody tr th:only-of-type {\n",
       "        vertical-align: middle;\n",
       "    }\n",
       "\n",
       "    .dataframe tbody tr th {\n",
       "        vertical-align: top;\n",
       "    }\n",
       "\n",
       "    .dataframe thead th {\n",
       "        text-align: right;\n",
       "    }\n",
       "</style>\n",
       "<table border=\"1\" class=\"dataframe\">\n",
       "  <thead>\n",
       "    <tr style=\"text-align: right;\">\n",
       "      <th></th>\n",
       "      <th>children</th>\n",
       "      <th>days_employed</th>\n",
       "      <th>dob_years</th>\n",
       "      <th>education</th>\n",
       "      <th>education_id</th>\n",
       "      <th>family_status</th>\n",
       "      <th>family_status_id</th>\n",
       "      <th>gender</th>\n",
       "      <th>income_type</th>\n",
       "      <th>debt</th>\n",
       "      <th>total_income</th>\n",
       "      <th>purpose</th>\n",
       "    </tr>\n",
       "  </thead>\n",
       "  <tbody>\n",
       "    <tr>\n",
       "      <td>0</td>\n",
       "      <td>1</td>\n",
       "      <td>-8437.673028</td>\n",
       "      <td>42</td>\n",
       "      <td>bachelor's degree</td>\n",
       "      <td>0</td>\n",
       "      <td>married</td>\n",
       "      <td>0</td>\n",
       "      <td>F</td>\n",
       "      <td>employee</td>\n",
       "      <td>0</td>\n",
       "      <td>40620.102</td>\n",
       "      <td>purchase of the house</td>\n",
       "    </tr>\n",
       "    <tr>\n",
       "      <td>1</td>\n",
       "      <td>1</td>\n",
       "      <td>-4024.803754</td>\n",
       "      <td>36</td>\n",
       "      <td>secondary education</td>\n",
       "      <td>1</td>\n",
       "      <td>married</td>\n",
       "      <td>0</td>\n",
       "      <td>F</td>\n",
       "      <td>employee</td>\n",
       "      <td>0</td>\n",
       "      <td>17932.802</td>\n",
       "      <td>car purchase</td>\n",
       "    </tr>\n",
       "    <tr>\n",
       "      <td>2</td>\n",
       "      <td>0</td>\n",
       "      <td>-5623.422610</td>\n",
       "      <td>33</td>\n",
       "      <td>Secondary Education</td>\n",
       "      <td>1</td>\n",
       "      <td>married</td>\n",
       "      <td>0</td>\n",
       "      <td>M</td>\n",
       "      <td>employee</td>\n",
       "      <td>0</td>\n",
       "      <td>23341.752</td>\n",
       "      <td>purchase of the house</td>\n",
       "    </tr>\n",
       "    <tr>\n",
       "      <td>3</td>\n",
       "      <td>3</td>\n",
       "      <td>-4124.747207</td>\n",
       "      <td>32</td>\n",
       "      <td>secondary education</td>\n",
       "      <td>1</td>\n",
       "      <td>married</td>\n",
       "      <td>0</td>\n",
       "      <td>M</td>\n",
       "      <td>employee</td>\n",
       "      <td>0</td>\n",
       "      <td>42820.568</td>\n",
       "      <td>supplementary education</td>\n",
       "    </tr>\n",
       "    <tr>\n",
       "      <td>4</td>\n",
       "      <td>0</td>\n",
       "      <td>340266.072047</td>\n",
       "      <td>53</td>\n",
       "      <td>secondary education</td>\n",
       "      <td>1</td>\n",
       "      <td>civil partnership</td>\n",
       "      <td>1</td>\n",
       "      <td>F</td>\n",
       "      <td>retiree</td>\n",
       "      <td>0</td>\n",
       "      <td>25378.572</td>\n",
       "      <td>to have a wedding</td>\n",
       "    </tr>\n",
       "  </tbody>\n",
       "</table>\n",
       "</div>"
      ],
      "text/plain": [
       "   children  days_employed  dob_years            education  education_id  \\\n",
       "0         1   -8437.673028         42    bachelor's degree             0   \n",
       "1         1   -4024.803754         36  secondary education             1   \n",
       "2         0   -5623.422610         33  Secondary Education             1   \n",
       "3         3   -4124.747207         32  secondary education             1   \n",
       "4         0  340266.072047         53  secondary education             1   \n",
       "\n",
       "       family_status  family_status_id gender income_type  debt  total_income  \\\n",
       "0            married                 0      F    employee     0     40620.102   \n",
       "1            married                 0      F    employee     0     17932.802   \n",
       "2            married                 0      M    employee     0     23341.752   \n",
       "3            married                 0      M    employee     0     42820.568   \n",
       "4  civil partnership                 1      F     retiree     0     25378.572   \n",
       "\n",
       "                   purpose  \n",
       "0    purchase of the house  \n",
       "1             car purchase  \n",
       "2    purchase of the house  \n",
       "3  supplementary education  \n",
       "4        to have a wedding  "
      ]
     },
     "execution_count": 1,
     "metadata": {},
     "output_type": "execute_result"
    }
   ],
   "source": [
    "import pandas as pd\n",
    "credit_scoring = pd.read_csv('/datasets/credit_scoring_eng.csv')\n",
    "credit_scoring.head()\n"
   ]
  },
  {
   "cell_type": "markdown",
   "metadata": {},
   "source": [
    "<div class=\"alert alert-warning\">\n",
    "<b>Reviewer's comment:</b> Small hint: it's considered a good practice to store all your imports in a separate cell. Thus you'll simplify code maintaining. \n",
    "</div>"
   ]
  },
  {
   "cell_type": "code",
   "execution_count": 2,
   "metadata": {
    "scrolled": true
   },
   "outputs": [
    {
     "name": "stdout",
     "output_type": "stream",
     "text": [
      "<class 'pandas.core.frame.DataFrame'>\n",
      "RangeIndex: 21525 entries, 0 to 21524\n",
      "Data columns (total 12 columns):\n",
      "children            21525 non-null int64\n",
      "days_employed       19351 non-null float64\n",
      "dob_years           21525 non-null int64\n",
      "education           21525 non-null object\n",
      "education_id        21525 non-null int64\n",
      "family_status       21525 non-null object\n",
      "family_status_id    21525 non-null int64\n",
      "gender              21525 non-null object\n",
      "income_type         21525 non-null object\n",
      "debt                21525 non-null int64\n",
      "total_income        19351 non-null float64\n",
      "purpose             21525 non-null object\n",
      "dtypes: float64(2), int64(5), object(5)\n",
      "memory usage: 2.0+ MB\n"
     ]
    }
   ],
   "source": [
    "credit_scoring.info()"
   ]
  },
  {
   "cell_type": "code",
   "execution_count": 3,
   "metadata": {},
   "outputs": [
    {
     "data": {
      "text/html": [
       "<div>\n",
       "<style scoped>\n",
       "    .dataframe tbody tr th:only-of-type {\n",
       "        vertical-align: middle;\n",
       "    }\n",
       "\n",
       "    .dataframe tbody tr th {\n",
       "        vertical-align: top;\n",
       "    }\n",
       "\n",
       "    .dataframe thead th {\n",
       "        text-align: right;\n",
       "    }\n",
       "</style>\n",
       "<table border=\"1\" class=\"dataframe\">\n",
       "  <thead>\n",
       "    <tr style=\"text-align: right;\">\n",
       "      <th></th>\n",
       "      <th>children</th>\n",
       "      <th>days_employed</th>\n",
       "      <th>dob_years</th>\n",
       "      <th>education_id</th>\n",
       "      <th>family_status_id</th>\n",
       "      <th>debt</th>\n",
       "      <th>total_income</th>\n",
       "    </tr>\n",
       "  </thead>\n",
       "  <tbody>\n",
       "    <tr>\n",
       "      <td>count</td>\n",
       "      <td>21525.000000</td>\n",
       "      <td>19351.000000</td>\n",
       "      <td>21525.000000</td>\n",
       "      <td>21525.000000</td>\n",
       "      <td>21525.000000</td>\n",
       "      <td>21525.000000</td>\n",
       "      <td>19351.000000</td>\n",
       "    </tr>\n",
       "    <tr>\n",
       "      <td>mean</td>\n",
       "      <td>0.538908</td>\n",
       "      <td>63046.497661</td>\n",
       "      <td>43.293380</td>\n",
       "      <td>0.817236</td>\n",
       "      <td>0.972544</td>\n",
       "      <td>0.080883</td>\n",
       "      <td>26787.568355</td>\n",
       "    </tr>\n",
       "    <tr>\n",
       "      <td>std</td>\n",
       "      <td>1.381587</td>\n",
       "      <td>140827.311974</td>\n",
       "      <td>12.574584</td>\n",
       "      <td>0.548138</td>\n",
       "      <td>1.420324</td>\n",
       "      <td>0.272661</td>\n",
       "      <td>16475.450632</td>\n",
       "    </tr>\n",
       "    <tr>\n",
       "      <td>min</td>\n",
       "      <td>-1.000000</td>\n",
       "      <td>-18388.949901</td>\n",
       "      <td>0.000000</td>\n",
       "      <td>0.000000</td>\n",
       "      <td>0.000000</td>\n",
       "      <td>0.000000</td>\n",
       "      <td>3306.762000</td>\n",
       "    </tr>\n",
       "    <tr>\n",
       "      <td>25%</td>\n",
       "      <td>0.000000</td>\n",
       "      <td>-2747.423625</td>\n",
       "      <td>33.000000</td>\n",
       "      <td>1.000000</td>\n",
       "      <td>0.000000</td>\n",
       "      <td>0.000000</td>\n",
       "      <td>16488.504500</td>\n",
       "    </tr>\n",
       "    <tr>\n",
       "      <td>50%</td>\n",
       "      <td>0.000000</td>\n",
       "      <td>-1203.369529</td>\n",
       "      <td>42.000000</td>\n",
       "      <td>1.000000</td>\n",
       "      <td>0.000000</td>\n",
       "      <td>0.000000</td>\n",
       "      <td>23202.870000</td>\n",
       "    </tr>\n",
       "    <tr>\n",
       "      <td>75%</td>\n",
       "      <td>1.000000</td>\n",
       "      <td>-291.095954</td>\n",
       "      <td>53.000000</td>\n",
       "      <td>1.000000</td>\n",
       "      <td>1.000000</td>\n",
       "      <td>0.000000</td>\n",
       "      <td>32549.611000</td>\n",
       "    </tr>\n",
       "    <tr>\n",
       "      <td>max</td>\n",
       "      <td>20.000000</td>\n",
       "      <td>401755.400475</td>\n",
       "      <td>75.000000</td>\n",
       "      <td>4.000000</td>\n",
       "      <td>4.000000</td>\n",
       "      <td>1.000000</td>\n",
       "      <td>362496.645000</td>\n",
       "    </tr>\n",
       "  </tbody>\n",
       "</table>\n",
       "</div>"
      ],
      "text/plain": [
       "           children  days_employed     dob_years  education_id  \\\n",
       "count  21525.000000   19351.000000  21525.000000  21525.000000   \n",
       "mean       0.538908   63046.497661     43.293380      0.817236   \n",
       "std        1.381587  140827.311974     12.574584      0.548138   \n",
       "min       -1.000000  -18388.949901      0.000000      0.000000   \n",
       "25%        0.000000   -2747.423625     33.000000      1.000000   \n",
       "50%        0.000000   -1203.369529     42.000000      1.000000   \n",
       "75%        1.000000    -291.095954     53.000000      1.000000   \n",
       "max       20.000000  401755.400475     75.000000      4.000000   \n",
       "\n",
       "       family_status_id          debt   total_income  \n",
       "count      21525.000000  21525.000000   19351.000000  \n",
       "mean           0.972544      0.080883   26787.568355  \n",
       "std            1.420324      0.272661   16475.450632  \n",
       "min            0.000000      0.000000    3306.762000  \n",
       "25%            0.000000      0.000000   16488.504500  \n",
       "50%            0.000000      0.000000   23202.870000  \n",
       "75%            1.000000      0.000000   32549.611000  \n",
       "max            4.000000      1.000000  362496.645000  "
      ]
     },
     "execution_count": 3,
     "metadata": {},
     "output_type": "execute_result"
    }
   ],
   "source": [
    "credit_scoring.describe()"
   ]
  },
  {
   "cell_type": "code",
   "execution_count": 4,
   "metadata": {},
   "outputs": [
    {
     "data": {
      "text/html": [
       "<div>\n",
       "<style scoped>\n",
       "    .dataframe tbody tr th:only-of-type {\n",
       "        vertical-align: middle;\n",
       "    }\n",
       "\n",
       "    .dataframe tbody tr th {\n",
       "        vertical-align: top;\n",
       "    }\n",
       "\n",
       "    .dataframe thead th {\n",
       "        text-align: right;\n",
       "    }\n",
       "</style>\n",
       "<table border=\"1\" class=\"dataframe\">\n",
       "  <thead>\n",
       "    <tr style=\"text-align: right;\">\n",
       "      <th></th>\n",
       "      <th>children</th>\n",
       "      <th>days_employed</th>\n",
       "      <th>dob_years</th>\n",
       "      <th>education</th>\n",
       "      <th>education_id</th>\n",
       "      <th>family_status</th>\n",
       "      <th>family_status_id</th>\n",
       "      <th>gender</th>\n",
       "      <th>income_type</th>\n",
       "      <th>debt</th>\n",
       "      <th>total_income</th>\n",
       "      <th>purpose</th>\n",
       "    </tr>\n",
       "  </thead>\n",
       "  <tbody>\n",
       "    <tr>\n",
       "      <td>0</td>\n",
       "      <td>1</td>\n",
       "      <td>-8437.673028</td>\n",
       "      <td>42</td>\n",
       "      <td>bachelor's degree</td>\n",
       "      <td>0</td>\n",
       "      <td>married</td>\n",
       "      <td>0</td>\n",
       "      <td>F</td>\n",
       "      <td>employee</td>\n",
       "      <td>0</td>\n",
       "      <td>40620.102</td>\n",
       "      <td>purchase of the house</td>\n",
       "    </tr>\n",
       "    <tr>\n",
       "      <td>1</td>\n",
       "      <td>1</td>\n",
       "      <td>-4024.803754</td>\n",
       "      <td>36</td>\n",
       "      <td>secondary education</td>\n",
       "      <td>1</td>\n",
       "      <td>married</td>\n",
       "      <td>0</td>\n",
       "      <td>F</td>\n",
       "      <td>employee</td>\n",
       "      <td>0</td>\n",
       "      <td>17932.802</td>\n",
       "      <td>car purchase</td>\n",
       "    </tr>\n",
       "    <tr>\n",
       "      <td>2</td>\n",
       "      <td>0</td>\n",
       "      <td>-5623.422610</td>\n",
       "      <td>33</td>\n",
       "      <td>secondary education</td>\n",
       "      <td>1</td>\n",
       "      <td>married</td>\n",
       "      <td>0</td>\n",
       "      <td>M</td>\n",
       "      <td>employee</td>\n",
       "      <td>0</td>\n",
       "      <td>23341.752</td>\n",
       "      <td>purchase of the house</td>\n",
       "    </tr>\n",
       "    <tr>\n",
       "      <td>3</td>\n",
       "      <td>3</td>\n",
       "      <td>-4124.747207</td>\n",
       "      <td>32</td>\n",
       "      <td>secondary education</td>\n",
       "      <td>1</td>\n",
       "      <td>married</td>\n",
       "      <td>0</td>\n",
       "      <td>M</td>\n",
       "      <td>employee</td>\n",
       "      <td>0</td>\n",
       "      <td>42820.568</td>\n",
       "      <td>supplementary education</td>\n",
       "    </tr>\n",
       "    <tr>\n",
       "      <td>4</td>\n",
       "      <td>0</td>\n",
       "      <td>340266.072047</td>\n",
       "      <td>53</td>\n",
       "      <td>secondary education</td>\n",
       "      <td>1</td>\n",
       "      <td>civil partnership</td>\n",
       "      <td>1</td>\n",
       "      <td>F</td>\n",
       "      <td>retiree</td>\n",
       "      <td>0</td>\n",
       "      <td>25378.572</td>\n",
       "      <td>to have a wedding</td>\n",
       "    </tr>\n",
       "    <tr>\n",
       "      <td>...</td>\n",
       "      <td>...</td>\n",
       "      <td>...</td>\n",
       "      <td>...</td>\n",
       "      <td>...</td>\n",
       "      <td>...</td>\n",
       "      <td>...</td>\n",
       "      <td>...</td>\n",
       "      <td>...</td>\n",
       "      <td>...</td>\n",
       "      <td>...</td>\n",
       "      <td>...</td>\n",
       "      <td>...</td>\n",
       "    </tr>\n",
       "    <tr>\n",
       "      <td>21520</td>\n",
       "      <td>1</td>\n",
       "      <td>-4529.316663</td>\n",
       "      <td>43</td>\n",
       "      <td>secondary education</td>\n",
       "      <td>1</td>\n",
       "      <td>civil partnership</td>\n",
       "      <td>1</td>\n",
       "      <td>F</td>\n",
       "      <td>business</td>\n",
       "      <td>0</td>\n",
       "      <td>35966.698</td>\n",
       "      <td>housing transactions</td>\n",
       "    </tr>\n",
       "    <tr>\n",
       "      <td>21521</td>\n",
       "      <td>0</td>\n",
       "      <td>343937.404131</td>\n",
       "      <td>67</td>\n",
       "      <td>secondary education</td>\n",
       "      <td>1</td>\n",
       "      <td>married</td>\n",
       "      <td>0</td>\n",
       "      <td>F</td>\n",
       "      <td>retiree</td>\n",
       "      <td>0</td>\n",
       "      <td>24959.969</td>\n",
       "      <td>purchase of a car</td>\n",
       "    </tr>\n",
       "    <tr>\n",
       "      <td>21522</td>\n",
       "      <td>1</td>\n",
       "      <td>-2113.346888</td>\n",
       "      <td>38</td>\n",
       "      <td>secondary education</td>\n",
       "      <td>1</td>\n",
       "      <td>civil partnership</td>\n",
       "      <td>1</td>\n",
       "      <td>M</td>\n",
       "      <td>employee</td>\n",
       "      <td>1</td>\n",
       "      <td>14347.610</td>\n",
       "      <td>property</td>\n",
       "    </tr>\n",
       "    <tr>\n",
       "      <td>21523</td>\n",
       "      <td>3</td>\n",
       "      <td>-3112.481705</td>\n",
       "      <td>38</td>\n",
       "      <td>secondary education</td>\n",
       "      <td>1</td>\n",
       "      <td>married</td>\n",
       "      <td>0</td>\n",
       "      <td>M</td>\n",
       "      <td>employee</td>\n",
       "      <td>1</td>\n",
       "      <td>39054.888</td>\n",
       "      <td>buying my own car</td>\n",
       "    </tr>\n",
       "    <tr>\n",
       "      <td>21524</td>\n",
       "      <td>2</td>\n",
       "      <td>-1984.507589</td>\n",
       "      <td>40</td>\n",
       "      <td>secondary education</td>\n",
       "      <td>1</td>\n",
       "      <td>married</td>\n",
       "      <td>0</td>\n",
       "      <td>F</td>\n",
       "      <td>employee</td>\n",
       "      <td>0</td>\n",
       "      <td>13127.587</td>\n",
       "      <td>to buy a car</td>\n",
       "    </tr>\n",
       "  </tbody>\n",
       "</table>\n",
       "<p>21525 rows × 12 columns</p>\n",
       "</div>"
      ],
      "text/plain": [
       "       children  days_employed  dob_years            education  education_id  \\\n",
       "0             1   -8437.673028         42    bachelor's degree             0   \n",
       "1             1   -4024.803754         36  secondary education             1   \n",
       "2             0   -5623.422610         33  secondary education             1   \n",
       "3             3   -4124.747207         32  secondary education             1   \n",
       "4             0  340266.072047         53  secondary education             1   \n",
       "...         ...            ...        ...                  ...           ...   \n",
       "21520         1   -4529.316663         43  secondary education             1   \n",
       "21521         0  343937.404131         67  secondary education             1   \n",
       "21522         1   -2113.346888         38  secondary education             1   \n",
       "21523         3   -3112.481705         38  secondary education             1   \n",
       "21524         2   -1984.507589         40  secondary education             1   \n",
       "\n",
       "           family_status  family_status_id gender income_type  debt  \\\n",
       "0                married                 0      F    employee     0   \n",
       "1                married                 0      F    employee     0   \n",
       "2                married                 0      M    employee     0   \n",
       "3                married                 0      M    employee     0   \n",
       "4      civil partnership                 1      F     retiree     0   \n",
       "...                  ...               ...    ...         ...   ...   \n",
       "21520  civil partnership                 1      F    business     0   \n",
       "21521            married                 0      F     retiree     0   \n",
       "21522  civil partnership                 1      M    employee     1   \n",
       "21523            married                 0      M    employee     1   \n",
       "21524            married                 0      F    employee     0   \n",
       "\n",
       "       total_income                  purpose  \n",
       "0         40620.102    purchase of the house  \n",
       "1         17932.802             car purchase  \n",
       "2         23341.752    purchase of the house  \n",
       "3         42820.568  supplementary education  \n",
       "4         25378.572        to have a wedding  \n",
       "...             ...                      ...  \n",
       "21520     35966.698     housing transactions  \n",
       "21521     24959.969        purchase of a car  \n",
       "21522     14347.610                 property  \n",
       "21523     39054.888        buying my own car  \n",
       "21524     13127.587             to buy a car  \n",
       "\n",
       "[21525 rows x 12 columns]"
      ]
     },
     "execution_count": 4,
     "metadata": {},
     "output_type": "execute_result"
    }
   ],
   "source": [
    "credit_scoring['education'] = credit_scoring['education'].str.lower()\n",
    "credit_scoring"
   ]
  },
  {
   "cell_type": "markdown",
   "metadata": {},
   "source": [
    "<div class=\"alert alert-warning\">\n",
    "<b>Reviewer's comment: </b> Please, pay attention to data frame formatting in your project. Don't forget to use head(), tail(), or sample() when outputting large tables. If you leave everything \"as is\", when you save the project to github, all the tables will expand to their full length and take up most of the project. Plus, the jupyter notebook wastes extra resources when loading such tables. \n",
    "</div>"
   ]
  },
  {
   "cell_type": "code",
   "execution_count": 5,
   "metadata": {},
   "outputs": [],
   "source": [
    "credit_scoring['children'] = credit_scoring['children'].abs()"
   ]
  },
  {
   "cell_type": "code",
   "execution_count": 6,
   "metadata": {},
   "outputs": [
    {
     "data": {
      "text/plain": [
       "array([ 1,  0,  3,  2,  4, 20,  5])"
      ]
     },
     "execution_count": 6,
     "metadata": {},
     "output_type": "execute_result"
    }
   ],
   "source": [
    "credit_scoring['children'].abs().unique()"
   ]
  },
  {
   "cell_type": "markdown",
   "metadata": {},
   "source": [
    "<div class=\"alert alert-success\">\n",
    "<b>Reviewer's comment:</b> 20 childern? Okay, at least now we don't have negative values.\n",
    "</div>"
   ]
  },
  {
   "cell_type": "code",
   "execution_count": 7,
   "metadata": {},
   "outputs": [
    {
     "data": {
      "text/plain": [
       "array(['married', 'civil partnership', 'widow / widower', 'divorced',\n",
       "       'unmarried'], dtype=object)"
      ]
     },
     "execution_count": 7,
     "metadata": {},
     "output_type": "execute_result"
    }
   ],
   "source": [
    "credit_scoring['family_status'].unique()"
   ]
  },
  {
   "cell_type": "code",
   "execution_count": 8,
   "metadata": {},
   "outputs": [
    {
     "data": {
      "text/plain": [
       "array([-8437.67302776, -4024.80375385, -5623.42261023, ...,\n",
       "       -2113.3468877 , -3112.4817052 , -1984.50758853])"
      ]
     },
     "execution_count": 8,
     "metadata": {},
     "output_type": "execute_result"
    }
   ],
   "source": [
    "credit_scoring['days_employed'].unique()"
   ]
  },
  {
   "cell_type": "code",
   "execution_count": 9,
   "metadata": {},
   "outputs": [
    {
     "data": {
      "text/html": [
       "<div>\n",
       "<style scoped>\n",
       "    .dataframe tbody tr th:only-of-type {\n",
       "        vertical-align: middle;\n",
       "    }\n",
       "\n",
       "    .dataframe tbody tr th {\n",
       "        vertical-align: top;\n",
       "    }\n",
       "\n",
       "    .dataframe thead th {\n",
       "        text-align: right;\n",
       "    }\n",
       "</style>\n",
       "<table border=\"1\" class=\"dataframe\">\n",
       "  <thead>\n",
       "    <tr style=\"text-align: right;\">\n",
       "      <th></th>\n",
       "      <th>children</th>\n",
       "      <th>days_employed</th>\n",
       "      <th>dob_years</th>\n",
       "      <th>education</th>\n",
       "      <th>education_id</th>\n",
       "      <th>family_status</th>\n",
       "      <th>family_status_id</th>\n",
       "      <th>gender</th>\n",
       "      <th>income_type</th>\n",
       "      <th>debt</th>\n",
       "      <th>total_income</th>\n",
       "      <th>purpose</th>\n",
       "    </tr>\n",
       "  </thead>\n",
       "  <tbody>\n",
       "    <tr>\n",
       "      <td>0</td>\n",
       "      <td>1</td>\n",
       "      <td>-8437.673028</td>\n",
       "      <td>42</td>\n",
       "      <td>bachelor's degree</td>\n",
       "      <td>0</td>\n",
       "      <td>married</td>\n",
       "      <td>0</td>\n",
       "      <td>F</td>\n",
       "      <td>employee</td>\n",
       "      <td>0</td>\n",
       "      <td>40620.102</td>\n",
       "      <td>purchase of the house</td>\n",
       "    </tr>\n",
       "    <tr>\n",
       "      <td>1</td>\n",
       "      <td>1</td>\n",
       "      <td>-4024.803754</td>\n",
       "      <td>36</td>\n",
       "      <td>secondary education</td>\n",
       "      <td>1</td>\n",
       "      <td>married</td>\n",
       "      <td>0</td>\n",
       "      <td>F</td>\n",
       "      <td>employee</td>\n",
       "      <td>0</td>\n",
       "      <td>17932.802</td>\n",
       "      <td>car purchase</td>\n",
       "    </tr>\n",
       "    <tr>\n",
       "      <td>2</td>\n",
       "      <td>0</td>\n",
       "      <td>-5623.422610</td>\n",
       "      <td>33</td>\n",
       "      <td>secondary education</td>\n",
       "      <td>1</td>\n",
       "      <td>married</td>\n",
       "      <td>0</td>\n",
       "      <td>M</td>\n",
       "      <td>employee</td>\n",
       "      <td>0</td>\n",
       "      <td>23341.752</td>\n",
       "      <td>purchase of the house</td>\n",
       "    </tr>\n",
       "    <tr>\n",
       "      <td>3</td>\n",
       "      <td>3</td>\n",
       "      <td>-4124.747207</td>\n",
       "      <td>32</td>\n",
       "      <td>secondary education</td>\n",
       "      <td>1</td>\n",
       "      <td>married</td>\n",
       "      <td>0</td>\n",
       "      <td>M</td>\n",
       "      <td>employee</td>\n",
       "      <td>0</td>\n",
       "      <td>42820.568</td>\n",
       "      <td>supplementary education</td>\n",
       "    </tr>\n",
       "    <tr>\n",
       "      <td>4</td>\n",
       "      <td>0</td>\n",
       "      <td>340266.072047</td>\n",
       "      <td>53</td>\n",
       "      <td>secondary education</td>\n",
       "      <td>1</td>\n",
       "      <td>civil partnership</td>\n",
       "      <td>1</td>\n",
       "      <td>F</td>\n",
       "      <td>retiree</td>\n",
       "      <td>0</td>\n",
       "      <td>25378.572</td>\n",
       "      <td>to have a wedding</td>\n",
       "    </tr>\n",
       "    <tr>\n",
       "      <td>...</td>\n",
       "      <td>...</td>\n",
       "      <td>...</td>\n",
       "      <td>...</td>\n",
       "      <td>...</td>\n",
       "      <td>...</td>\n",
       "      <td>...</td>\n",
       "      <td>...</td>\n",
       "      <td>...</td>\n",
       "      <td>...</td>\n",
       "      <td>...</td>\n",
       "      <td>...</td>\n",
       "      <td>...</td>\n",
       "    </tr>\n",
       "    <tr>\n",
       "      <td>21520</td>\n",
       "      <td>1</td>\n",
       "      <td>-4529.316663</td>\n",
       "      <td>43</td>\n",
       "      <td>secondary education</td>\n",
       "      <td>1</td>\n",
       "      <td>civil partnership</td>\n",
       "      <td>1</td>\n",
       "      <td>F</td>\n",
       "      <td>business</td>\n",
       "      <td>0</td>\n",
       "      <td>35966.698</td>\n",
       "      <td>housing transactions</td>\n",
       "    </tr>\n",
       "    <tr>\n",
       "      <td>21521</td>\n",
       "      <td>0</td>\n",
       "      <td>343937.404131</td>\n",
       "      <td>67</td>\n",
       "      <td>secondary education</td>\n",
       "      <td>1</td>\n",
       "      <td>married</td>\n",
       "      <td>0</td>\n",
       "      <td>F</td>\n",
       "      <td>retiree</td>\n",
       "      <td>0</td>\n",
       "      <td>24959.969</td>\n",
       "      <td>purchase of a car</td>\n",
       "    </tr>\n",
       "    <tr>\n",
       "      <td>21522</td>\n",
       "      <td>1</td>\n",
       "      <td>-2113.346888</td>\n",
       "      <td>38</td>\n",
       "      <td>secondary education</td>\n",
       "      <td>1</td>\n",
       "      <td>civil partnership</td>\n",
       "      <td>1</td>\n",
       "      <td>M</td>\n",
       "      <td>employee</td>\n",
       "      <td>1</td>\n",
       "      <td>14347.610</td>\n",
       "      <td>property</td>\n",
       "    </tr>\n",
       "    <tr>\n",
       "      <td>21523</td>\n",
       "      <td>3</td>\n",
       "      <td>-3112.481705</td>\n",
       "      <td>38</td>\n",
       "      <td>secondary education</td>\n",
       "      <td>1</td>\n",
       "      <td>married</td>\n",
       "      <td>0</td>\n",
       "      <td>M</td>\n",
       "      <td>employee</td>\n",
       "      <td>1</td>\n",
       "      <td>39054.888</td>\n",
       "      <td>buying my own car</td>\n",
       "    </tr>\n",
       "    <tr>\n",
       "      <td>21524</td>\n",
       "      <td>2</td>\n",
       "      <td>-1984.507589</td>\n",
       "      <td>40</td>\n",
       "      <td>secondary education</td>\n",
       "      <td>1</td>\n",
       "      <td>married</td>\n",
       "      <td>0</td>\n",
       "      <td>F</td>\n",
       "      <td>employee</td>\n",
       "      <td>0</td>\n",
       "      <td>13127.587</td>\n",
       "      <td>to buy a car</td>\n",
       "    </tr>\n",
       "  </tbody>\n",
       "</table>\n",
       "<p>21525 rows × 12 columns</p>\n",
       "</div>"
      ],
      "text/plain": [
       "       children  days_employed  dob_years            education  education_id  \\\n",
       "0             1   -8437.673028         42    bachelor's degree             0   \n",
       "1             1   -4024.803754         36  secondary education             1   \n",
       "2             0   -5623.422610         33  secondary education             1   \n",
       "3             3   -4124.747207         32  secondary education             1   \n",
       "4             0  340266.072047         53  secondary education             1   \n",
       "...         ...            ...        ...                  ...           ...   \n",
       "21520         1   -4529.316663         43  secondary education             1   \n",
       "21521         0  343937.404131         67  secondary education             1   \n",
       "21522         1   -2113.346888         38  secondary education             1   \n",
       "21523         3   -3112.481705         38  secondary education             1   \n",
       "21524         2   -1984.507589         40  secondary education             1   \n",
       "\n",
       "           family_status  family_status_id gender income_type  debt  \\\n",
       "0                married                 0      F    employee     0   \n",
       "1                married                 0      F    employee     0   \n",
       "2                married                 0      M    employee     0   \n",
       "3                married                 0      M    employee     0   \n",
       "4      civil partnership                 1      F     retiree     0   \n",
       "...                  ...               ...    ...         ...   ...   \n",
       "21520  civil partnership                 1      F    business     0   \n",
       "21521            married                 0      F     retiree     0   \n",
       "21522  civil partnership                 1      M    employee     1   \n",
       "21523            married                 0      M    employee     1   \n",
       "21524            married                 0      F    employee     0   \n",
       "\n",
       "       total_income                  purpose  \n",
       "0         40620.102    purchase of the house  \n",
       "1         17932.802             car purchase  \n",
       "2         23341.752    purchase of the house  \n",
       "3         42820.568  supplementary education  \n",
       "4         25378.572        to have a wedding  \n",
       "...             ...                      ...  \n",
       "21520     35966.698     housing transactions  \n",
       "21521     24959.969        purchase of a car  \n",
       "21522     14347.610                 property  \n",
       "21523     39054.888        buying my own car  \n",
       "21524     13127.587             to buy a car  \n",
       "\n",
       "[21525 rows x 12 columns]"
      ]
     },
     "execution_count": 9,
     "metadata": {},
     "output_type": "execute_result"
    }
   ],
   "source": [
    "credit_scoring['total_income'].unique()\n",
    "credit_scoring"
   ]
  },
  {
   "cell_type": "code",
   "execution_count": 10,
   "metadata": {},
   "outputs": [],
   "source": [
    "credit_scoring['days_employed'] = credit_scoring['days_employed'].abs()"
   ]
  },
  {
   "cell_type": "code",
   "execution_count": 11,
   "metadata": {},
   "outputs": [
    {
     "data": {
      "text/plain": [
       "count     21525\n",
       "unique        3\n",
       "top           F\n",
       "freq      14236\n",
       "Name: gender, dtype: object"
      ]
     },
     "execution_count": 11,
     "metadata": {},
     "output_type": "execute_result"
    }
   ],
   "source": [
    "credit_scoring['gender'].describe()"
   ]
  },
  {
   "cell_type": "code",
   "execution_count": 12,
   "metadata": {},
   "outputs": [
    {
     "data": {
      "text/plain": [
       "array([8437.67302776, 4024.80375385, 5623.42261023, ..., 2113.3468877 ,\n",
       "       3112.4817052 , 1984.50758853])"
      ]
     },
     "execution_count": 12,
     "metadata": {},
     "output_type": "execute_result"
    }
   ],
   "source": [
    "credit_scoring['days_employed'].unique()"
   ]
  },
  {
   "cell_type": "code",
   "execution_count": 13,
   "metadata": {},
   "outputs": [
    {
     "data": {
      "text/plain": [
       "count     19351.000000\n",
       "mean      66914.728907\n",
       "std      139030.880527\n",
       "min          24.141633\n",
       "25%         927.009265\n",
       "50%        2194.220567\n",
       "75%        5537.882441\n",
       "max      401755.400475\n",
       "Name: days_employed, dtype: float64"
      ]
     },
     "execution_count": 13,
     "metadata": {},
     "output_type": "execute_result"
    }
   ],
   "source": [
    "credit_scoring['days_employed'].describe()"
   ]
  },
  {
   "cell_type": "code",
   "execution_count": 14,
   "metadata": {},
   "outputs": [
    {
     "data": {
      "text/plain": [
       "array(['F', 'M', 'XNA'], dtype=object)"
      ]
     },
     "execution_count": 14,
     "metadata": {},
     "output_type": "execute_result"
    }
   ],
   "source": [
    "credit_scoring['gender'].unique()"
   ]
  },
  {
   "cell_type": "code",
   "execution_count": 15,
   "metadata": {},
   "outputs": [
    {
     "data": {
      "text/html": [
       "<div>\n",
       "<style scoped>\n",
       "    .dataframe tbody tr th:only-of-type {\n",
       "        vertical-align: middle;\n",
       "    }\n",
       "\n",
       "    .dataframe tbody tr th {\n",
       "        vertical-align: top;\n",
       "    }\n",
       "\n",
       "    .dataframe thead th {\n",
       "        text-align: right;\n",
       "    }\n",
       "</style>\n",
       "<table border=\"1\" class=\"dataframe\">\n",
       "  <thead>\n",
       "    <tr style=\"text-align: right;\">\n",
       "      <th></th>\n",
       "      <th>children</th>\n",
       "      <th>days_employed</th>\n",
       "      <th>dob_years</th>\n",
       "      <th>education</th>\n",
       "      <th>education_id</th>\n",
       "      <th>family_status</th>\n",
       "      <th>family_status_id</th>\n",
       "      <th>gender</th>\n",
       "      <th>income_type</th>\n",
       "      <th>debt</th>\n",
       "      <th>total_income</th>\n",
       "      <th>purpose</th>\n",
       "    </tr>\n",
       "  </thead>\n",
       "  <tbody>\n",
       "    <tr>\n",
       "      <td>10701</td>\n",
       "      <td>0</td>\n",
       "      <td>2358.600502</td>\n",
       "      <td>24</td>\n",
       "      <td>some college</td>\n",
       "      <td>2</td>\n",
       "      <td>civil partnership</td>\n",
       "      <td>1</td>\n",
       "      <td>XNA</td>\n",
       "      <td>business</td>\n",
       "      <td>0</td>\n",
       "      <td>32624.825</td>\n",
       "      <td>buy real estate</td>\n",
       "    </tr>\n",
       "  </tbody>\n",
       "</table>\n",
       "</div>"
      ],
      "text/plain": [
       "       children  days_employed  dob_years     education  education_id  \\\n",
       "10701         0    2358.600502         24  some college             2   \n",
       "\n",
       "           family_status  family_status_id gender income_type  debt  \\\n",
       "10701  civil partnership                 1    XNA    business     0   \n",
       "\n",
       "       total_income          purpose  \n",
       "10701     32624.825  buy real estate  "
      ]
     },
     "execution_count": 15,
     "metadata": {},
     "output_type": "execute_result"
    }
   ],
   "source": [
    "credit_scoring[credit_scoring['gender']=='XNA']"
   ]
  },
  {
   "cell_type": "markdown",
   "metadata": {},
   "source": [
    "### Conclusion"
   ]
  },
  {
   "cell_type": "markdown",
   "metadata": {},
   "source": [
    "After inspecting several columns i saw that there some strange values like family’s with -1 children and also days employed with negative values, and only 2 columns with missing values (days employed, total income). "
   ]
  },
  {
   "cell_type": "markdown",
   "metadata": {},
   "source": [
    "<div class=\"alert alert-danger\">\n",
    "<s><b>Reviewer's comment:</b> Please, check gender column as well.\n",
    "</div>"
   ]
  },
  {
   "cell_type": "markdown",
   "metadata": {},
   "source": [
    "in colomn \"gender\" only one row has strange value 'XNA'as it only one row and we cannot know the real gender i desided to live it like it is"
   ]
  },
  {
   "cell_type": "markdown",
   "metadata": {},
   "source": [
    "## Data preprocessing"
   ]
  },
  {
   "cell_type": "markdown",
   "metadata": {},
   "source": [
    "### Processing missing values"
   ]
  },
  {
   "cell_type": "code",
   "execution_count": 16,
   "metadata": {},
   "outputs": [
    {
     "name": "stdout",
     "output_type": "stream",
     "text": [
      "children 14149\n",
      "days_employed 0\n",
      "dob_years 101\n",
      "education 0\n",
      "education_id 5260\n",
      "family_status 0\n",
      "family_status_id 12380\n",
      "gender 0\n",
      "income_type 0\n",
      "debt 19784\n",
      "total_income 0\n",
      "purpose 0\n"
     ]
    }
   ],
   "source": [
    "for i in credit_scoring:\n",
    "    print(i, len(credit_scoring[credit_scoring[i]==0]))"
   ]
  },
  {
   "cell_type": "code",
   "execution_count": 17,
   "metadata": {},
   "outputs": [
    {
     "data": {
      "text/plain": [
       "children               0\n",
       "days_employed       2174\n",
       "dob_years              0\n",
       "education              0\n",
       "education_id           0\n",
       "family_status          0\n",
       "family_status_id       0\n",
       "gender                 0\n",
       "income_type            0\n",
       "debt                   0\n",
       "total_income        2174\n",
       "purpose                0\n",
       "dtype: int64"
      ]
     },
     "execution_count": 17,
     "metadata": {},
     "output_type": "execute_result"
    }
   ],
   "source": [
    "credit_scoring.isnull().sum()\n"
   ]
  },
  {
   "cell_type": "code",
   "execution_count": 18,
   "metadata": {},
   "outputs": [
    {
     "name": "stdout",
     "output_type": "stream",
     "text": [
      "days_employed\n",
      "total_income\n"
     ]
    }
   ],
   "source": [
    "for i in credit_scoring:\n",
    "    if credit_scoring[i].isnull().sum()>0:\n",
    "        print(i)"
   ]
  },
  {
   "cell_type": "code",
   "execution_count": 2,
   "metadata": {},
   "outputs": [
    {
     "ename": "NameError",
     "evalue": "name 'credit_scoring' is not defined",
     "output_type": "error",
     "traceback": [
      "\u001b[0;31m---------------------------------------------------------------------------\u001b[0m",
      "\u001b[0;31mNameError\u001b[0m                                 Traceback (most recent call last)",
      "\u001b[0;32m<ipython-input-2-71fea34aead8>\u001b[0m in \u001b[0;36m<module>\u001b[0;34m\u001b[0m\n\u001b[0;32m----> 1\u001b[0;31m \u001b[0mcredit_scoring\u001b[0m\u001b[0;34m[\u001b[0m\u001b[0;34m'total_income'\u001b[0m\u001b[0;34m]\u001b[0m\u001b[0;34m.\u001b[0m\u001b[0mdescribe\u001b[0m\u001b[0;34m(\u001b[0m\u001b[0;34m)\u001b[0m\u001b[0;34m\u001b[0m\u001b[0;34m\u001b[0m\u001b[0m\n\u001b[0m",
      "\u001b[0;31mNameError\u001b[0m: name 'credit_scoring' is not defined"
     ]
    }
   ],
   "source": [
    "credit_scoring['total_income'].describe()"
   ]
  },
  {
   "cell_type": "markdown",
   "metadata": {},
   "source": [
    "### Conclusion"
   ]
  },
  {
   "cell_type": "markdown",
   "metadata": {},
   "source": [
    "There only 2 columns with missing values  first column days employed we do not need fill in the values as no value in this column, we need to fill missing values only in  total income column."
   ]
  },
  {
   "cell_type": "markdown",
   "metadata": {},
   "source": [
    "<div class=\"alert alert-success\">\n",
    "<b>Reviewer's comment:</b> Okay, good point.\n",
    "</div>\n"
   ]
  },
  {
   "cell_type": "markdown",
   "metadata": {},
   "source": []
  },
  {
   "cell_type": "markdown",
   "metadata": {},
   "source": [
    "### Data type replacement"
   ]
  },
  {
   "cell_type": "code",
   "execution_count": 20,
   "metadata": {},
   "outputs": [],
   "source": [
    "credit_scoring['total_income_full'] = credit_scoring['total_income'].fillna(credit_scoring.groupby('income_type')['total_income'].transform('median'))\n"
   ]
  },
  {
   "cell_type": "code",
   "execution_count": 1,
   "metadata": {},
   "outputs": [
    {
     "ename": "NameError",
     "evalue": "name 'credit_scoring' is not defined",
     "output_type": "error",
     "traceback": [
      "\u001b[0;31m---------------------------------------------------------------------------\u001b[0m",
      "\u001b[0;31mNameError\u001b[0m                                 Traceback (most recent call last)",
      "\u001b[0;32m<ipython-input-1-4bd22313b49c>\u001b[0m in \u001b[0;36m<module>\u001b[0;34m\u001b[0m\n\u001b[0;32m----> 1\u001b[0;31m \u001b[0mcredit_scoring\u001b[0m\u001b[0;34m[\u001b[0m\u001b[0mcredit_scoring\u001b[0m\u001b[0;34m[\u001b[0m\u001b[0;34m'total_income'\u001b[0m\u001b[0;34m]\u001b[0m\u001b[0;34m.\u001b[0m\u001b[0misnull\u001b[0m\u001b[0;34m(\u001b[0m\u001b[0;34m)\u001b[0m\u001b[0;34m]\u001b[0m\u001b[0;34m\u001b[0m\u001b[0;34m\u001b[0m\u001b[0m\n\u001b[0m",
      "\u001b[0;31mNameError\u001b[0m: name 'credit_scoring' is not defined"
     ]
    }
   ],
   "source": [
    "credit_scoring[credit_scoring['total_income'].isnull()]"
   ]
  },
  {
   "cell_type": "code",
   "execution_count": 22,
   "metadata": {},
   "outputs": [],
   "source": [
    "credit_scoring['total_income_full1'] = credit_scoring['total_income'].fillna(credit_scoring.groupby(['income_type','education'])['total_income'].transform('median'))\n"
   ]
  },
  {
   "cell_type": "code",
   "execution_count": 23,
   "metadata": {},
   "outputs": [
    {
     "data": {
      "text/html": [
       "<div>\n",
       "<style scoped>\n",
       "    .dataframe tbody tr th:only-of-type {\n",
       "        vertical-align: middle;\n",
       "    }\n",
       "\n",
       "    .dataframe tbody tr th {\n",
       "        vertical-align: top;\n",
       "    }\n",
       "\n",
       "    .dataframe thead th {\n",
       "        text-align: right;\n",
       "    }\n",
       "</style>\n",
       "<table border=\"1\" class=\"dataframe\">\n",
       "  <thead>\n",
       "    <tr style=\"text-align: right;\">\n",
       "      <th></th>\n",
       "      <th>children</th>\n",
       "      <th>days_employed</th>\n",
       "      <th>dob_years</th>\n",
       "      <th>education</th>\n",
       "      <th>education_id</th>\n",
       "      <th>family_status</th>\n",
       "      <th>family_status_id</th>\n",
       "      <th>gender</th>\n",
       "      <th>income_type</th>\n",
       "      <th>debt</th>\n",
       "      <th>total_income</th>\n",
       "      <th>purpose</th>\n",
       "      <th>total_income_full</th>\n",
       "      <th>total_income_full1</th>\n",
       "    </tr>\n",
       "  </thead>\n",
       "  <tbody>\n",
       "    <tr>\n",
       "      <td>12</td>\n",
       "      <td>0</td>\n",
       "      <td>NaN</td>\n",
       "      <td>65</td>\n",
       "      <td>secondary education</td>\n",
       "      <td>1</td>\n",
       "      <td>civil partnership</td>\n",
       "      <td>1</td>\n",
       "      <td>M</td>\n",
       "      <td>retiree</td>\n",
       "      <td>0</td>\n",
       "      <td>NaN</td>\n",
       "      <td>to have a wedding</td>\n",
       "      <td>18962.3180</td>\n",
       "      <td>18374.8570</td>\n",
       "    </tr>\n",
       "    <tr>\n",
       "      <td>26</td>\n",
       "      <td>0</td>\n",
       "      <td>NaN</td>\n",
       "      <td>41</td>\n",
       "      <td>secondary education</td>\n",
       "      <td>1</td>\n",
       "      <td>married</td>\n",
       "      <td>0</td>\n",
       "      <td>M</td>\n",
       "      <td>civil servant</td>\n",
       "      <td>0</td>\n",
       "      <td>NaN</td>\n",
       "      <td>education</td>\n",
       "      <td>24071.6695</td>\n",
       "      <td>21864.4750</td>\n",
       "    </tr>\n",
       "    <tr>\n",
       "      <td>29</td>\n",
       "      <td>0</td>\n",
       "      <td>NaN</td>\n",
       "      <td>63</td>\n",
       "      <td>secondary education</td>\n",
       "      <td>1</td>\n",
       "      <td>unmarried</td>\n",
       "      <td>4</td>\n",
       "      <td>F</td>\n",
       "      <td>retiree</td>\n",
       "      <td>0</td>\n",
       "      <td>NaN</td>\n",
       "      <td>building a real estate</td>\n",
       "      <td>18962.3180</td>\n",
       "      <td>18374.8570</td>\n",
       "    </tr>\n",
       "    <tr>\n",
       "      <td>41</td>\n",
       "      <td>0</td>\n",
       "      <td>NaN</td>\n",
       "      <td>50</td>\n",
       "      <td>secondary education</td>\n",
       "      <td>1</td>\n",
       "      <td>married</td>\n",
       "      <td>0</td>\n",
       "      <td>F</td>\n",
       "      <td>civil servant</td>\n",
       "      <td>0</td>\n",
       "      <td>NaN</td>\n",
       "      <td>second-hand car purchase</td>\n",
       "      <td>24071.6695</td>\n",
       "      <td>21864.4750</td>\n",
       "    </tr>\n",
       "    <tr>\n",
       "      <td>55</td>\n",
       "      <td>0</td>\n",
       "      <td>NaN</td>\n",
       "      <td>54</td>\n",
       "      <td>secondary education</td>\n",
       "      <td>1</td>\n",
       "      <td>civil partnership</td>\n",
       "      <td>1</td>\n",
       "      <td>F</td>\n",
       "      <td>retiree</td>\n",
       "      <td>1</td>\n",
       "      <td>NaN</td>\n",
       "      <td>to have a wedding</td>\n",
       "      <td>18962.3180</td>\n",
       "      <td>18374.8570</td>\n",
       "    </tr>\n",
       "    <tr>\n",
       "      <td>...</td>\n",
       "      <td>...</td>\n",
       "      <td>...</td>\n",
       "      <td>...</td>\n",
       "      <td>...</td>\n",
       "      <td>...</td>\n",
       "      <td>...</td>\n",
       "      <td>...</td>\n",
       "      <td>...</td>\n",
       "      <td>...</td>\n",
       "      <td>...</td>\n",
       "      <td>...</td>\n",
       "      <td>...</td>\n",
       "      <td>...</td>\n",
       "      <td>...</td>\n",
       "    </tr>\n",
       "    <tr>\n",
       "      <td>21489</td>\n",
       "      <td>2</td>\n",
       "      <td>NaN</td>\n",
       "      <td>47</td>\n",
       "      <td>secondary education</td>\n",
       "      <td>1</td>\n",
       "      <td>married</td>\n",
       "      <td>0</td>\n",
       "      <td>M</td>\n",
       "      <td>business</td>\n",
       "      <td>0</td>\n",
       "      <td>NaN</td>\n",
       "      <td>purchase of a car</td>\n",
       "      <td>27577.2720</td>\n",
       "      <td>25451.3100</td>\n",
       "    </tr>\n",
       "    <tr>\n",
       "      <td>21495</td>\n",
       "      <td>1</td>\n",
       "      <td>NaN</td>\n",
       "      <td>50</td>\n",
       "      <td>secondary education</td>\n",
       "      <td>1</td>\n",
       "      <td>civil partnership</td>\n",
       "      <td>1</td>\n",
       "      <td>F</td>\n",
       "      <td>employee</td>\n",
       "      <td>0</td>\n",
       "      <td>NaN</td>\n",
       "      <td>wedding ceremony</td>\n",
       "      <td>22815.1035</td>\n",
       "      <td>21848.8175</td>\n",
       "    </tr>\n",
       "    <tr>\n",
       "      <td>21497</td>\n",
       "      <td>0</td>\n",
       "      <td>NaN</td>\n",
       "      <td>48</td>\n",
       "      <td>bachelor's degree</td>\n",
       "      <td>0</td>\n",
       "      <td>married</td>\n",
       "      <td>0</td>\n",
       "      <td>F</td>\n",
       "      <td>business</td>\n",
       "      <td>0</td>\n",
       "      <td>NaN</td>\n",
       "      <td>building a property</td>\n",
       "      <td>27577.2720</td>\n",
       "      <td>32285.6640</td>\n",
       "    </tr>\n",
       "    <tr>\n",
       "      <td>21502</td>\n",
       "      <td>1</td>\n",
       "      <td>NaN</td>\n",
       "      <td>42</td>\n",
       "      <td>secondary education</td>\n",
       "      <td>1</td>\n",
       "      <td>married</td>\n",
       "      <td>0</td>\n",
       "      <td>F</td>\n",
       "      <td>employee</td>\n",
       "      <td>0</td>\n",
       "      <td>NaN</td>\n",
       "      <td>building a real estate</td>\n",
       "      <td>22815.1035</td>\n",
       "      <td>21848.8175</td>\n",
       "    </tr>\n",
       "    <tr>\n",
       "      <td>21510</td>\n",
       "      <td>2</td>\n",
       "      <td>NaN</td>\n",
       "      <td>28</td>\n",
       "      <td>secondary education</td>\n",
       "      <td>1</td>\n",
       "      <td>married</td>\n",
       "      <td>0</td>\n",
       "      <td>F</td>\n",
       "      <td>employee</td>\n",
       "      <td>0</td>\n",
       "      <td>NaN</td>\n",
       "      <td>car purchase</td>\n",
       "      <td>22815.1035</td>\n",
       "      <td>21848.8175</td>\n",
       "    </tr>\n",
       "  </tbody>\n",
       "</table>\n",
       "<p>2174 rows × 14 columns</p>\n",
       "</div>"
      ],
      "text/plain": [
       "       children  days_employed  dob_years            education  education_id  \\\n",
       "12            0            NaN         65  secondary education             1   \n",
       "26            0            NaN         41  secondary education             1   \n",
       "29            0            NaN         63  secondary education             1   \n",
       "41            0            NaN         50  secondary education             1   \n",
       "55            0            NaN         54  secondary education             1   \n",
       "...         ...            ...        ...                  ...           ...   \n",
       "21489         2            NaN         47  secondary education             1   \n",
       "21495         1            NaN         50  secondary education             1   \n",
       "21497         0            NaN         48    bachelor's degree             0   \n",
       "21502         1            NaN         42  secondary education             1   \n",
       "21510         2            NaN         28  secondary education             1   \n",
       "\n",
       "           family_status  family_status_id gender    income_type  debt  \\\n",
       "12     civil partnership                 1      M        retiree     0   \n",
       "26               married                 0      M  civil servant     0   \n",
       "29             unmarried                 4      F        retiree     0   \n",
       "41               married                 0      F  civil servant     0   \n",
       "55     civil partnership                 1      F        retiree     1   \n",
       "...                  ...               ...    ...            ...   ...   \n",
       "21489            married                 0      M       business     0   \n",
       "21495  civil partnership                 1      F       employee     0   \n",
       "21497            married                 0      F       business     0   \n",
       "21502            married                 0      F       employee     0   \n",
       "21510            married                 0      F       employee     0   \n",
       "\n",
       "       total_income                   purpose  total_income_full  \\\n",
       "12              NaN         to have a wedding         18962.3180   \n",
       "26              NaN                 education         24071.6695   \n",
       "29              NaN    building a real estate         18962.3180   \n",
       "41              NaN  second-hand car purchase         24071.6695   \n",
       "55              NaN         to have a wedding         18962.3180   \n",
       "...             ...                       ...                ...   \n",
       "21489           NaN         purchase of a car         27577.2720   \n",
       "21495           NaN          wedding ceremony         22815.1035   \n",
       "21497           NaN       building a property         27577.2720   \n",
       "21502           NaN    building a real estate         22815.1035   \n",
       "21510           NaN              car purchase         22815.1035   \n",
       "\n",
       "       total_income_full1  \n",
       "12             18374.8570  \n",
       "26             21864.4750  \n",
       "29             18374.8570  \n",
       "41             21864.4750  \n",
       "55             18374.8570  \n",
       "...                   ...  \n",
       "21489          25451.3100  \n",
       "21495          21848.8175  \n",
       "21497          32285.6640  \n",
       "21502          21848.8175  \n",
       "21510          21848.8175  \n",
       "\n",
       "[2174 rows x 14 columns]"
      ]
     },
     "execution_count": 23,
     "metadata": {},
     "output_type": "execute_result"
    }
   ],
   "source": [
    "credit_scoring[credit_scoring['total_income'].isnull()]"
   ]
  },
  {
   "cell_type": "code",
   "execution_count": 24,
   "metadata": {},
   "outputs": [
    {
     "data": {
      "text/plain": [
       "income_type                  education_id\n",
       "business                     0               32285.6640\n",
       "                             1               25451.3100\n",
       "                             2               28778.7440\n",
       "                             3               21887.8250\n",
       "civil servant                0               27601.7775\n",
       "                             1               21864.4750\n",
       "                             2               25694.7750\n",
       "                             3               23734.2870\n",
       "                             4               17822.7570\n",
       "employee                     0               26502.5190\n",
       "                             1               21848.8175\n",
       "                             2               24209.4300\n",
       "                             3               20159.1860\n",
       "                             4               31771.3210\n",
       "entrepreneur                 0               79866.1030\n",
       "paternity / maternity leave  1                8612.6610\n",
       "retiree                      0               23078.5230\n",
       "                             1               18374.8570\n",
       "                             2               19221.9030\n",
       "                             3               16415.7850\n",
       "                             4               28334.2150\n",
       "student                      0               15712.2600\n",
       "unemployed                   0               32435.6020\n",
       "                             1                9593.1190\n",
       "Name: total_income, dtype: float64"
      ]
     },
     "execution_count": 24,
     "metadata": {},
     "output_type": "execute_result"
    }
   ],
   "source": [
    "grouped = credit_scoring.groupby(['income_type','education_id'])['total_income'].median()\n",
    "grouped"
   ]
  },
  {
   "cell_type": "markdown",
   "metadata": {},
   "source": [
    "### Conclusion"
   ]
  },
  {
   "cell_type": "markdown",
   "metadata": {},
   "source": [
    "I decided to fill the missing values with median value as in total income there is outliers ,the new values we stored in nee columns total income full column  "
   ]
  },
  {
   "cell_type": "markdown",
   "metadata": {},
   "source": [
    "<div class=\"alert alert-success\">\n",
    "<b>Reviewer's comment:</b> Ok, I agree with you.\n",
    "</div>"
   ]
  },
  {
   "cell_type": "markdown",
   "metadata": {},
   "source": [
    "---"
   ]
  },
  {
   "cell_type": "markdown",
   "metadata": {},
   "source": [
    "<div class=\"alert alert-danger\">\n",
    "<b>Reviewer's comment:</b> Please, pay attention to the <code>days_employed</code> and <code>gender</code> columns.\n",
    "</div>"
   ]
  },
  {
   "cell_type": "markdown",
   "metadata": {},
   "source": [
    "<div class=\"alert alert-danger\">\n",
    "<b>Reviewer's comment v2:</b> <code>days_employed</code> columns still contains abnormal values.\n",
    "</div>\n"
   ]
  },
  {
   "cell_type": "markdown",
   "metadata": {},
   "source": [
    "### Processing duplicates"
   ]
  },
  {
   "cell_type": "code",
   "execution_count": 25,
   "metadata": {},
   "outputs": [
    {
     "data": {
      "text/plain": [
       "71"
      ]
     },
     "execution_count": 25,
     "metadata": {},
     "output_type": "execute_result"
    }
   ],
   "source": [
    "credit_scoring.duplicated().sum()"
   ]
  },
  {
   "cell_type": "markdown",
   "metadata": {},
   "source": [
    "### Conclusion"
   ]
  },
  {
   "cell_type": "markdown",
   "metadata": {},
   "source": [
    "As I saw there were no unique columns with unique values so I didn’t remove any duplicates "
   ]
  },
  {
   "cell_type": "markdown",
   "metadata": {},
   "source": [
    "### Categorizing Data"
   ]
  },
  {
   "cell_type": "code",
   "execution_count": 26,
   "metadata": {},
   "outputs": [
    {
     "data": {
      "text/plain": [
       "count     21525.000000\n",
       "mean      26436.051922\n",
       "std       15686.986477\n",
       "min        3306.762000\n",
       "25%       17247.708000\n",
       "50%       22815.103500\n",
       "75%       31287.991000\n",
       "max      362496.645000\n",
       "Name: total_income_full, dtype: float64"
      ]
     },
     "execution_count": 26,
     "metadata": {},
     "output_type": "execute_result"
    }
   ],
   "source": [
    "credit_scoring['total_income_full'].describe()"
   ]
  },
  {
   "cell_type": "code",
   "execution_count": 27,
   "metadata": {},
   "outputs": [],
   "source": [
    "def income_cat(x):\n",
    "    if x <= 17247:\n",
    "        return'low'\n",
    "    if 17247 <x<= 22815.103500:\n",
    "        return 'medium'\n",
    "    if 22815.103500 <x<= 31287.991000:\n",
    "        return 'high'\n",
    "    if x > 31287.991000:\n",
    "        return 'extra_high'\n",
    "    return 'other'\n",
    "  \n",
    "    \n"
   ]
  },
  {
   "cell_type": "markdown",
   "metadata": {},
   "source": [
    "<div class=\"alert alert-warning\">\n",
    "<b>Reviewer's comment:</b> Small hint: you can optimize this step with pd.cut method: <a>https://www.geeksforgeeks.org/pandas-cut-method-in-python/</a>\n",
    "</div>\n"
   ]
  },
  {
   "cell_type": "code",
   "execution_count": 28,
   "metadata": {},
   "outputs": [
    {
     "data": {
      "text/plain": [
       "'low'"
      ]
     },
     "execution_count": 28,
     "metadata": {},
     "output_type": "execute_result"
    }
   ],
   "source": [
    "income_cat(11287)"
   ]
  },
  {
   "cell_type": "code",
   "execution_count": 29,
   "metadata": {},
   "outputs": [
    {
     "data": {
      "text/html": [
       "<div>\n",
       "<style scoped>\n",
       "    .dataframe tbody tr th:only-of-type {\n",
       "        vertical-align: middle;\n",
       "    }\n",
       "\n",
       "    .dataframe tbody tr th {\n",
       "        vertical-align: top;\n",
       "    }\n",
       "\n",
       "    .dataframe thead th {\n",
       "        text-align: right;\n",
       "    }\n",
       "</style>\n",
       "<table border=\"1\" class=\"dataframe\">\n",
       "  <thead>\n",
       "    <tr style=\"text-align: right;\">\n",
       "      <th></th>\n",
       "      <th>children</th>\n",
       "      <th>days_employed</th>\n",
       "      <th>dob_years</th>\n",
       "      <th>education</th>\n",
       "      <th>education_id</th>\n",
       "      <th>family_status</th>\n",
       "      <th>family_status_id</th>\n",
       "      <th>gender</th>\n",
       "      <th>income_type</th>\n",
       "      <th>debt</th>\n",
       "      <th>total_income</th>\n",
       "      <th>purpose</th>\n",
       "      <th>total_income_full</th>\n",
       "      <th>total_income_full1</th>\n",
       "    </tr>\n",
       "  </thead>\n",
       "  <tbody>\n",
       "    <tr>\n",
       "      <td>0</td>\n",
       "      <td>1</td>\n",
       "      <td>8437.673028</td>\n",
       "      <td>42</td>\n",
       "      <td>bachelor's degree</td>\n",
       "      <td>0</td>\n",
       "      <td>married</td>\n",
       "      <td>0</td>\n",
       "      <td>F</td>\n",
       "      <td>employee</td>\n",
       "      <td>0</td>\n",
       "      <td>40620.102</td>\n",
       "      <td>purchase of the house</td>\n",
       "      <td>40620.102</td>\n",
       "      <td>40620.102</td>\n",
       "    </tr>\n",
       "    <tr>\n",
       "      <td>1</td>\n",
       "      <td>1</td>\n",
       "      <td>4024.803754</td>\n",
       "      <td>36</td>\n",
       "      <td>secondary education</td>\n",
       "      <td>1</td>\n",
       "      <td>married</td>\n",
       "      <td>0</td>\n",
       "      <td>F</td>\n",
       "      <td>employee</td>\n",
       "      <td>0</td>\n",
       "      <td>17932.802</td>\n",
       "      <td>car purchase</td>\n",
       "      <td>17932.802</td>\n",
       "      <td>17932.802</td>\n",
       "    </tr>\n",
       "    <tr>\n",
       "      <td>2</td>\n",
       "      <td>0</td>\n",
       "      <td>5623.422610</td>\n",
       "      <td>33</td>\n",
       "      <td>secondary education</td>\n",
       "      <td>1</td>\n",
       "      <td>married</td>\n",
       "      <td>0</td>\n",
       "      <td>M</td>\n",
       "      <td>employee</td>\n",
       "      <td>0</td>\n",
       "      <td>23341.752</td>\n",
       "      <td>purchase of the house</td>\n",
       "      <td>23341.752</td>\n",
       "      <td>23341.752</td>\n",
       "    </tr>\n",
       "    <tr>\n",
       "      <td>3</td>\n",
       "      <td>3</td>\n",
       "      <td>4124.747207</td>\n",
       "      <td>32</td>\n",
       "      <td>secondary education</td>\n",
       "      <td>1</td>\n",
       "      <td>married</td>\n",
       "      <td>0</td>\n",
       "      <td>M</td>\n",
       "      <td>employee</td>\n",
       "      <td>0</td>\n",
       "      <td>42820.568</td>\n",
       "      <td>supplementary education</td>\n",
       "      <td>42820.568</td>\n",
       "      <td>42820.568</td>\n",
       "    </tr>\n",
       "    <tr>\n",
       "      <td>4</td>\n",
       "      <td>0</td>\n",
       "      <td>340266.072047</td>\n",
       "      <td>53</td>\n",
       "      <td>secondary education</td>\n",
       "      <td>1</td>\n",
       "      <td>civil partnership</td>\n",
       "      <td>1</td>\n",
       "      <td>F</td>\n",
       "      <td>retiree</td>\n",
       "      <td>0</td>\n",
       "      <td>25378.572</td>\n",
       "      <td>to have a wedding</td>\n",
       "      <td>25378.572</td>\n",
       "      <td>25378.572</td>\n",
       "    </tr>\n",
       "    <tr>\n",
       "      <td>5</td>\n",
       "      <td>0</td>\n",
       "      <td>926.185831</td>\n",
       "      <td>27</td>\n",
       "      <td>bachelor's degree</td>\n",
       "      <td>0</td>\n",
       "      <td>civil partnership</td>\n",
       "      <td>1</td>\n",
       "      <td>M</td>\n",
       "      <td>business</td>\n",
       "      <td>0</td>\n",
       "      <td>40922.170</td>\n",
       "      <td>purchase of the house</td>\n",
       "      <td>40922.170</td>\n",
       "      <td>40922.170</td>\n",
       "    </tr>\n",
       "    <tr>\n",
       "      <td>6</td>\n",
       "      <td>0</td>\n",
       "      <td>2879.202052</td>\n",
       "      <td>43</td>\n",
       "      <td>bachelor's degree</td>\n",
       "      <td>0</td>\n",
       "      <td>married</td>\n",
       "      <td>0</td>\n",
       "      <td>F</td>\n",
       "      <td>business</td>\n",
       "      <td>0</td>\n",
       "      <td>38484.156</td>\n",
       "      <td>housing transactions</td>\n",
       "      <td>38484.156</td>\n",
       "      <td>38484.156</td>\n",
       "    </tr>\n",
       "    <tr>\n",
       "      <td>7</td>\n",
       "      <td>0</td>\n",
       "      <td>152.779569</td>\n",
       "      <td>50</td>\n",
       "      <td>secondary education</td>\n",
       "      <td>1</td>\n",
       "      <td>married</td>\n",
       "      <td>0</td>\n",
       "      <td>M</td>\n",
       "      <td>employee</td>\n",
       "      <td>0</td>\n",
       "      <td>21731.829</td>\n",
       "      <td>education</td>\n",
       "      <td>21731.829</td>\n",
       "      <td>21731.829</td>\n",
       "    </tr>\n",
       "    <tr>\n",
       "      <td>8</td>\n",
       "      <td>2</td>\n",
       "      <td>6929.865299</td>\n",
       "      <td>35</td>\n",
       "      <td>bachelor's degree</td>\n",
       "      <td>0</td>\n",
       "      <td>civil partnership</td>\n",
       "      <td>1</td>\n",
       "      <td>F</td>\n",
       "      <td>employee</td>\n",
       "      <td>0</td>\n",
       "      <td>15337.093</td>\n",
       "      <td>having a wedding</td>\n",
       "      <td>15337.093</td>\n",
       "      <td>15337.093</td>\n",
       "    </tr>\n",
       "    <tr>\n",
       "      <td>9</td>\n",
       "      <td>0</td>\n",
       "      <td>2188.756445</td>\n",
       "      <td>41</td>\n",
       "      <td>secondary education</td>\n",
       "      <td>1</td>\n",
       "      <td>married</td>\n",
       "      <td>0</td>\n",
       "      <td>M</td>\n",
       "      <td>employee</td>\n",
       "      <td>0</td>\n",
       "      <td>23108.150</td>\n",
       "      <td>purchase of the house for my family</td>\n",
       "      <td>23108.150</td>\n",
       "      <td>23108.150</td>\n",
       "    </tr>\n",
       "  </tbody>\n",
       "</table>\n",
       "</div>"
      ],
      "text/plain": [
       "   children  days_employed  dob_years            education  education_id  \\\n",
       "0         1    8437.673028         42    bachelor's degree             0   \n",
       "1         1    4024.803754         36  secondary education             1   \n",
       "2         0    5623.422610         33  secondary education             1   \n",
       "3         3    4124.747207         32  secondary education             1   \n",
       "4         0  340266.072047         53  secondary education             1   \n",
       "5         0     926.185831         27    bachelor's degree             0   \n",
       "6         0    2879.202052         43    bachelor's degree             0   \n",
       "7         0     152.779569         50  secondary education             1   \n",
       "8         2    6929.865299         35    bachelor's degree             0   \n",
       "9         0    2188.756445         41  secondary education             1   \n",
       "\n",
       "       family_status  family_status_id gender income_type  debt  total_income  \\\n",
       "0            married                 0      F    employee     0     40620.102   \n",
       "1            married                 0      F    employee     0     17932.802   \n",
       "2            married                 0      M    employee     0     23341.752   \n",
       "3            married                 0      M    employee     0     42820.568   \n",
       "4  civil partnership                 1      F     retiree     0     25378.572   \n",
       "5  civil partnership                 1      M    business     0     40922.170   \n",
       "6            married                 0      F    business     0     38484.156   \n",
       "7            married                 0      M    employee     0     21731.829   \n",
       "8  civil partnership                 1      F    employee     0     15337.093   \n",
       "9            married                 0      M    employee     0     23108.150   \n",
       "\n",
       "                               purpose  total_income_full  total_income_full1  \n",
       "0                purchase of the house          40620.102           40620.102  \n",
       "1                         car purchase          17932.802           17932.802  \n",
       "2                purchase of the house          23341.752           23341.752  \n",
       "3              supplementary education          42820.568           42820.568  \n",
       "4                    to have a wedding          25378.572           25378.572  \n",
       "5                purchase of the house          40922.170           40922.170  \n",
       "6                 housing transactions          38484.156           38484.156  \n",
       "7                            education          21731.829           21731.829  \n",
       "8                     having a wedding          15337.093           15337.093  \n",
       "9  purchase of the house for my family          23108.150           23108.150  "
      ]
     },
     "execution_count": 29,
     "metadata": {},
     "output_type": "execute_result"
    }
   ],
   "source": [
    "credit_scoring.head(10)"
   ]
  },
  {
   "cell_type": "markdown",
   "metadata": {},
   "source": [
    "<div class=\"alert alert-danger\">\n",
    "<s><b>Reviewer's comment:</b> Same code error below. Make sure, that you saved your project before sending.\n",
    "</div>"
   ]
  },
  {
   "cell_type": "code",
   "execution_count": 30,
   "metadata": {},
   "outputs": [
    {
     "data": {
      "text/html": [
       "<div>\n",
       "<style scoped>\n",
       "    .dataframe tbody tr th:only-of-type {\n",
       "        vertical-align: middle;\n",
       "    }\n",
       "\n",
       "    .dataframe tbody tr th {\n",
       "        vertical-align: top;\n",
       "    }\n",
       "\n",
       "    .dataframe thead th {\n",
       "        text-align: right;\n",
       "    }\n",
       "</style>\n",
       "<table border=\"1\" class=\"dataframe\">\n",
       "  <thead>\n",
       "    <tr style=\"text-align: right;\">\n",
       "      <th></th>\n",
       "      <th>children</th>\n",
       "      <th>days_employed</th>\n",
       "      <th>dob_years</th>\n",
       "      <th>education</th>\n",
       "      <th>education_id</th>\n",
       "      <th>family_status</th>\n",
       "      <th>family_status_id</th>\n",
       "      <th>gender</th>\n",
       "      <th>income_type</th>\n",
       "      <th>debt</th>\n",
       "      <th>total_income</th>\n",
       "      <th>purpose</th>\n",
       "      <th>total_income_full</th>\n",
       "      <th>total_income_full1</th>\n",
       "      <th>income_cat</th>\n",
       "    </tr>\n",
       "  </thead>\n",
       "  <tbody>\n",
       "    <tr>\n",
       "      <td>0</td>\n",
       "      <td>1</td>\n",
       "      <td>8437.673028</td>\n",
       "      <td>42</td>\n",
       "      <td>bachelor's degree</td>\n",
       "      <td>0</td>\n",
       "      <td>married</td>\n",
       "      <td>0</td>\n",
       "      <td>F</td>\n",
       "      <td>employee</td>\n",
       "      <td>0</td>\n",
       "      <td>40620.102</td>\n",
       "      <td>purchase of the house</td>\n",
       "      <td>40620.102</td>\n",
       "      <td>40620.102</td>\n",
       "      <td>extra_high</td>\n",
       "    </tr>\n",
       "    <tr>\n",
       "      <td>1</td>\n",
       "      <td>1</td>\n",
       "      <td>4024.803754</td>\n",
       "      <td>36</td>\n",
       "      <td>secondary education</td>\n",
       "      <td>1</td>\n",
       "      <td>married</td>\n",
       "      <td>0</td>\n",
       "      <td>F</td>\n",
       "      <td>employee</td>\n",
       "      <td>0</td>\n",
       "      <td>17932.802</td>\n",
       "      <td>car purchase</td>\n",
       "      <td>17932.802</td>\n",
       "      <td>17932.802</td>\n",
       "      <td>medium</td>\n",
       "    </tr>\n",
       "    <tr>\n",
       "      <td>2</td>\n",
       "      <td>0</td>\n",
       "      <td>5623.422610</td>\n",
       "      <td>33</td>\n",
       "      <td>secondary education</td>\n",
       "      <td>1</td>\n",
       "      <td>married</td>\n",
       "      <td>0</td>\n",
       "      <td>M</td>\n",
       "      <td>employee</td>\n",
       "      <td>0</td>\n",
       "      <td>23341.752</td>\n",
       "      <td>purchase of the house</td>\n",
       "      <td>23341.752</td>\n",
       "      <td>23341.752</td>\n",
       "      <td>high</td>\n",
       "    </tr>\n",
       "    <tr>\n",
       "      <td>3</td>\n",
       "      <td>3</td>\n",
       "      <td>4124.747207</td>\n",
       "      <td>32</td>\n",
       "      <td>secondary education</td>\n",
       "      <td>1</td>\n",
       "      <td>married</td>\n",
       "      <td>0</td>\n",
       "      <td>M</td>\n",
       "      <td>employee</td>\n",
       "      <td>0</td>\n",
       "      <td>42820.568</td>\n",
       "      <td>supplementary education</td>\n",
       "      <td>42820.568</td>\n",
       "      <td>42820.568</td>\n",
       "      <td>extra_high</td>\n",
       "    </tr>\n",
       "    <tr>\n",
       "      <td>4</td>\n",
       "      <td>0</td>\n",
       "      <td>340266.072047</td>\n",
       "      <td>53</td>\n",
       "      <td>secondary education</td>\n",
       "      <td>1</td>\n",
       "      <td>civil partnership</td>\n",
       "      <td>1</td>\n",
       "      <td>F</td>\n",
       "      <td>retiree</td>\n",
       "      <td>0</td>\n",
       "      <td>25378.572</td>\n",
       "      <td>to have a wedding</td>\n",
       "      <td>25378.572</td>\n",
       "      <td>25378.572</td>\n",
       "      <td>high</td>\n",
       "    </tr>\n",
       "    <tr>\n",
       "      <td>5</td>\n",
       "      <td>0</td>\n",
       "      <td>926.185831</td>\n",
       "      <td>27</td>\n",
       "      <td>bachelor's degree</td>\n",
       "      <td>0</td>\n",
       "      <td>civil partnership</td>\n",
       "      <td>1</td>\n",
       "      <td>M</td>\n",
       "      <td>business</td>\n",
       "      <td>0</td>\n",
       "      <td>40922.170</td>\n",
       "      <td>purchase of the house</td>\n",
       "      <td>40922.170</td>\n",
       "      <td>40922.170</td>\n",
       "      <td>extra_high</td>\n",
       "    </tr>\n",
       "    <tr>\n",
       "      <td>6</td>\n",
       "      <td>0</td>\n",
       "      <td>2879.202052</td>\n",
       "      <td>43</td>\n",
       "      <td>bachelor's degree</td>\n",
       "      <td>0</td>\n",
       "      <td>married</td>\n",
       "      <td>0</td>\n",
       "      <td>F</td>\n",
       "      <td>business</td>\n",
       "      <td>0</td>\n",
       "      <td>38484.156</td>\n",
       "      <td>housing transactions</td>\n",
       "      <td>38484.156</td>\n",
       "      <td>38484.156</td>\n",
       "      <td>extra_high</td>\n",
       "    </tr>\n",
       "    <tr>\n",
       "      <td>7</td>\n",
       "      <td>0</td>\n",
       "      <td>152.779569</td>\n",
       "      <td>50</td>\n",
       "      <td>secondary education</td>\n",
       "      <td>1</td>\n",
       "      <td>married</td>\n",
       "      <td>0</td>\n",
       "      <td>M</td>\n",
       "      <td>employee</td>\n",
       "      <td>0</td>\n",
       "      <td>21731.829</td>\n",
       "      <td>education</td>\n",
       "      <td>21731.829</td>\n",
       "      <td>21731.829</td>\n",
       "      <td>medium</td>\n",
       "    </tr>\n",
       "    <tr>\n",
       "      <td>8</td>\n",
       "      <td>2</td>\n",
       "      <td>6929.865299</td>\n",
       "      <td>35</td>\n",
       "      <td>bachelor's degree</td>\n",
       "      <td>0</td>\n",
       "      <td>civil partnership</td>\n",
       "      <td>1</td>\n",
       "      <td>F</td>\n",
       "      <td>employee</td>\n",
       "      <td>0</td>\n",
       "      <td>15337.093</td>\n",
       "      <td>having a wedding</td>\n",
       "      <td>15337.093</td>\n",
       "      <td>15337.093</td>\n",
       "      <td>low</td>\n",
       "    </tr>\n",
       "    <tr>\n",
       "      <td>9</td>\n",
       "      <td>0</td>\n",
       "      <td>2188.756445</td>\n",
       "      <td>41</td>\n",
       "      <td>secondary education</td>\n",
       "      <td>1</td>\n",
       "      <td>married</td>\n",
       "      <td>0</td>\n",
       "      <td>M</td>\n",
       "      <td>employee</td>\n",
       "      <td>0</td>\n",
       "      <td>23108.150</td>\n",
       "      <td>purchase of the house for my family</td>\n",
       "      <td>23108.150</td>\n",
       "      <td>23108.150</td>\n",
       "      <td>high</td>\n",
       "    </tr>\n",
       "  </tbody>\n",
       "</table>\n",
       "</div>"
      ],
      "text/plain": [
       "   children  days_employed  dob_years            education  education_id  \\\n",
       "0         1    8437.673028         42    bachelor's degree             0   \n",
       "1         1    4024.803754         36  secondary education             1   \n",
       "2         0    5623.422610         33  secondary education             1   \n",
       "3         3    4124.747207         32  secondary education             1   \n",
       "4         0  340266.072047         53  secondary education             1   \n",
       "5         0     926.185831         27    bachelor's degree             0   \n",
       "6         0    2879.202052         43    bachelor's degree             0   \n",
       "7         0     152.779569         50  secondary education             1   \n",
       "8         2    6929.865299         35    bachelor's degree             0   \n",
       "9         0    2188.756445         41  secondary education             1   \n",
       "\n",
       "       family_status  family_status_id gender income_type  debt  total_income  \\\n",
       "0            married                 0      F    employee     0     40620.102   \n",
       "1            married                 0      F    employee     0     17932.802   \n",
       "2            married                 0      M    employee     0     23341.752   \n",
       "3            married                 0      M    employee     0     42820.568   \n",
       "4  civil partnership                 1      F     retiree     0     25378.572   \n",
       "5  civil partnership                 1      M    business     0     40922.170   \n",
       "6            married                 0      F    business     0     38484.156   \n",
       "7            married                 0      M    employee     0     21731.829   \n",
       "8  civil partnership                 1      F    employee     0     15337.093   \n",
       "9            married                 0      M    employee     0     23108.150   \n",
       "\n",
       "                               purpose  total_income_full  total_income_full1  \\\n",
       "0                purchase of the house          40620.102           40620.102   \n",
       "1                         car purchase          17932.802           17932.802   \n",
       "2                purchase of the house          23341.752           23341.752   \n",
       "3              supplementary education          42820.568           42820.568   \n",
       "4                    to have a wedding          25378.572           25378.572   \n",
       "5                purchase of the house          40922.170           40922.170   \n",
       "6                 housing transactions          38484.156           38484.156   \n",
       "7                            education          21731.829           21731.829   \n",
       "8                     having a wedding          15337.093           15337.093   \n",
       "9  purchase of the house for my family          23108.150           23108.150   \n",
       "\n",
       "   income_cat  \n",
       "0  extra_high  \n",
       "1      medium  \n",
       "2        high  \n",
       "3  extra_high  \n",
       "4        high  \n",
       "5  extra_high  \n",
       "6  extra_high  \n",
       "7      medium  \n",
       "8         low  \n",
       "9        high  "
      ]
     },
     "execution_count": 30,
     "metadata": {},
     "output_type": "execute_result"
    }
   ],
   "source": [
    "credit_scoring['income_cat'] = credit_scoring['total_income_full'].apply(income_cat)\n",
    "credit_scoring.head(10)"
   ]
  },
  {
   "cell_type": "code",
   "execution_count": 31,
   "metadata": {},
   "outputs": [
    {
     "data": {
      "text/plain": [
       "array(['extra_high', 'medium', 'high', 'low'], dtype=object)"
      ]
     },
     "execution_count": 31,
     "metadata": {},
     "output_type": "execute_result"
    }
   ],
   "source": [
    "credit_scoring['income_cat'].unique()\n"
   ]
  },
  {
   "cell_type": "code",
   "execution_count": 32,
   "metadata": {},
   "outputs": [
    {
     "data": {
      "text/plain": [
       "array(['purchase of the house', 'car purchase', 'supplementary education',\n",
       "       'to have a wedding', 'housing transactions', 'education',\n",
       "       'having a wedding', 'purchase of the house for my family',\n",
       "       'buy real estate', 'buy commercial real estate',\n",
       "       'buy residential real estate', 'construction of own property',\n",
       "       'property', 'building a property', 'buying a second-hand car',\n",
       "       'buying my own car', 'transactions with commercial real estate',\n",
       "       'building a real estate', 'housing',\n",
       "       'transactions with my real estate', 'cars', 'to become educated',\n",
       "       'second-hand car purchase', 'getting an education', 'car',\n",
       "       'wedding ceremony', 'to get a supplementary education',\n",
       "       'purchase of my own house', 'real estate transactions',\n",
       "       'getting higher education', 'to own a car', 'purchase of a car',\n",
       "       'profile education', 'university education',\n",
       "       'buying property for renting out', 'to buy a car',\n",
       "       'housing renovation', 'going to university'], dtype=object)"
      ]
     },
     "execution_count": 32,
     "metadata": {},
     "output_type": "execute_result"
    }
   ],
   "source": [
    "credit_scoring.purpose.unique()"
   ]
  },
  {
   "cell_type": "code",
   "execution_count": 33,
   "metadata": {},
   "outputs": [],
   "source": [
    "from pymystem3 import Mystem\n",
    "from collections import Counter"
   ]
  },
  {
   "cell_type": "code",
   "execution_count": 34,
   "metadata": {},
   "outputs": [],
   "source": [
    "m = Mystem()\n",
    "\n"
   ]
  },
  {
   "cell_type": "code",
   "execution_count": 35,
   "metadata": {},
   "outputs": [
    {
     "data": {
      "text/plain": [
       "['buying', ' ', 'my', ' ', 'own', ' ', 'car', '\\n']"
      ]
     },
     "execution_count": 35,
     "metadata": {},
     "output_type": "execute_result"
    }
   ],
   "source": [
    "m.lemmatize('buying my own car')"
   ]
  },
  {
   "cell_type": "code",
   "execution_count": 36,
   "metadata": {},
   "outputs": [],
   "source": [
    "car_category = ['car','cars']\n",
    "wedding_category = ['wedding']\n",
    "housing_category = ['housing','estate','house','property']\n",
    "education_category = ['education','university','educated']"
   ]
  },
  {
   "cell_type": "code",
   "execution_count": 37,
   "metadata": {},
   "outputs": [],
   "source": [
    "def lemmatization_func(line):\n",
    "    lemmatized = m.lemmatize(line)\n",
    "    return lemmatized "
   ]
  },
  {
   "cell_type": "code",
   "execution_count": 38,
   "metadata": {},
   "outputs": [
    {
     "data": {
      "text/plain": [
       "'going to university'"
      ]
     },
     "execution_count": 38,
     "metadata": {},
     "output_type": "execute_result"
    }
   ],
   "source": [
    "example = credit_scoring.loc[176]['purpose']  \n",
    "\n",
    "example "
   ]
  },
  {
   "cell_type": "code",
   "execution_count": 39,
   "metadata": {},
   "outputs": [
    {
     "data": {
      "text/plain": [
       "['going', ' ', 'to', ' ', 'university', '\\n']"
      ]
     },
     "execution_count": 39,
     "metadata": {},
     "output_type": "execute_result"
    }
   ],
   "source": [
    "lemmatization_func(example)"
   ]
  },
  {
   "cell_type": "code",
   "execution_count": 40,
   "metadata": {},
   "outputs": [
    {
     "data": {
      "text/plain": [
       "True"
      ]
     },
     "execution_count": 40,
     "metadata": {},
     "output_type": "execute_result"
    }
   ],
   "source": [
    "any(word in lemmatization_func(example) for word in education_category)"
   ]
  },
  {
   "cell_type": "code",
   "execution_count": 41,
   "metadata": {},
   "outputs": [],
   "source": [
    "def lemmatization_func(line):\n",
    "    lemmatized = m.lemmatize(line)\n",
    "    if any(word in lemmatized for word in housing_category):\n",
    "        return'housing'\n",
    "    elif any(word in lemmatized for word in car_category):\n",
    "        return'car'\n",
    "    elif any(word in lemmatized for word in wedding_category):\n",
    "        return 'wedding'\n",
    "    elif any(word in lemmatized for word in education_category):\n",
    "        return 'education'\n",
    "    else:\n",
    "        return 'other'\n",
    "    \n",
    "    \n",
    "    "
   ]
  },
  {
   "cell_type": "code",
   "execution_count": 42,
   "metadata": {},
   "outputs": [],
   "source": [
    "credit_scoring['purpose_cat'] = credit_scoring['purpose'].apply(lemmatization_func)"
   ]
  },
  {
   "cell_type": "markdown",
   "metadata": {},
   "source": [
    "<div class=\"alert alert-success\">\n",
    "<b>Reviewer's comment v2:</b> Ok, accepted.\n",
    "</div>\n"
   ]
  },
  {
   "cell_type": "code",
   "execution_count": 43,
   "metadata": {},
   "outputs": [
    {
     "data": {
      "text/plain": [
       "housing      10840\n",
       "car           4315\n",
       "education     4022\n",
       "wedding       2348\n",
       "Name: purpose_cat, dtype: int64"
      ]
     },
     "execution_count": 43,
     "metadata": {},
     "output_type": "execute_result"
    }
   ],
   "source": [
    "credit_scoring['purpose_cat'].value_counts()\n"
   ]
  },
  {
   "cell_type": "code",
   "execution_count": 44,
   "metadata": {},
   "outputs": [
    {
     "data": {
      "text/html": [
       "<div>\n",
       "<style scoped>\n",
       "    .dataframe tbody tr th:only-of-type {\n",
       "        vertical-align: middle;\n",
       "    }\n",
       "\n",
       "    .dataframe tbody tr th {\n",
       "        vertical-align: top;\n",
       "    }\n",
       "\n",
       "    .dataframe thead th {\n",
       "        text-align: right;\n",
       "    }\n",
       "</style>\n",
       "<table border=\"1\" class=\"dataframe\">\n",
       "  <thead>\n",
       "    <tr style=\"text-align: right;\">\n",
       "      <th></th>\n",
       "      <th>children</th>\n",
       "      <th>days_employed</th>\n",
       "      <th>dob_years</th>\n",
       "      <th>education</th>\n",
       "      <th>education_id</th>\n",
       "      <th>family_status</th>\n",
       "      <th>family_status_id</th>\n",
       "      <th>gender</th>\n",
       "      <th>income_type</th>\n",
       "      <th>debt</th>\n",
       "      <th>total_income</th>\n",
       "      <th>purpose</th>\n",
       "      <th>total_income_full</th>\n",
       "      <th>total_income_full1</th>\n",
       "      <th>income_cat</th>\n",
       "      <th>purpose_cat</th>\n",
       "    </tr>\n",
       "  </thead>\n",
       "  <tbody>\n",
       "    <tr>\n",
       "      <td>0</td>\n",
       "      <td>1</td>\n",
       "      <td>8437.673028</td>\n",
       "      <td>42</td>\n",
       "      <td>bachelor's degree</td>\n",
       "      <td>0</td>\n",
       "      <td>married</td>\n",
       "      <td>0</td>\n",
       "      <td>F</td>\n",
       "      <td>employee</td>\n",
       "      <td>0</td>\n",
       "      <td>40620.102</td>\n",
       "      <td>purchase of the house</td>\n",
       "      <td>40620.102</td>\n",
       "      <td>40620.102</td>\n",
       "      <td>extra_high</td>\n",
       "      <td>housing</td>\n",
       "    </tr>\n",
       "    <tr>\n",
       "      <td>1</td>\n",
       "      <td>1</td>\n",
       "      <td>4024.803754</td>\n",
       "      <td>36</td>\n",
       "      <td>secondary education</td>\n",
       "      <td>1</td>\n",
       "      <td>married</td>\n",
       "      <td>0</td>\n",
       "      <td>F</td>\n",
       "      <td>employee</td>\n",
       "      <td>0</td>\n",
       "      <td>17932.802</td>\n",
       "      <td>car purchase</td>\n",
       "      <td>17932.802</td>\n",
       "      <td>17932.802</td>\n",
       "      <td>medium</td>\n",
       "      <td>car</td>\n",
       "    </tr>\n",
       "    <tr>\n",
       "      <td>2</td>\n",
       "      <td>0</td>\n",
       "      <td>5623.422610</td>\n",
       "      <td>33</td>\n",
       "      <td>secondary education</td>\n",
       "      <td>1</td>\n",
       "      <td>married</td>\n",
       "      <td>0</td>\n",
       "      <td>M</td>\n",
       "      <td>employee</td>\n",
       "      <td>0</td>\n",
       "      <td>23341.752</td>\n",
       "      <td>purchase of the house</td>\n",
       "      <td>23341.752</td>\n",
       "      <td>23341.752</td>\n",
       "      <td>high</td>\n",
       "      <td>housing</td>\n",
       "    </tr>\n",
       "    <tr>\n",
       "      <td>3</td>\n",
       "      <td>3</td>\n",
       "      <td>4124.747207</td>\n",
       "      <td>32</td>\n",
       "      <td>secondary education</td>\n",
       "      <td>1</td>\n",
       "      <td>married</td>\n",
       "      <td>0</td>\n",
       "      <td>M</td>\n",
       "      <td>employee</td>\n",
       "      <td>0</td>\n",
       "      <td>42820.568</td>\n",
       "      <td>supplementary education</td>\n",
       "      <td>42820.568</td>\n",
       "      <td>42820.568</td>\n",
       "      <td>extra_high</td>\n",
       "      <td>education</td>\n",
       "    </tr>\n",
       "    <tr>\n",
       "      <td>4</td>\n",
       "      <td>0</td>\n",
       "      <td>340266.072047</td>\n",
       "      <td>53</td>\n",
       "      <td>secondary education</td>\n",
       "      <td>1</td>\n",
       "      <td>civil partnership</td>\n",
       "      <td>1</td>\n",
       "      <td>F</td>\n",
       "      <td>retiree</td>\n",
       "      <td>0</td>\n",
       "      <td>25378.572</td>\n",
       "      <td>to have a wedding</td>\n",
       "      <td>25378.572</td>\n",
       "      <td>25378.572</td>\n",
       "      <td>high</td>\n",
       "      <td>wedding</td>\n",
       "    </tr>\n",
       "    <tr>\n",
       "      <td>5</td>\n",
       "      <td>0</td>\n",
       "      <td>926.185831</td>\n",
       "      <td>27</td>\n",
       "      <td>bachelor's degree</td>\n",
       "      <td>0</td>\n",
       "      <td>civil partnership</td>\n",
       "      <td>1</td>\n",
       "      <td>M</td>\n",
       "      <td>business</td>\n",
       "      <td>0</td>\n",
       "      <td>40922.170</td>\n",
       "      <td>purchase of the house</td>\n",
       "      <td>40922.170</td>\n",
       "      <td>40922.170</td>\n",
       "      <td>extra_high</td>\n",
       "      <td>housing</td>\n",
       "    </tr>\n",
       "    <tr>\n",
       "      <td>6</td>\n",
       "      <td>0</td>\n",
       "      <td>2879.202052</td>\n",
       "      <td>43</td>\n",
       "      <td>bachelor's degree</td>\n",
       "      <td>0</td>\n",
       "      <td>married</td>\n",
       "      <td>0</td>\n",
       "      <td>F</td>\n",
       "      <td>business</td>\n",
       "      <td>0</td>\n",
       "      <td>38484.156</td>\n",
       "      <td>housing transactions</td>\n",
       "      <td>38484.156</td>\n",
       "      <td>38484.156</td>\n",
       "      <td>extra_high</td>\n",
       "      <td>housing</td>\n",
       "    </tr>\n",
       "    <tr>\n",
       "      <td>7</td>\n",
       "      <td>0</td>\n",
       "      <td>152.779569</td>\n",
       "      <td>50</td>\n",
       "      <td>secondary education</td>\n",
       "      <td>1</td>\n",
       "      <td>married</td>\n",
       "      <td>0</td>\n",
       "      <td>M</td>\n",
       "      <td>employee</td>\n",
       "      <td>0</td>\n",
       "      <td>21731.829</td>\n",
       "      <td>education</td>\n",
       "      <td>21731.829</td>\n",
       "      <td>21731.829</td>\n",
       "      <td>medium</td>\n",
       "      <td>education</td>\n",
       "    </tr>\n",
       "    <tr>\n",
       "      <td>8</td>\n",
       "      <td>2</td>\n",
       "      <td>6929.865299</td>\n",
       "      <td>35</td>\n",
       "      <td>bachelor's degree</td>\n",
       "      <td>0</td>\n",
       "      <td>civil partnership</td>\n",
       "      <td>1</td>\n",
       "      <td>F</td>\n",
       "      <td>employee</td>\n",
       "      <td>0</td>\n",
       "      <td>15337.093</td>\n",
       "      <td>having a wedding</td>\n",
       "      <td>15337.093</td>\n",
       "      <td>15337.093</td>\n",
       "      <td>low</td>\n",
       "      <td>wedding</td>\n",
       "    </tr>\n",
       "    <tr>\n",
       "      <td>9</td>\n",
       "      <td>0</td>\n",
       "      <td>2188.756445</td>\n",
       "      <td>41</td>\n",
       "      <td>secondary education</td>\n",
       "      <td>1</td>\n",
       "      <td>married</td>\n",
       "      <td>0</td>\n",
       "      <td>M</td>\n",
       "      <td>employee</td>\n",
       "      <td>0</td>\n",
       "      <td>23108.150</td>\n",
       "      <td>purchase of the house for my family</td>\n",
       "      <td>23108.150</td>\n",
       "      <td>23108.150</td>\n",
       "      <td>high</td>\n",
       "      <td>housing</td>\n",
       "    </tr>\n",
       "  </tbody>\n",
       "</table>\n",
       "</div>"
      ],
      "text/plain": [
       "   children  days_employed  dob_years            education  education_id  \\\n",
       "0         1    8437.673028         42    bachelor's degree             0   \n",
       "1         1    4024.803754         36  secondary education             1   \n",
       "2         0    5623.422610         33  secondary education             1   \n",
       "3         3    4124.747207         32  secondary education             1   \n",
       "4         0  340266.072047         53  secondary education             1   \n",
       "5         0     926.185831         27    bachelor's degree             0   \n",
       "6         0    2879.202052         43    bachelor's degree             0   \n",
       "7         0     152.779569         50  secondary education             1   \n",
       "8         2    6929.865299         35    bachelor's degree             0   \n",
       "9         0    2188.756445         41  secondary education             1   \n",
       "\n",
       "       family_status  family_status_id gender income_type  debt  total_income  \\\n",
       "0            married                 0      F    employee     0     40620.102   \n",
       "1            married                 0      F    employee     0     17932.802   \n",
       "2            married                 0      M    employee     0     23341.752   \n",
       "3            married                 0      M    employee     0     42820.568   \n",
       "4  civil partnership                 1      F     retiree     0     25378.572   \n",
       "5  civil partnership                 1      M    business     0     40922.170   \n",
       "6            married                 0      F    business     0     38484.156   \n",
       "7            married                 0      M    employee     0     21731.829   \n",
       "8  civil partnership                 1      F    employee     0     15337.093   \n",
       "9            married                 0      M    employee     0     23108.150   \n",
       "\n",
       "                               purpose  total_income_full  total_income_full1  \\\n",
       "0                purchase of the house          40620.102           40620.102   \n",
       "1                         car purchase          17932.802           17932.802   \n",
       "2                purchase of the house          23341.752           23341.752   \n",
       "3              supplementary education          42820.568           42820.568   \n",
       "4                    to have a wedding          25378.572           25378.572   \n",
       "5                purchase of the house          40922.170           40922.170   \n",
       "6                 housing transactions          38484.156           38484.156   \n",
       "7                            education          21731.829           21731.829   \n",
       "8                     having a wedding          15337.093           15337.093   \n",
       "9  purchase of the house for my family          23108.150           23108.150   \n",
       "\n",
       "   income_cat purpose_cat  \n",
       "0  extra_high     housing  \n",
       "1      medium         car  \n",
       "2        high     housing  \n",
       "3  extra_high   education  \n",
       "4        high     wedding  \n",
       "5  extra_high     housing  \n",
       "6  extra_high     housing  \n",
       "7      medium   education  \n",
       "8         low     wedding  \n",
       "9        high     housing  "
      ]
     },
     "execution_count": 44,
     "metadata": {},
     "output_type": "execute_result"
    }
   ],
   "source": [
    "credit_scoring.head(10)"
   ]
  },
  {
   "cell_type": "markdown",
   "metadata": {},
   "source": [
    "### Conclusion"
   ]
  },
  {
   "cell_type": "markdown",
   "metadata": {},
   "source": [
    "I decided to categorized only 2 values income and purpose in income there are 4categorise (low, medium, high, extra high)."
   ]
  },
  {
   "cell_type": "markdown",
   "metadata": {},
   "source": [
    "## Answer these questions"
   ]
  },
  {
   "cell_type": "markdown",
   "metadata": {},
   "source": [
    "- Is there a relation between having kids and repaying a loan on time?"
   ]
  },
  {
   "cell_type": "code",
   "execution_count": 45,
   "metadata": {},
   "outputs": [
    {
     "data": {
      "text/html": [
       "<div>\n",
       "<style scoped>\n",
       "    .dataframe tbody tr th:only-of-type {\n",
       "        vertical-align: middle;\n",
       "    }\n",
       "\n",
       "    .dataframe tbody tr th {\n",
       "        vertical-align: top;\n",
       "    }\n",
       "\n",
       "    .dataframe thead th {\n",
       "        text-align: right;\n",
       "    }\n",
       "</style>\n",
       "<table border=\"1\" class=\"dataframe\">\n",
       "  <thead>\n",
       "    <tr style=\"text-align: right;\">\n",
       "      <th>debt</th>\n",
       "      <th>children</th>\n",
       "      <th>0</th>\n",
       "      <th>1</th>\n",
       "      <th>All</th>\n",
       "    </tr>\n",
       "  </thead>\n",
       "  <tbody>\n",
       "    <tr>\n",
       "      <td>0</td>\n",
       "      <td>0</td>\n",
       "      <td>13086.0</td>\n",
       "      <td>1063.0</td>\n",
       "      <td>14149</td>\n",
       "    </tr>\n",
       "    <tr>\n",
       "      <td>1</td>\n",
       "      <td>1</td>\n",
       "      <td>4420.0</td>\n",
       "      <td>445.0</td>\n",
       "      <td>4865</td>\n",
       "    </tr>\n",
       "    <tr>\n",
       "      <td>2</td>\n",
       "      <td>2</td>\n",
       "      <td>1861.0</td>\n",
       "      <td>194.0</td>\n",
       "      <td>2055</td>\n",
       "    </tr>\n",
       "    <tr>\n",
       "      <td>3</td>\n",
       "      <td>3</td>\n",
       "      <td>303.0</td>\n",
       "      <td>27.0</td>\n",
       "      <td>330</td>\n",
       "    </tr>\n",
       "    <tr>\n",
       "      <td>4</td>\n",
       "      <td>4</td>\n",
       "      <td>37.0</td>\n",
       "      <td>4.0</td>\n",
       "      <td>41</td>\n",
       "    </tr>\n",
       "    <tr>\n",
       "      <td>5</td>\n",
       "      <td>5</td>\n",
       "      <td>9.0</td>\n",
       "      <td>NaN</td>\n",
       "      <td>9</td>\n",
       "    </tr>\n",
       "    <tr>\n",
       "      <td>6</td>\n",
       "      <td>20</td>\n",
       "      <td>68.0</td>\n",
       "      <td>8.0</td>\n",
       "      <td>76</td>\n",
       "    </tr>\n",
       "    <tr>\n",
       "      <td>7</td>\n",
       "      <td>All</td>\n",
       "      <td>19784.0</td>\n",
       "      <td>1741.0</td>\n",
       "      <td>21525</td>\n",
       "    </tr>\n",
       "  </tbody>\n",
       "</table>\n",
       "</div>"
      ],
      "text/plain": [
       "debt children        0       1    All\n",
       "0           0  13086.0  1063.0  14149\n",
       "1           1   4420.0   445.0   4865\n",
       "2           2   1861.0   194.0   2055\n",
       "3           3    303.0    27.0    330\n",
       "4           4     37.0     4.0     41\n",
       "5           5      9.0     NaN      9\n",
       "6          20     68.0     8.0     76\n",
       "7         All  19784.0  1741.0  21525"
      ]
     },
     "execution_count": 45,
     "metadata": {},
     "output_type": "execute_result"
    }
   ],
   "source": [
    "children = pd.pivot_table(credit_scoring,index = 'children', columns = 'debt',\n",
    " values = 'family_status_id',aggfunc = 'count', margins = True).reset_index()\n",
    "children\n"
   ]
  },
  {
   "cell_type": "code",
   "execution_count": 46,
   "metadata": {},
   "outputs": [
    {
     "data": {
      "text/html": [
       "<div>\n",
       "<style scoped>\n",
       "    .dataframe tbody tr th:only-of-type {\n",
       "        vertical-align: middle;\n",
       "    }\n",
       "\n",
       "    .dataframe tbody tr th {\n",
       "        vertical-align: top;\n",
       "    }\n",
       "\n",
       "    .dataframe thead th {\n",
       "        text-align: right;\n",
       "    }\n",
       "</style>\n",
       "<table border=\"1\" class=\"dataframe\">\n",
       "  <thead>\n",
       "    <tr style=\"text-align: right;\">\n",
       "      <th>debt</th>\n",
       "      <th>children</th>\n",
       "      <th>0</th>\n",
       "      <th>1</th>\n",
       "      <th>All</th>\n",
       "      <th>default_rate</th>\n",
       "    </tr>\n",
       "  </thead>\n",
       "  <tbody>\n",
       "    <tr>\n",
       "      <td>0</td>\n",
       "      <td>0</td>\n",
       "      <td>13086.0</td>\n",
       "      <td>1063.0</td>\n",
       "      <td>14149</td>\n",
       "      <td>7.512898</td>\n",
       "    </tr>\n",
       "    <tr>\n",
       "      <td>1</td>\n",
       "      <td>1</td>\n",
       "      <td>4420.0</td>\n",
       "      <td>445.0</td>\n",
       "      <td>4865</td>\n",
       "      <td>9.146968</td>\n",
       "    </tr>\n",
       "    <tr>\n",
       "      <td>2</td>\n",
       "      <td>2</td>\n",
       "      <td>1861.0</td>\n",
       "      <td>194.0</td>\n",
       "      <td>2055</td>\n",
       "      <td>9.440389</td>\n",
       "    </tr>\n",
       "    <tr>\n",
       "      <td>3</td>\n",
       "      <td>3</td>\n",
       "      <td>303.0</td>\n",
       "      <td>27.0</td>\n",
       "      <td>330</td>\n",
       "      <td>8.181818</td>\n",
       "    </tr>\n",
       "    <tr>\n",
       "      <td>4</td>\n",
       "      <td>4</td>\n",
       "      <td>37.0</td>\n",
       "      <td>4.0</td>\n",
       "      <td>41</td>\n",
       "      <td>9.756098</td>\n",
       "    </tr>\n",
       "    <tr>\n",
       "      <td>5</td>\n",
       "      <td>5</td>\n",
       "      <td>9.0</td>\n",
       "      <td>NaN</td>\n",
       "      <td>9</td>\n",
       "      <td>NaN</td>\n",
       "    </tr>\n",
       "    <tr>\n",
       "      <td>6</td>\n",
       "      <td>20</td>\n",
       "      <td>68.0</td>\n",
       "      <td>8.0</td>\n",
       "      <td>76</td>\n",
       "      <td>10.526316</td>\n",
       "    </tr>\n",
       "    <tr>\n",
       "      <td>7</td>\n",
       "      <td>All</td>\n",
       "      <td>19784.0</td>\n",
       "      <td>1741.0</td>\n",
       "      <td>21525</td>\n",
       "      <td>8.088269</td>\n",
       "    </tr>\n",
       "  </tbody>\n",
       "</table>\n",
       "</div>"
      ],
      "text/plain": [
       "debt children        0       1    All  default_rate\n",
       "0           0  13086.0  1063.0  14149      7.512898\n",
       "1           1   4420.0   445.0   4865      9.146968\n",
       "2           2   1861.0   194.0   2055      9.440389\n",
       "3           3    303.0    27.0    330      8.181818\n",
       "4           4     37.0     4.0     41      9.756098\n",
       "5           5      9.0     NaN      9           NaN\n",
       "6          20     68.0     8.0     76     10.526316\n",
       "7         All  19784.0  1741.0  21525      8.088269"
      ]
     },
     "execution_count": 46,
     "metadata": {},
     "output_type": "execute_result"
    }
   ],
   "source": [
    "children['default_rate'] = (children[1])/children['All']*100\n",
    "children"
   ]
  },
  {
   "cell_type": "markdown",
   "metadata": {},
   "source": [
    "<div class=\"alert alert-warning\">\n",
    "<b>Reviewer's comment v2: </b> Small hint: you can format ratio values as actual percentages: <a>https://stackoverflow.com/a/36175424/11664121</a>. In this case you will alter only a dataframe formatting rules, but not data.\n",
    "</div>"
   ]
  },
  {
   "cell_type": "markdown",
   "metadata": {},
   "source": [
    "### Conclusion"
   ]
  },
  {
   "cell_type": "markdown",
   "metadata": {},
   "source": [
    "Yes there a direct relation between having kids and repaying a loan on time as more children you have the harder is to repay the loan ."
   ]
  },
  {
   "cell_type": "markdown",
   "metadata": {},
   "source": [
    "<div class=\"alert alert-success\">\n",
    "<b>Reviewer's comment v2:</b> Yes, good point.\n",
    "</div>\n"
   ]
  },
  {
   "cell_type": "markdown",
   "metadata": {},
   "source": [
    "- Is there a relation between marital status and repaying a loan on time?"
   ]
  },
  {
   "cell_type": "code",
   "execution_count": 47,
   "metadata": {},
   "outputs": [
    {
     "data": {
      "text/html": [
       "<div>\n",
       "<style scoped>\n",
       "    .dataframe tbody tr th:only-of-type {\n",
       "        vertical-align: middle;\n",
       "    }\n",
       "\n",
       "    .dataframe tbody tr th {\n",
       "        vertical-align: top;\n",
       "    }\n",
       "\n",
       "    .dataframe thead th {\n",
       "        text-align: right;\n",
       "    }\n",
       "</style>\n",
       "<table border=\"1\" class=\"dataframe\">\n",
       "  <thead>\n",
       "    <tr style=\"text-align: right;\">\n",
       "      <th>debt</th>\n",
       "      <th>family_status</th>\n",
       "      <th>0</th>\n",
       "      <th>1</th>\n",
       "      <th>All</th>\n",
       "    </tr>\n",
       "  </thead>\n",
       "  <tbody>\n",
       "    <tr>\n",
       "      <td>0</td>\n",
       "      <td>civil partnership</td>\n",
       "      <td>3789</td>\n",
       "      <td>388</td>\n",
       "      <td>4177</td>\n",
       "    </tr>\n",
       "    <tr>\n",
       "      <td>1</td>\n",
       "      <td>divorced</td>\n",
       "      <td>1110</td>\n",
       "      <td>85</td>\n",
       "      <td>1195</td>\n",
       "    </tr>\n",
       "    <tr>\n",
       "      <td>2</td>\n",
       "      <td>married</td>\n",
       "      <td>11449</td>\n",
       "      <td>931</td>\n",
       "      <td>12380</td>\n",
       "    </tr>\n",
       "    <tr>\n",
       "      <td>3</td>\n",
       "      <td>unmarried</td>\n",
       "      <td>2539</td>\n",
       "      <td>274</td>\n",
       "      <td>2813</td>\n",
       "    </tr>\n",
       "    <tr>\n",
       "      <td>4</td>\n",
       "      <td>widow / widower</td>\n",
       "      <td>897</td>\n",
       "      <td>63</td>\n",
       "      <td>960</td>\n",
       "    </tr>\n",
       "    <tr>\n",
       "      <td>5</td>\n",
       "      <td>All</td>\n",
       "      <td>19784</td>\n",
       "      <td>1741</td>\n",
       "      <td>21525</td>\n",
       "    </tr>\n",
       "  </tbody>\n",
       "</table>\n",
       "</div>"
      ],
      "text/plain": [
       "debt      family_status      0     1    All\n",
       "0     civil partnership   3789   388   4177\n",
       "1              divorced   1110    85   1195\n",
       "2               married  11449   931  12380\n",
       "3             unmarried   2539   274   2813\n",
       "4       widow / widower    897    63    960\n",
       "5                   All  19784  1741  21525"
      ]
     },
     "execution_count": 47,
     "metadata": {},
     "output_type": "execute_result"
    }
   ],
   "source": [
    "family_status = pd.pivot_table(credit_scoring,index = 'family_status', columns = 'debt',\n",
    " values = 'family_status_id',aggfunc = 'count', margins = True).reset_index()\n",
    "family_status\n"
   ]
  },
  {
   "cell_type": "code",
   "execution_count": 48,
   "metadata": {},
   "outputs": [
    {
     "data": {
      "text/html": [
       "<div>\n",
       "<style scoped>\n",
       "    .dataframe tbody tr th:only-of-type {\n",
       "        vertical-align: middle;\n",
       "    }\n",
       "\n",
       "    .dataframe tbody tr th {\n",
       "        vertical-align: top;\n",
       "    }\n",
       "\n",
       "    .dataframe thead th {\n",
       "        text-align: right;\n",
       "    }\n",
       "</style>\n",
       "<table border=\"1\" class=\"dataframe\">\n",
       "  <thead>\n",
       "    <tr style=\"text-align: right;\">\n",
       "      <th>debt</th>\n",
       "      <th>family_status</th>\n",
       "      <th>0</th>\n",
       "      <th>1</th>\n",
       "      <th>All</th>\n",
       "      <th>default_rate</th>\n",
       "    </tr>\n",
       "  </thead>\n",
       "  <tbody>\n",
       "    <tr>\n",
       "      <td>0</td>\n",
       "      <td>civil partnership</td>\n",
       "      <td>3789</td>\n",
       "      <td>388</td>\n",
       "      <td>4177</td>\n",
       "      <td>9.288963</td>\n",
       "    </tr>\n",
       "    <tr>\n",
       "      <td>1</td>\n",
       "      <td>divorced</td>\n",
       "      <td>1110</td>\n",
       "      <td>85</td>\n",
       "      <td>1195</td>\n",
       "      <td>7.112971</td>\n",
       "    </tr>\n",
       "    <tr>\n",
       "      <td>2</td>\n",
       "      <td>married</td>\n",
       "      <td>11449</td>\n",
       "      <td>931</td>\n",
       "      <td>12380</td>\n",
       "      <td>7.520194</td>\n",
       "    </tr>\n",
       "    <tr>\n",
       "      <td>3</td>\n",
       "      <td>unmarried</td>\n",
       "      <td>2539</td>\n",
       "      <td>274</td>\n",
       "      <td>2813</td>\n",
       "      <td>9.740491</td>\n",
       "    </tr>\n",
       "    <tr>\n",
       "      <td>4</td>\n",
       "      <td>widow / widower</td>\n",
       "      <td>897</td>\n",
       "      <td>63</td>\n",
       "      <td>960</td>\n",
       "      <td>6.562500</td>\n",
       "    </tr>\n",
       "    <tr>\n",
       "      <td>5</td>\n",
       "      <td>All</td>\n",
       "      <td>19784</td>\n",
       "      <td>1741</td>\n",
       "      <td>21525</td>\n",
       "      <td>8.088269</td>\n",
       "    </tr>\n",
       "  </tbody>\n",
       "</table>\n",
       "</div>"
      ],
      "text/plain": [
       "debt      family_status      0     1    All  default_rate\n",
       "0     civil partnership   3789   388   4177      9.288963\n",
       "1              divorced   1110    85   1195      7.112971\n",
       "2               married  11449   931  12380      7.520194\n",
       "3             unmarried   2539   274   2813      9.740491\n",
       "4       widow / widower    897    63    960      6.562500\n",
       "5                   All  19784  1741  21525      8.088269"
      ]
     },
     "execution_count": 48,
     "metadata": {},
     "output_type": "execute_result"
    }
   ],
   "source": [
    "family_status['default_rate'] = (family_status[1])/family_status['All']*100\n",
    "family_status"
   ]
  },
  {
   "cell_type": "markdown",
   "metadata": {},
   "source": [
    "Widow / widower have better chance to repay the loan and unmarried have the worst chance to repay the loan "
   ]
  },
  {
   "cell_type": "markdown",
   "metadata": {},
   "source": [
    "<div class=\"alert alert-success\">\n",
    "<b>Reviewer's comment v2:</b> 👍\n",
    "</div>\n"
   ]
  },
  {
   "cell_type": "markdown",
   "metadata": {},
   "source": [
    "- Is there a relation between income level and repaying a loan on time?"
   ]
  },
  {
   "cell_type": "code",
   "execution_count": 49,
   "metadata": {},
   "outputs": [
    {
     "data": {
      "text/html": [
       "<div>\n",
       "<style scoped>\n",
       "    .dataframe tbody tr th:only-of-type {\n",
       "        vertical-align: middle;\n",
       "    }\n",
       "\n",
       "    .dataframe tbody tr th {\n",
       "        vertical-align: top;\n",
       "    }\n",
       "\n",
       "    .dataframe thead th {\n",
       "        text-align: right;\n",
       "    }\n",
       "</style>\n",
       "<table border=\"1\" class=\"dataframe\">\n",
       "  <thead>\n",
       "    <tr style=\"text-align: right;\">\n",
       "      <th>debt</th>\n",
       "      <th>income_cat</th>\n",
       "      <th>0</th>\n",
       "      <th>1</th>\n",
       "      <th>All</th>\n",
       "    </tr>\n",
       "  </thead>\n",
       "  <tbody>\n",
       "    <tr>\n",
       "      <td>0</td>\n",
       "      <td>extra_high</td>\n",
       "      <td>4995</td>\n",
       "      <td>386</td>\n",
       "      <td>5381</td>\n",
       "    </tr>\n",
       "    <tr>\n",
       "      <td>1</td>\n",
       "      <td>high</td>\n",
       "      <td>4794</td>\n",
       "      <td>445</td>\n",
       "      <td>5239</td>\n",
       "    </tr>\n",
       "    <tr>\n",
       "      <td>2</td>\n",
       "      <td>low</td>\n",
       "      <td>4954</td>\n",
       "      <td>427</td>\n",
       "      <td>5381</td>\n",
       "    </tr>\n",
       "    <tr>\n",
       "      <td>3</td>\n",
       "      <td>medium</td>\n",
       "      <td>5041</td>\n",
       "      <td>483</td>\n",
       "      <td>5524</td>\n",
       "    </tr>\n",
       "    <tr>\n",
       "      <td>4</td>\n",
       "      <td>All</td>\n",
       "      <td>19784</td>\n",
       "      <td>1741</td>\n",
       "      <td>21525</td>\n",
       "    </tr>\n",
       "  </tbody>\n",
       "</table>\n",
       "</div>"
      ],
      "text/plain": [
       "debt  income_cat      0     1    All\n",
       "0     extra_high   4995   386   5381\n",
       "1           high   4794   445   5239\n",
       "2            low   4954   427   5381\n",
       "3         medium   5041   483   5524\n",
       "4            All  19784  1741  21525"
      ]
     },
     "execution_count": 49,
     "metadata": {},
     "output_type": "execute_result"
    }
   ],
   "source": [
    "income = pd.pivot_table(credit_scoring,index = 'income_cat', columns = 'debt',\n",
    " values = 'family_status_id',aggfunc = 'count', margins = True).reset_index()\n",
    "income"
   ]
  },
  {
   "cell_type": "code",
   "execution_count": 50,
   "metadata": {},
   "outputs": [
    {
     "data": {
      "text/html": [
       "<div>\n",
       "<style scoped>\n",
       "    .dataframe tbody tr th:only-of-type {\n",
       "        vertical-align: middle;\n",
       "    }\n",
       "\n",
       "    .dataframe tbody tr th {\n",
       "        vertical-align: top;\n",
       "    }\n",
       "\n",
       "    .dataframe thead th {\n",
       "        text-align: right;\n",
       "    }\n",
       "</style>\n",
       "<table border=\"1\" class=\"dataframe\">\n",
       "  <thead>\n",
       "    <tr style=\"text-align: right;\">\n",
       "      <th>debt</th>\n",
       "      <th>income_cat</th>\n",
       "      <th>0</th>\n",
       "      <th>1</th>\n",
       "      <th>All</th>\n",
       "      <th>default_rate</th>\n",
       "    </tr>\n",
       "  </thead>\n",
       "  <tbody>\n",
       "    <tr>\n",
       "      <td>0</td>\n",
       "      <td>extra_high</td>\n",
       "      <td>4995</td>\n",
       "      <td>386</td>\n",
       "      <td>5381</td>\n",
       "      <td>7.173388</td>\n",
       "    </tr>\n",
       "    <tr>\n",
       "      <td>1</td>\n",
       "      <td>high</td>\n",
       "      <td>4794</td>\n",
       "      <td>445</td>\n",
       "      <td>5239</td>\n",
       "      <td>8.493987</td>\n",
       "    </tr>\n",
       "    <tr>\n",
       "      <td>2</td>\n",
       "      <td>low</td>\n",
       "      <td>4954</td>\n",
       "      <td>427</td>\n",
       "      <td>5381</td>\n",
       "      <td>7.935328</td>\n",
       "    </tr>\n",
       "    <tr>\n",
       "      <td>3</td>\n",
       "      <td>medium</td>\n",
       "      <td>5041</td>\n",
       "      <td>483</td>\n",
       "      <td>5524</td>\n",
       "      <td>8.743664</td>\n",
       "    </tr>\n",
       "    <tr>\n",
       "      <td>4</td>\n",
       "      <td>All</td>\n",
       "      <td>19784</td>\n",
       "      <td>1741</td>\n",
       "      <td>21525</td>\n",
       "      <td>8.088269</td>\n",
       "    </tr>\n",
       "  </tbody>\n",
       "</table>\n",
       "</div>"
      ],
      "text/plain": [
       "debt  income_cat      0     1    All  default_rate\n",
       "0     extra_high   4995   386   5381      7.173388\n",
       "1           high   4794   445   5239      8.493987\n",
       "2            low   4954   427   5381      7.935328\n",
       "3         medium   5041   483   5524      8.743664\n",
       "4            All  19784  1741  21525      8.088269"
      ]
     },
     "execution_count": 50,
     "metadata": {},
     "output_type": "execute_result"
    }
   ],
   "source": [
    "income['default_rate'] = (income[1])/income['All']*100\n",
    "income"
   ]
  },
  {
   "cell_type": "markdown",
   "metadata": {},
   "source": [
    "### Conclusion"
   ]
  },
  {
   "cell_type": "markdown",
   "metadata": {},
   "source": [
    "People with extra high income have the best chant to repay the loan and people with the medium income worst chance to repay the loan. "
   ]
  },
  {
   "cell_type": "markdown",
   "metadata": {},
   "source": [
    "<div class=\"alert alert-success\">\n",
    "<b>Reviewer's comment v2:</b> Yes, correct.\n",
    "</div>"
   ]
  },
  {
   "cell_type": "markdown",
   "metadata": {},
   "source": [
    "- How do different loan purposes affect on-time repayment of the loan?"
   ]
  },
  {
   "cell_type": "code",
   "execution_count": 51,
   "metadata": {},
   "outputs": [
    {
     "data": {
      "text/html": [
       "<div>\n",
       "<style scoped>\n",
       "    .dataframe tbody tr th:only-of-type {\n",
       "        vertical-align: middle;\n",
       "    }\n",
       "\n",
       "    .dataframe tbody tr th {\n",
       "        vertical-align: top;\n",
       "    }\n",
       "\n",
       "    .dataframe thead th {\n",
       "        text-align: right;\n",
       "    }\n",
       "</style>\n",
       "<table border=\"1\" class=\"dataframe\">\n",
       "  <thead>\n",
       "    <tr style=\"text-align: right;\">\n",
       "      <th>debt</th>\n",
       "      <th>purpose_cat</th>\n",
       "      <th>0</th>\n",
       "      <th>1</th>\n",
       "      <th>All</th>\n",
       "    </tr>\n",
       "  </thead>\n",
       "  <tbody>\n",
       "    <tr>\n",
       "      <td>0</td>\n",
       "      <td>car</td>\n",
       "      <td>3912</td>\n",
       "      <td>403</td>\n",
       "      <td>4315</td>\n",
       "    </tr>\n",
       "    <tr>\n",
       "      <td>1</td>\n",
       "      <td>education</td>\n",
       "      <td>3652</td>\n",
       "      <td>370</td>\n",
       "      <td>4022</td>\n",
       "    </tr>\n",
       "    <tr>\n",
       "      <td>2</td>\n",
       "      <td>housing</td>\n",
       "      <td>10058</td>\n",
       "      <td>782</td>\n",
       "      <td>10840</td>\n",
       "    </tr>\n",
       "    <tr>\n",
       "      <td>3</td>\n",
       "      <td>wedding</td>\n",
       "      <td>2162</td>\n",
       "      <td>186</td>\n",
       "      <td>2348</td>\n",
       "    </tr>\n",
       "    <tr>\n",
       "      <td>4</td>\n",
       "      <td>All</td>\n",
       "      <td>19784</td>\n",
       "      <td>1741</td>\n",
       "      <td>21525</td>\n",
       "    </tr>\n",
       "  </tbody>\n",
       "</table>\n",
       "</div>"
      ],
      "text/plain": [
       "debt purpose_cat      0     1    All\n",
       "0            car   3912   403   4315\n",
       "1      education   3652   370   4022\n",
       "2        housing  10058   782  10840\n",
       "3        wedding   2162   186   2348\n",
       "4            All  19784  1741  21525"
      ]
     },
     "execution_count": 51,
     "metadata": {},
     "output_type": "execute_result"
    }
   ],
   "source": [
    "purposes = pd.pivot_table(credit_scoring,index = 'purpose_cat', columns = 'debt',\n",
    " values = 'family_status_id',aggfunc = 'count', margins = True).reset_index()\n",
    "purposes"
   ]
  },
  {
   "cell_type": "code",
   "execution_count": 52,
   "metadata": {},
   "outputs": [
    {
     "data": {
      "text/html": [
       "<div>\n",
       "<style scoped>\n",
       "    .dataframe tbody tr th:only-of-type {\n",
       "        vertical-align: middle;\n",
       "    }\n",
       "\n",
       "    .dataframe tbody tr th {\n",
       "        vertical-align: top;\n",
       "    }\n",
       "\n",
       "    .dataframe thead th {\n",
       "        text-align: right;\n",
       "    }\n",
       "</style>\n",
       "<table border=\"1\" class=\"dataframe\">\n",
       "  <thead>\n",
       "    <tr style=\"text-align: right;\">\n",
       "      <th>debt</th>\n",
       "      <th>purpose_cat</th>\n",
       "      <th>0</th>\n",
       "      <th>1</th>\n",
       "      <th>All</th>\n",
       "      <th>default_rate</th>\n",
       "    </tr>\n",
       "  </thead>\n",
       "  <tbody>\n",
       "    <tr>\n",
       "      <td>0</td>\n",
       "      <td>car</td>\n",
       "      <td>3912</td>\n",
       "      <td>403</td>\n",
       "      <td>4315</td>\n",
       "      <td>9.339513</td>\n",
       "    </tr>\n",
       "    <tr>\n",
       "      <td>1</td>\n",
       "      <td>education</td>\n",
       "      <td>3652</td>\n",
       "      <td>370</td>\n",
       "      <td>4022</td>\n",
       "      <td>9.199403</td>\n",
       "    </tr>\n",
       "    <tr>\n",
       "      <td>2</td>\n",
       "      <td>housing</td>\n",
       "      <td>10058</td>\n",
       "      <td>782</td>\n",
       "      <td>10840</td>\n",
       "      <td>7.214022</td>\n",
       "    </tr>\n",
       "    <tr>\n",
       "      <td>3</td>\n",
       "      <td>wedding</td>\n",
       "      <td>2162</td>\n",
       "      <td>186</td>\n",
       "      <td>2348</td>\n",
       "      <td>7.921635</td>\n",
       "    </tr>\n",
       "    <tr>\n",
       "      <td>4</td>\n",
       "      <td>All</td>\n",
       "      <td>19784</td>\n",
       "      <td>1741</td>\n",
       "      <td>21525</td>\n",
       "      <td>8.088269</td>\n",
       "    </tr>\n",
       "  </tbody>\n",
       "</table>\n",
       "</div>"
      ],
      "text/plain": [
       "debt purpose_cat      0     1    All  default_rate\n",
       "0            car   3912   403   4315      9.339513\n",
       "1      education   3652   370   4022      9.199403\n",
       "2        housing  10058   782  10840      7.214022\n",
       "3        wedding   2162   186   2348      7.921635\n",
       "4            All  19784  1741  21525      8.088269"
      ]
     },
     "execution_count": 52,
     "metadata": {},
     "output_type": "execute_result"
    }
   ],
   "source": [
    "purposes['default_rate'] = (purposes[1])/purposes['All']*100\n",
    "purposes"
   ]
  },
  {
   "cell_type": "code",
   "execution_count": 53,
   "metadata": {},
   "outputs": [
    {
     "data": {
      "text/html": [
       "<div>\n",
       "<style scoped>\n",
       "    .dataframe tbody tr th:only-of-type {\n",
       "        vertical-align: middle;\n",
       "    }\n",
       "\n",
       "    .dataframe tbody tr th {\n",
       "        vertical-align: top;\n",
       "    }\n",
       "\n",
       "    .dataframe thead th {\n",
       "        text-align: right;\n",
       "    }\n",
       "</style>\n",
       "<table border=\"1\" class=\"dataframe\">\n",
       "  <thead>\n",
       "    <tr style=\"text-align: right;\">\n",
       "      <th></th>\n",
       "      <th>children</th>\n",
       "      <th>days_employed</th>\n",
       "      <th>dob_years</th>\n",
       "      <th>education</th>\n",
       "      <th>education_id</th>\n",
       "      <th>family_status</th>\n",
       "      <th>family_status_id</th>\n",
       "      <th>gender</th>\n",
       "      <th>income_type</th>\n",
       "      <th>debt</th>\n",
       "      <th>total_income</th>\n",
       "      <th>purpose</th>\n",
       "      <th>total_income_full</th>\n",
       "      <th>total_income_full1</th>\n",
       "      <th>income_cat</th>\n",
       "      <th>purpose_cat</th>\n",
       "    </tr>\n",
       "  </thead>\n",
       "  <tbody>\n",
       "    <tr>\n",
       "      <td>0</td>\n",
       "      <td>1</td>\n",
       "      <td>8437.673028</td>\n",
       "      <td>42</td>\n",
       "      <td>bachelor's degree</td>\n",
       "      <td>0</td>\n",
       "      <td>married</td>\n",
       "      <td>0</td>\n",
       "      <td>F</td>\n",
       "      <td>employee</td>\n",
       "      <td>0</td>\n",
       "      <td>40620.102</td>\n",
       "      <td>purchase of the house</td>\n",
       "      <td>40620.1020</td>\n",
       "      <td>40620.102</td>\n",
       "      <td>extra_high</td>\n",
       "      <td>housing</td>\n",
       "    </tr>\n",
       "    <tr>\n",
       "      <td>1</td>\n",
       "      <td>1</td>\n",
       "      <td>4024.803754</td>\n",
       "      <td>36</td>\n",
       "      <td>secondary education</td>\n",
       "      <td>1</td>\n",
       "      <td>married</td>\n",
       "      <td>0</td>\n",
       "      <td>F</td>\n",
       "      <td>employee</td>\n",
       "      <td>0</td>\n",
       "      <td>17932.802</td>\n",
       "      <td>car purchase</td>\n",
       "      <td>17932.8020</td>\n",
       "      <td>17932.802</td>\n",
       "      <td>medium</td>\n",
       "      <td>car</td>\n",
       "    </tr>\n",
       "    <tr>\n",
       "      <td>2</td>\n",
       "      <td>0</td>\n",
       "      <td>5623.422610</td>\n",
       "      <td>33</td>\n",
       "      <td>secondary education</td>\n",
       "      <td>1</td>\n",
       "      <td>married</td>\n",
       "      <td>0</td>\n",
       "      <td>M</td>\n",
       "      <td>employee</td>\n",
       "      <td>0</td>\n",
       "      <td>23341.752</td>\n",
       "      <td>purchase of the house</td>\n",
       "      <td>23341.7520</td>\n",
       "      <td>23341.752</td>\n",
       "      <td>high</td>\n",
       "      <td>housing</td>\n",
       "    </tr>\n",
       "    <tr>\n",
       "      <td>3</td>\n",
       "      <td>3</td>\n",
       "      <td>4124.747207</td>\n",
       "      <td>32</td>\n",
       "      <td>secondary education</td>\n",
       "      <td>1</td>\n",
       "      <td>married</td>\n",
       "      <td>0</td>\n",
       "      <td>M</td>\n",
       "      <td>employee</td>\n",
       "      <td>0</td>\n",
       "      <td>42820.568</td>\n",
       "      <td>supplementary education</td>\n",
       "      <td>42820.5680</td>\n",
       "      <td>42820.568</td>\n",
       "      <td>extra_high</td>\n",
       "      <td>education</td>\n",
       "    </tr>\n",
       "    <tr>\n",
       "      <td>4</td>\n",
       "      <td>0</td>\n",
       "      <td>340266.072047</td>\n",
       "      <td>53</td>\n",
       "      <td>secondary education</td>\n",
       "      <td>1</td>\n",
       "      <td>civil partnership</td>\n",
       "      <td>1</td>\n",
       "      <td>F</td>\n",
       "      <td>retiree</td>\n",
       "      <td>0</td>\n",
       "      <td>25378.572</td>\n",
       "      <td>to have a wedding</td>\n",
       "      <td>25378.5720</td>\n",
       "      <td>25378.572</td>\n",
       "      <td>high</td>\n",
       "      <td>wedding</td>\n",
       "    </tr>\n",
       "    <tr>\n",
       "      <td>5</td>\n",
       "      <td>0</td>\n",
       "      <td>926.185831</td>\n",
       "      <td>27</td>\n",
       "      <td>bachelor's degree</td>\n",
       "      <td>0</td>\n",
       "      <td>civil partnership</td>\n",
       "      <td>1</td>\n",
       "      <td>M</td>\n",
       "      <td>business</td>\n",
       "      <td>0</td>\n",
       "      <td>40922.170</td>\n",
       "      <td>purchase of the house</td>\n",
       "      <td>40922.1700</td>\n",
       "      <td>40922.170</td>\n",
       "      <td>extra_high</td>\n",
       "      <td>housing</td>\n",
       "    </tr>\n",
       "    <tr>\n",
       "      <td>6</td>\n",
       "      <td>0</td>\n",
       "      <td>2879.202052</td>\n",
       "      <td>43</td>\n",
       "      <td>bachelor's degree</td>\n",
       "      <td>0</td>\n",
       "      <td>married</td>\n",
       "      <td>0</td>\n",
       "      <td>F</td>\n",
       "      <td>business</td>\n",
       "      <td>0</td>\n",
       "      <td>38484.156</td>\n",
       "      <td>housing transactions</td>\n",
       "      <td>38484.1560</td>\n",
       "      <td>38484.156</td>\n",
       "      <td>extra_high</td>\n",
       "      <td>housing</td>\n",
       "    </tr>\n",
       "    <tr>\n",
       "      <td>7</td>\n",
       "      <td>0</td>\n",
       "      <td>152.779569</td>\n",
       "      <td>50</td>\n",
       "      <td>secondary education</td>\n",
       "      <td>1</td>\n",
       "      <td>married</td>\n",
       "      <td>0</td>\n",
       "      <td>M</td>\n",
       "      <td>employee</td>\n",
       "      <td>0</td>\n",
       "      <td>21731.829</td>\n",
       "      <td>education</td>\n",
       "      <td>21731.8290</td>\n",
       "      <td>21731.829</td>\n",
       "      <td>medium</td>\n",
       "      <td>education</td>\n",
       "    </tr>\n",
       "    <tr>\n",
       "      <td>8</td>\n",
       "      <td>2</td>\n",
       "      <td>6929.865299</td>\n",
       "      <td>35</td>\n",
       "      <td>bachelor's degree</td>\n",
       "      <td>0</td>\n",
       "      <td>civil partnership</td>\n",
       "      <td>1</td>\n",
       "      <td>F</td>\n",
       "      <td>employee</td>\n",
       "      <td>0</td>\n",
       "      <td>15337.093</td>\n",
       "      <td>having a wedding</td>\n",
       "      <td>15337.0930</td>\n",
       "      <td>15337.093</td>\n",
       "      <td>low</td>\n",
       "      <td>wedding</td>\n",
       "    </tr>\n",
       "    <tr>\n",
       "      <td>9</td>\n",
       "      <td>0</td>\n",
       "      <td>2188.756445</td>\n",
       "      <td>41</td>\n",
       "      <td>secondary education</td>\n",
       "      <td>1</td>\n",
       "      <td>married</td>\n",
       "      <td>0</td>\n",
       "      <td>M</td>\n",
       "      <td>employee</td>\n",
       "      <td>0</td>\n",
       "      <td>23108.150</td>\n",
       "      <td>purchase of the house for my family</td>\n",
       "      <td>23108.1500</td>\n",
       "      <td>23108.150</td>\n",
       "      <td>high</td>\n",
       "      <td>housing</td>\n",
       "    </tr>\n",
       "    <tr>\n",
       "      <td>10</td>\n",
       "      <td>2</td>\n",
       "      <td>4171.483647</td>\n",
       "      <td>36</td>\n",
       "      <td>bachelor's degree</td>\n",
       "      <td>0</td>\n",
       "      <td>married</td>\n",
       "      <td>0</td>\n",
       "      <td>M</td>\n",
       "      <td>business</td>\n",
       "      <td>0</td>\n",
       "      <td>18230.959</td>\n",
       "      <td>buy real estate</td>\n",
       "      <td>18230.9590</td>\n",
       "      <td>18230.959</td>\n",
       "      <td>medium</td>\n",
       "      <td>housing</td>\n",
       "    </tr>\n",
       "    <tr>\n",
       "      <td>11</td>\n",
       "      <td>0</td>\n",
       "      <td>792.701887</td>\n",
       "      <td>40</td>\n",
       "      <td>secondary education</td>\n",
       "      <td>1</td>\n",
       "      <td>married</td>\n",
       "      <td>0</td>\n",
       "      <td>F</td>\n",
       "      <td>employee</td>\n",
       "      <td>0</td>\n",
       "      <td>12331.077</td>\n",
       "      <td>buy commercial real estate</td>\n",
       "      <td>12331.0770</td>\n",
       "      <td>12331.077</td>\n",
       "      <td>low</td>\n",
       "      <td>housing</td>\n",
       "    </tr>\n",
       "    <tr>\n",
       "      <td>12</td>\n",
       "      <td>0</td>\n",
       "      <td>NaN</td>\n",
       "      <td>65</td>\n",
       "      <td>secondary education</td>\n",
       "      <td>1</td>\n",
       "      <td>civil partnership</td>\n",
       "      <td>1</td>\n",
       "      <td>M</td>\n",
       "      <td>retiree</td>\n",
       "      <td>0</td>\n",
       "      <td>NaN</td>\n",
       "      <td>to have a wedding</td>\n",
       "      <td>18962.3180</td>\n",
       "      <td>18374.857</td>\n",
       "      <td>medium</td>\n",
       "      <td>wedding</td>\n",
       "    </tr>\n",
       "    <tr>\n",
       "      <td>13</td>\n",
       "      <td>0</td>\n",
       "      <td>1846.641941</td>\n",
       "      <td>54</td>\n",
       "      <td>some college</td>\n",
       "      <td>2</td>\n",
       "      <td>married</td>\n",
       "      <td>0</td>\n",
       "      <td>F</td>\n",
       "      <td>employee</td>\n",
       "      <td>0</td>\n",
       "      <td>20873.317</td>\n",
       "      <td>car purchase</td>\n",
       "      <td>20873.3170</td>\n",
       "      <td>20873.317</td>\n",
       "      <td>medium</td>\n",
       "      <td>car</td>\n",
       "    </tr>\n",
       "    <tr>\n",
       "      <td>14</td>\n",
       "      <td>0</td>\n",
       "      <td>1844.956182</td>\n",
       "      <td>56</td>\n",
       "      <td>bachelor's degree</td>\n",
       "      <td>0</td>\n",
       "      <td>civil partnership</td>\n",
       "      <td>1</td>\n",
       "      <td>F</td>\n",
       "      <td>business</td>\n",
       "      <td>1</td>\n",
       "      <td>26420.466</td>\n",
       "      <td>buy residential real estate</td>\n",
       "      <td>26420.4660</td>\n",
       "      <td>26420.466</td>\n",
       "      <td>high</td>\n",
       "      <td>housing</td>\n",
       "    </tr>\n",
       "    <tr>\n",
       "      <td>15</td>\n",
       "      <td>1</td>\n",
       "      <td>972.364419</td>\n",
       "      <td>26</td>\n",
       "      <td>secondary education</td>\n",
       "      <td>1</td>\n",
       "      <td>married</td>\n",
       "      <td>0</td>\n",
       "      <td>F</td>\n",
       "      <td>employee</td>\n",
       "      <td>0</td>\n",
       "      <td>18691.345</td>\n",
       "      <td>construction of own property</td>\n",
       "      <td>18691.3450</td>\n",
       "      <td>18691.345</td>\n",
       "      <td>medium</td>\n",
       "      <td>housing</td>\n",
       "    </tr>\n",
       "    <tr>\n",
       "      <td>16</td>\n",
       "      <td>0</td>\n",
       "      <td>1719.934226</td>\n",
       "      <td>35</td>\n",
       "      <td>secondary education</td>\n",
       "      <td>1</td>\n",
       "      <td>married</td>\n",
       "      <td>0</td>\n",
       "      <td>F</td>\n",
       "      <td>employee</td>\n",
       "      <td>0</td>\n",
       "      <td>46272.433</td>\n",
       "      <td>property</td>\n",
       "      <td>46272.4330</td>\n",
       "      <td>46272.433</td>\n",
       "      <td>extra_high</td>\n",
       "      <td>housing</td>\n",
       "    </tr>\n",
       "    <tr>\n",
       "      <td>17</td>\n",
       "      <td>0</td>\n",
       "      <td>2369.999720</td>\n",
       "      <td>33</td>\n",
       "      <td>bachelor's degree</td>\n",
       "      <td>0</td>\n",
       "      <td>civil partnership</td>\n",
       "      <td>1</td>\n",
       "      <td>M</td>\n",
       "      <td>employee</td>\n",
       "      <td>0</td>\n",
       "      <td>14465.694</td>\n",
       "      <td>building a property</td>\n",
       "      <td>14465.6940</td>\n",
       "      <td>14465.694</td>\n",
       "      <td>low</td>\n",
       "      <td>housing</td>\n",
       "    </tr>\n",
       "    <tr>\n",
       "      <td>18</td>\n",
       "      <td>0</td>\n",
       "      <td>400281.136913</td>\n",
       "      <td>53</td>\n",
       "      <td>secondary education</td>\n",
       "      <td>1</td>\n",
       "      <td>widow / widower</td>\n",
       "      <td>2</td>\n",
       "      <td>F</td>\n",
       "      <td>retiree</td>\n",
       "      <td>0</td>\n",
       "      <td>9091.804</td>\n",
       "      <td>buying a second-hand car</td>\n",
       "      <td>9091.8040</td>\n",
       "      <td>9091.804</td>\n",
       "      <td>low</td>\n",
       "      <td>car</td>\n",
       "    </tr>\n",
       "    <tr>\n",
       "      <td>19</td>\n",
       "      <td>0</td>\n",
       "      <td>10038.818549</td>\n",
       "      <td>48</td>\n",
       "      <td>secondary education</td>\n",
       "      <td>1</td>\n",
       "      <td>divorced</td>\n",
       "      <td>3</td>\n",
       "      <td>F</td>\n",
       "      <td>employee</td>\n",
       "      <td>0</td>\n",
       "      <td>38852.977</td>\n",
       "      <td>buying my own car</td>\n",
       "      <td>38852.9770</td>\n",
       "      <td>38852.977</td>\n",
       "      <td>extra_high</td>\n",
       "      <td>car</td>\n",
       "    </tr>\n",
       "    <tr>\n",
       "      <td>20</td>\n",
       "      <td>1</td>\n",
       "      <td>1311.604166</td>\n",
       "      <td>36</td>\n",
       "      <td>secondary education</td>\n",
       "      <td>1</td>\n",
       "      <td>married</td>\n",
       "      <td>0</td>\n",
       "      <td>M</td>\n",
       "      <td>employee</td>\n",
       "      <td>0</td>\n",
       "      <td>33528.423</td>\n",
       "      <td>property</td>\n",
       "      <td>33528.4230</td>\n",
       "      <td>33528.423</td>\n",
       "      <td>extra_high</td>\n",
       "      <td>housing</td>\n",
       "    </tr>\n",
       "    <tr>\n",
       "      <td>21</td>\n",
       "      <td>1</td>\n",
       "      <td>253.685166</td>\n",
       "      <td>33</td>\n",
       "      <td>secondary education</td>\n",
       "      <td>1</td>\n",
       "      <td>civil partnership</td>\n",
       "      <td>1</td>\n",
       "      <td>F</td>\n",
       "      <td>employee</td>\n",
       "      <td>0</td>\n",
       "      <td>21089.953</td>\n",
       "      <td>car purchase</td>\n",
       "      <td>21089.9530</td>\n",
       "      <td>21089.953</td>\n",
       "      <td>medium</td>\n",
       "      <td>car</td>\n",
       "    </tr>\n",
       "    <tr>\n",
       "      <td>22</td>\n",
       "      <td>1</td>\n",
       "      <td>1766.644138</td>\n",
       "      <td>24</td>\n",
       "      <td>secondary education</td>\n",
       "      <td>1</td>\n",
       "      <td>civil partnership</td>\n",
       "      <td>1</td>\n",
       "      <td>F</td>\n",
       "      <td>employee</td>\n",
       "      <td>0</td>\n",
       "      <td>23948.983</td>\n",
       "      <td>buying a second-hand car</td>\n",
       "      <td>23948.9830</td>\n",
       "      <td>23948.983</td>\n",
       "      <td>high</td>\n",
       "      <td>car</td>\n",
       "    </tr>\n",
       "    <tr>\n",
       "      <td>23</td>\n",
       "      <td>0</td>\n",
       "      <td>272.981385</td>\n",
       "      <td>21</td>\n",
       "      <td>bachelor's degree</td>\n",
       "      <td>0</td>\n",
       "      <td>civil partnership</td>\n",
       "      <td>1</td>\n",
       "      <td>M</td>\n",
       "      <td>employee</td>\n",
       "      <td>0</td>\n",
       "      <td>20522.515</td>\n",
       "      <td>to have a wedding</td>\n",
       "      <td>20522.5150</td>\n",
       "      <td>20522.515</td>\n",
       "      <td>medium</td>\n",
       "      <td>wedding</td>\n",
       "    </tr>\n",
       "    <tr>\n",
       "      <td>24</td>\n",
       "      <td>1</td>\n",
       "      <td>338551.952911</td>\n",
       "      <td>57</td>\n",
       "      <td>secondary education</td>\n",
       "      <td>1</td>\n",
       "      <td>unmarried</td>\n",
       "      <td>4</td>\n",
       "      <td>F</td>\n",
       "      <td>retiree</td>\n",
       "      <td>0</td>\n",
       "      <td>46487.558</td>\n",
       "      <td>transactions with commercial real estate</td>\n",
       "      <td>46487.5580</td>\n",
       "      <td>46487.558</td>\n",
       "      <td>extra_high</td>\n",
       "      <td>housing</td>\n",
       "    </tr>\n",
       "    <tr>\n",
       "      <td>25</td>\n",
       "      <td>0</td>\n",
       "      <td>363548.489348</td>\n",
       "      <td>67</td>\n",
       "      <td>secondary education</td>\n",
       "      <td>1</td>\n",
       "      <td>married</td>\n",
       "      <td>0</td>\n",
       "      <td>M</td>\n",
       "      <td>retiree</td>\n",
       "      <td>0</td>\n",
       "      <td>8818.041</td>\n",
       "      <td>buy real estate</td>\n",
       "      <td>8818.0410</td>\n",
       "      <td>8818.041</td>\n",
       "      <td>low</td>\n",
       "      <td>housing</td>\n",
       "    </tr>\n",
       "    <tr>\n",
       "      <td>26</td>\n",
       "      <td>0</td>\n",
       "      <td>NaN</td>\n",
       "      <td>41</td>\n",
       "      <td>secondary education</td>\n",
       "      <td>1</td>\n",
       "      <td>married</td>\n",
       "      <td>0</td>\n",
       "      <td>M</td>\n",
       "      <td>civil servant</td>\n",
       "      <td>0</td>\n",
       "      <td>NaN</td>\n",
       "      <td>education</td>\n",
       "      <td>24071.6695</td>\n",
       "      <td>21864.475</td>\n",
       "      <td>high</td>\n",
       "      <td>education</td>\n",
       "    </tr>\n",
       "    <tr>\n",
       "      <td>27</td>\n",
       "      <td>0</td>\n",
       "      <td>529.191635</td>\n",
       "      <td>28</td>\n",
       "      <td>bachelor's degree</td>\n",
       "      <td>0</td>\n",
       "      <td>married</td>\n",
       "      <td>0</td>\n",
       "      <td>M</td>\n",
       "      <td>employee</td>\n",
       "      <td>0</td>\n",
       "      <td>49415.837</td>\n",
       "      <td>construction of own property</td>\n",
       "      <td>49415.8370</td>\n",
       "      <td>49415.837</td>\n",
       "      <td>extra_high</td>\n",
       "      <td>housing</td>\n",
       "    </tr>\n",
       "    <tr>\n",
       "      <td>28</td>\n",
       "      <td>1</td>\n",
       "      <td>717.274324</td>\n",
       "      <td>26</td>\n",
       "      <td>bachelor's degree</td>\n",
       "      <td>0</td>\n",
       "      <td>married</td>\n",
       "      <td>0</td>\n",
       "      <td>F</td>\n",
       "      <td>employee</td>\n",
       "      <td>0</td>\n",
       "      <td>30058.118</td>\n",
       "      <td>construction of own property</td>\n",
       "      <td>30058.1180</td>\n",
       "      <td>30058.118</td>\n",
       "      <td>high</td>\n",
       "      <td>housing</td>\n",
       "    </tr>\n",
       "    <tr>\n",
       "      <td>29</td>\n",
       "      <td>0</td>\n",
       "      <td>NaN</td>\n",
       "      <td>63</td>\n",
       "      <td>secondary education</td>\n",
       "      <td>1</td>\n",
       "      <td>unmarried</td>\n",
       "      <td>4</td>\n",
       "      <td>F</td>\n",
       "      <td>retiree</td>\n",
       "      <td>0</td>\n",
       "      <td>NaN</td>\n",
       "      <td>building a real estate</td>\n",
       "      <td>18962.3180</td>\n",
       "      <td>18374.857</td>\n",
       "      <td>medium</td>\n",
       "      <td>housing</td>\n",
       "    </tr>\n",
       "    <tr>\n",
       "      <td>30</td>\n",
       "      <td>1</td>\n",
       "      <td>335581.668515</td>\n",
       "      <td>62</td>\n",
       "      <td>secondary education</td>\n",
       "      <td>1</td>\n",
       "      <td>married</td>\n",
       "      <td>0</td>\n",
       "      <td>F</td>\n",
       "      <td>retiree</td>\n",
       "      <td>0</td>\n",
       "      <td>27432.971</td>\n",
       "      <td>transactions with commercial real estate</td>\n",
       "      <td>27432.9710</td>\n",
       "      <td>27432.971</td>\n",
       "      <td>high</td>\n",
       "      <td>housing</td>\n",
       "    </tr>\n",
       "    <tr>\n",
       "      <td>31</td>\n",
       "      <td>0</td>\n",
       "      <td>1682.083438</td>\n",
       "      <td>47</td>\n",
       "      <td>primary education</td>\n",
       "      <td>3</td>\n",
       "      <td>married</td>\n",
       "      <td>0</td>\n",
       "      <td>F</td>\n",
       "      <td>employee</td>\n",
       "      <td>0</td>\n",
       "      <td>44077.710</td>\n",
       "      <td>housing</td>\n",
       "      <td>44077.7100</td>\n",
       "      <td>44077.710</td>\n",
       "      <td>extra_high</td>\n",
       "      <td>housing</td>\n",
       "    </tr>\n",
       "    <tr>\n",
       "      <td>32</td>\n",
       "      <td>0</td>\n",
       "      <td>4649.910832</td>\n",
       "      <td>34</td>\n",
       "      <td>secondary education</td>\n",
       "      <td>1</td>\n",
       "      <td>civil partnership</td>\n",
       "      <td>1</td>\n",
       "      <td>F</td>\n",
       "      <td>employee</td>\n",
       "      <td>1</td>\n",
       "      <td>22249.194</td>\n",
       "      <td>having a wedding</td>\n",
       "      <td>22249.1940</td>\n",
       "      <td>22249.194</td>\n",
       "      <td>medium</td>\n",
       "      <td>wedding</td>\n",
       "    </tr>\n",
       "    <tr>\n",
       "      <td>33</td>\n",
       "      <td>0</td>\n",
       "      <td>1548.637544</td>\n",
       "      <td>48</td>\n",
       "      <td>secondary education</td>\n",
       "      <td>1</td>\n",
       "      <td>married</td>\n",
       "      <td>0</td>\n",
       "      <td>F</td>\n",
       "      <td>business</td>\n",
       "      <td>0</td>\n",
       "      <td>25159.326</td>\n",
       "      <td>purchase of the house</td>\n",
       "      <td>25159.3260</td>\n",
       "      <td>25159.326</td>\n",
       "      <td>high</td>\n",
       "      <td>housing</td>\n",
       "    </tr>\n",
       "    <tr>\n",
       "      <td>34</td>\n",
       "      <td>0</td>\n",
       "      <td>4488.067031</td>\n",
       "      <td>35</td>\n",
       "      <td>secondary education</td>\n",
       "      <td>1</td>\n",
       "      <td>married</td>\n",
       "      <td>0</td>\n",
       "      <td>F</td>\n",
       "      <td>employee</td>\n",
       "      <td>0</td>\n",
       "      <td>16745.672</td>\n",
       "      <td>transactions with my real estate</td>\n",
       "      <td>16745.6720</td>\n",
       "      <td>16745.672</td>\n",
       "      <td>low</td>\n",
       "      <td>housing</td>\n",
       "    </tr>\n",
       "    <tr>\n",
       "      <td>35</td>\n",
       "      <td>0</td>\n",
       "      <td>394021.072184</td>\n",
       "      <td>68</td>\n",
       "      <td>secondary education</td>\n",
       "      <td>1</td>\n",
       "      <td>civil partnership</td>\n",
       "      <td>1</td>\n",
       "      <td>M</td>\n",
       "      <td>retiree</td>\n",
       "      <td>0</td>\n",
       "      <td>12448.908</td>\n",
       "      <td>having a wedding</td>\n",
       "      <td>12448.9080</td>\n",
       "      <td>12448.908</td>\n",
       "      <td>low</td>\n",
       "      <td>wedding</td>\n",
       "    </tr>\n",
       "    <tr>\n",
       "      <td>36</td>\n",
       "      <td>0</td>\n",
       "      <td>176.216688</td>\n",
       "      <td>33</td>\n",
       "      <td>secondary education</td>\n",
       "      <td>1</td>\n",
       "      <td>unmarried</td>\n",
       "      <td>4</td>\n",
       "      <td>M</td>\n",
       "      <td>employee</td>\n",
       "      <td>0</td>\n",
       "      <td>22212.904</td>\n",
       "      <td>cars</td>\n",
       "      <td>22212.9040</td>\n",
       "      <td>22212.904</td>\n",
       "      <td>medium</td>\n",
       "      <td>car</td>\n",
       "    </tr>\n",
       "    <tr>\n",
       "      <td>37</td>\n",
       "      <td>0</td>\n",
       "      <td>6448.810860</td>\n",
       "      <td>43</td>\n",
       "      <td>bachelor's degree</td>\n",
       "      <td>0</td>\n",
       "      <td>civil partnership</td>\n",
       "      <td>1</td>\n",
       "      <td>F</td>\n",
       "      <td>business</td>\n",
       "      <td>0</td>\n",
       "      <td>24660.621</td>\n",
       "      <td>car purchase</td>\n",
       "      <td>24660.6210</td>\n",
       "      <td>24660.621</td>\n",
       "      <td>high</td>\n",
       "      <td>car</td>\n",
       "    </tr>\n",
       "    <tr>\n",
       "      <td>38</td>\n",
       "      <td>0</td>\n",
       "      <td>597.881827</td>\n",
       "      <td>25</td>\n",
       "      <td>bachelor's degree</td>\n",
       "      <td>0</td>\n",
       "      <td>unmarried</td>\n",
       "      <td>4</td>\n",
       "      <td>M</td>\n",
       "      <td>employee</td>\n",
       "      <td>1</td>\n",
       "      <td>30759.568</td>\n",
       "      <td>education</td>\n",
       "      <td>30759.5680</td>\n",
       "      <td>30759.568</td>\n",
       "      <td>high</td>\n",
       "      <td>education</td>\n",
       "    </tr>\n",
       "    <tr>\n",
       "      <td>39</td>\n",
       "      <td>0</td>\n",
       "      <td>650.587796</td>\n",
       "      <td>31</td>\n",
       "      <td>bachelor's degree</td>\n",
       "      <td>0</td>\n",
       "      <td>civil partnership</td>\n",
       "      <td>1</td>\n",
       "      <td>F</td>\n",
       "      <td>business</td>\n",
       "      <td>0</td>\n",
       "      <td>120678.528</td>\n",
       "      <td>to become educated</td>\n",
       "      <td>120678.5280</td>\n",
       "      <td>120678.528</td>\n",
       "      <td>extra_high</td>\n",
       "      <td>education</td>\n",
       "    </tr>\n",
       "    <tr>\n",
       "      <td>40</td>\n",
       "      <td>0</td>\n",
       "      <td>1030.362606</td>\n",
       "      <td>30</td>\n",
       "      <td>secondary education</td>\n",
       "      <td>1</td>\n",
       "      <td>unmarried</td>\n",
       "      <td>4</td>\n",
       "      <td>M</td>\n",
       "      <td>business</td>\n",
       "      <td>0</td>\n",
       "      <td>22858.493</td>\n",
       "      <td>buy real estate</td>\n",
       "      <td>22858.4930</td>\n",
       "      <td>22858.493</td>\n",
       "      <td>high</td>\n",
       "      <td>housing</td>\n",
       "    </tr>\n",
       "    <tr>\n",
       "      <td>41</td>\n",
       "      <td>0</td>\n",
       "      <td>NaN</td>\n",
       "      <td>50</td>\n",
       "      <td>secondary education</td>\n",
       "      <td>1</td>\n",
       "      <td>married</td>\n",
       "      <td>0</td>\n",
       "      <td>F</td>\n",
       "      <td>civil servant</td>\n",
       "      <td>0</td>\n",
       "      <td>NaN</td>\n",
       "      <td>second-hand car purchase</td>\n",
       "      <td>24071.6695</td>\n",
       "      <td>21864.475</td>\n",
       "      <td>high</td>\n",
       "      <td>car</td>\n",
       "    </tr>\n",
       "    <tr>\n",
       "      <td>42</td>\n",
       "      <td>0</td>\n",
       "      <td>1257.496190</td>\n",
       "      <td>20</td>\n",
       "      <td>some college</td>\n",
       "      <td>2</td>\n",
       "      <td>unmarried</td>\n",
       "      <td>4</td>\n",
       "      <td>F</td>\n",
       "      <td>employee</td>\n",
       "      <td>0</td>\n",
       "      <td>13130.414</td>\n",
       "      <td>getting an education</td>\n",
       "      <td>13130.4140</td>\n",
       "      <td>13130.414</td>\n",
       "      <td>low</td>\n",
       "      <td>education</td>\n",
       "    </tr>\n",
       "    <tr>\n",
       "      <td>43</td>\n",
       "      <td>0</td>\n",
       "      <td>4375.681384</td>\n",
       "      <td>43</td>\n",
       "      <td>some college</td>\n",
       "      <td>2</td>\n",
       "      <td>divorced</td>\n",
       "      <td>3</td>\n",
       "      <td>F</td>\n",
       "      <td>business</td>\n",
       "      <td>0</td>\n",
       "      <td>43673.141</td>\n",
       "      <td>car purchase</td>\n",
       "      <td>43673.1410</td>\n",
       "      <td>43673.141</td>\n",
       "      <td>extra_high</td>\n",
       "      <td>car</td>\n",
       "    </tr>\n",
       "    <tr>\n",
       "      <td>44</td>\n",
       "      <td>1</td>\n",
       "      <td>1362.041728</td>\n",
       "      <td>26</td>\n",
       "      <td>secondary education</td>\n",
       "      <td>1</td>\n",
       "      <td>married</td>\n",
       "      <td>0</td>\n",
       "      <td>F</td>\n",
       "      <td>employee</td>\n",
       "      <td>0</td>\n",
       "      <td>16124.879</td>\n",
       "      <td>buying my own car</td>\n",
       "      <td>16124.8790</td>\n",
       "      <td>16124.879</td>\n",
       "      <td>low</td>\n",
       "      <td>car</td>\n",
       "    </tr>\n",
       "    <tr>\n",
       "      <td>45</td>\n",
       "      <td>1</td>\n",
       "      <td>1039.451741</td>\n",
       "      <td>49</td>\n",
       "      <td>secondary education</td>\n",
       "      <td>1</td>\n",
       "      <td>unmarried</td>\n",
       "      <td>4</td>\n",
       "      <td>F</td>\n",
       "      <td>employee</td>\n",
       "      <td>0</td>\n",
       "      <td>17021.747</td>\n",
       "      <td>to become educated</td>\n",
       "      <td>17021.7470</td>\n",
       "      <td>17021.747</td>\n",
       "      <td>low</td>\n",
       "      <td>education</td>\n",
       "    </tr>\n",
       "    <tr>\n",
       "      <td>46</td>\n",
       "      <td>2</td>\n",
       "      <td>2262.712304</td>\n",
       "      <td>37</td>\n",
       "      <td>secondary education</td>\n",
       "      <td>1</td>\n",
       "      <td>married</td>\n",
       "      <td>0</td>\n",
       "      <td>F</td>\n",
       "      <td>business</td>\n",
       "      <td>0</td>\n",
       "      <td>29229.194</td>\n",
       "      <td>second-hand car purchase</td>\n",
       "      <td>29229.1940</td>\n",
       "      <td>29229.194</td>\n",
       "      <td>high</td>\n",
       "      <td>car</td>\n",
       "    </tr>\n",
       "    <tr>\n",
       "      <td>47</td>\n",
       "      <td>1</td>\n",
       "      <td>2689.137274</td>\n",
       "      <td>33</td>\n",
       "      <td>bachelor's degree</td>\n",
       "      <td>0</td>\n",
       "      <td>civil partnership</td>\n",
       "      <td>1</td>\n",
       "      <td>M</td>\n",
       "      <td>civil servant</td>\n",
       "      <td>0</td>\n",
       "      <td>57004.465</td>\n",
       "      <td>having a wedding</td>\n",
       "      <td>57004.4650</td>\n",
       "      <td>57004.465</td>\n",
       "      <td>extra_high</td>\n",
       "      <td>wedding</td>\n",
       "    </tr>\n",
       "    <tr>\n",
       "      <td>48</td>\n",
       "      <td>0</td>\n",
       "      <td>3341.067886</td>\n",
       "      <td>45</td>\n",
       "      <td>secondary education</td>\n",
       "      <td>1</td>\n",
       "      <td>married</td>\n",
       "      <td>0</td>\n",
       "      <td>F</td>\n",
       "      <td>employee</td>\n",
       "      <td>0</td>\n",
       "      <td>25930.483</td>\n",
       "      <td>construction of own property</td>\n",
       "      <td>25930.4830</td>\n",
       "      <td>25930.483</td>\n",
       "      <td>high</td>\n",
       "      <td>housing</td>\n",
       "    </tr>\n",
       "    <tr>\n",
       "      <td>49</td>\n",
       "      <td>0</td>\n",
       "      <td>1181.443228</td>\n",
       "      <td>54</td>\n",
       "      <td>secondary education</td>\n",
       "      <td>1</td>\n",
       "      <td>married</td>\n",
       "      <td>0</td>\n",
       "      <td>F</td>\n",
       "      <td>employee</td>\n",
       "      <td>0</td>\n",
       "      <td>7134.689</td>\n",
       "      <td>car</td>\n",
       "      <td>7134.6890</td>\n",
       "      <td>7134.689</td>\n",
       "      <td>low</td>\n",
       "      <td>car</td>\n",
       "    </tr>\n",
       "  </tbody>\n",
       "</table>\n",
       "</div>"
      ],
      "text/plain": [
       "    children  days_employed  dob_years            education  education_id  \\\n",
       "0          1    8437.673028         42    bachelor's degree             0   \n",
       "1          1    4024.803754         36  secondary education             1   \n",
       "2          0    5623.422610         33  secondary education             1   \n",
       "3          3    4124.747207         32  secondary education             1   \n",
       "4          0  340266.072047         53  secondary education             1   \n",
       "5          0     926.185831         27    bachelor's degree             0   \n",
       "6          0    2879.202052         43    bachelor's degree             0   \n",
       "7          0     152.779569         50  secondary education             1   \n",
       "8          2    6929.865299         35    bachelor's degree             0   \n",
       "9          0    2188.756445         41  secondary education             1   \n",
       "10         2    4171.483647         36    bachelor's degree             0   \n",
       "11         0     792.701887         40  secondary education             1   \n",
       "12         0            NaN         65  secondary education             1   \n",
       "13         0    1846.641941         54         some college             2   \n",
       "14         0    1844.956182         56    bachelor's degree             0   \n",
       "15         1     972.364419         26  secondary education             1   \n",
       "16         0    1719.934226         35  secondary education             1   \n",
       "17         0    2369.999720         33    bachelor's degree             0   \n",
       "18         0  400281.136913         53  secondary education             1   \n",
       "19         0   10038.818549         48  secondary education             1   \n",
       "20         1    1311.604166         36  secondary education             1   \n",
       "21         1     253.685166         33  secondary education             1   \n",
       "22         1    1766.644138         24  secondary education             1   \n",
       "23         0     272.981385         21    bachelor's degree             0   \n",
       "24         1  338551.952911         57  secondary education             1   \n",
       "25         0  363548.489348         67  secondary education             1   \n",
       "26         0            NaN         41  secondary education             1   \n",
       "27         0     529.191635         28    bachelor's degree             0   \n",
       "28         1     717.274324         26    bachelor's degree             0   \n",
       "29         0            NaN         63  secondary education             1   \n",
       "30         1  335581.668515         62  secondary education             1   \n",
       "31         0    1682.083438         47    primary education             3   \n",
       "32         0    4649.910832         34  secondary education             1   \n",
       "33         0    1548.637544         48  secondary education             1   \n",
       "34         0    4488.067031         35  secondary education             1   \n",
       "35         0  394021.072184         68  secondary education             1   \n",
       "36         0     176.216688         33  secondary education             1   \n",
       "37         0    6448.810860         43    bachelor's degree             0   \n",
       "38         0     597.881827         25    bachelor's degree             0   \n",
       "39         0     650.587796         31    bachelor's degree             0   \n",
       "40         0    1030.362606         30  secondary education             1   \n",
       "41         0            NaN         50  secondary education             1   \n",
       "42         0    1257.496190         20         some college             2   \n",
       "43         0    4375.681384         43         some college             2   \n",
       "44         1    1362.041728         26  secondary education             1   \n",
       "45         1    1039.451741         49  secondary education             1   \n",
       "46         2    2262.712304         37  secondary education             1   \n",
       "47         1    2689.137274         33    bachelor's degree             0   \n",
       "48         0    3341.067886         45  secondary education             1   \n",
       "49         0    1181.443228         54  secondary education             1   \n",
       "\n",
       "        family_status  family_status_id gender    income_type  debt  \\\n",
       "0             married                 0      F       employee     0   \n",
       "1             married                 0      F       employee     0   \n",
       "2             married                 0      M       employee     0   \n",
       "3             married                 0      M       employee     0   \n",
       "4   civil partnership                 1      F        retiree     0   \n",
       "5   civil partnership                 1      M       business     0   \n",
       "6             married                 0      F       business     0   \n",
       "7             married                 0      M       employee     0   \n",
       "8   civil partnership                 1      F       employee     0   \n",
       "9             married                 0      M       employee     0   \n",
       "10            married                 0      M       business     0   \n",
       "11            married                 0      F       employee     0   \n",
       "12  civil partnership                 1      M        retiree     0   \n",
       "13            married                 0      F       employee     0   \n",
       "14  civil partnership                 1      F       business     1   \n",
       "15            married                 0      F       employee     0   \n",
       "16            married                 0      F       employee     0   \n",
       "17  civil partnership                 1      M       employee     0   \n",
       "18    widow / widower                 2      F        retiree     0   \n",
       "19           divorced                 3      F       employee     0   \n",
       "20            married                 0      M       employee     0   \n",
       "21  civil partnership                 1      F       employee     0   \n",
       "22  civil partnership                 1      F       employee     0   \n",
       "23  civil partnership                 1      M       employee     0   \n",
       "24          unmarried                 4      F        retiree     0   \n",
       "25            married                 0      M        retiree     0   \n",
       "26            married                 0      M  civil servant     0   \n",
       "27            married                 0      M       employee     0   \n",
       "28            married                 0      F       employee     0   \n",
       "29          unmarried                 4      F        retiree     0   \n",
       "30            married                 0      F        retiree     0   \n",
       "31            married                 0      F       employee     0   \n",
       "32  civil partnership                 1      F       employee     1   \n",
       "33            married                 0      F       business     0   \n",
       "34            married                 0      F       employee     0   \n",
       "35  civil partnership                 1      M        retiree     0   \n",
       "36          unmarried                 4      M       employee     0   \n",
       "37  civil partnership                 1      F       business     0   \n",
       "38          unmarried                 4      M       employee     1   \n",
       "39  civil partnership                 1      F       business     0   \n",
       "40          unmarried                 4      M       business     0   \n",
       "41            married                 0      F  civil servant     0   \n",
       "42          unmarried                 4      F       employee     0   \n",
       "43           divorced                 3      F       business     0   \n",
       "44            married                 0      F       employee     0   \n",
       "45          unmarried                 4      F       employee     0   \n",
       "46            married                 0      F       business     0   \n",
       "47  civil partnership                 1      M  civil servant     0   \n",
       "48            married                 0      F       employee     0   \n",
       "49            married                 0      F       employee     0   \n",
       "\n",
       "    total_income                                   purpose  total_income_full  \\\n",
       "0      40620.102                     purchase of the house         40620.1020   \n",
       "1      17932.802                              car purchase         17932.8020   \n",
       "2      23341.752                     purchase of the house         23341.7520   \n",
       "3      42820.568                   supplementary education         42820.5680   \n",
       "4      25378.572                         to have a wedding         25378.5720   \n",
       "5      40922.170                     purchase of the house         40922.1700   \n",
       "6      38484.156                      housing transactions         38484.1560   \n",
       "7      21731.829                                 education         21731.8290   \n",
       "8      15337.093                          having a wedding         15337.0930   \n",
       "9      23108.150       purchase of the house for my family         23108.1500   \n",
       "10     18230.959                           buy real estate         18230.9590   \n",
       "11     12331.077                buy commercial real estate         12331.0770   \n",
       "12           NaN                         to have a wedding         18962.3180   \n",
       "13     20873.317                              car purchase         20873.3170   \n",
       "14     26420.466               buy residential real estate         26420.4660   \n",
       "15     18691.345              construction of own property         18691.3450   \n",
       "16     46272.433                                  property         46272.4330   \n",
       "17     14465.694                       building a property         14465.6940   \n",
       "18      9091.804                  buying a second-hand car          9091.8040   \n",
       "19     38852.977                         buying my own car         38852.9770   \n",
       "20     33528.423                                  property         33528.4230   \n",
       "21     21089.953                              car purchase         21089.9530   \n",
       "22     23948.983                  buying a second-hand car         23948.9830   \n",
       "23     20522.515                         to have a wedding         20522.5150   \n",
       "24     46487.558  transactions with commercial real estate         46487.5580   \n",
       "25      8818.041                           buy real estate          8818.0410   \n",
       "26           NaN                                 education         24071.6695   \n",
       "27     49415.837              construction of own property         49415.8370   \n",
       "28     30058.118              construction of own property         30058.1180   \n",
       "29           NaN                    building a real estate         18962.3180   \n",
       "30     27432.971  transactions with commercial real estate         27432.9710   \n",
       "31     44077.710                                   housing         44077.7100   \n",
       "32     22249.194                          having a wedding         22249.1940   \n",
       "33     25159.326                     purchase of the house         25159.3260   \n",
       "34     16745.672          transactions with my real estate         16745.6720   \n",
       "35     12448.908                          having a wedding         12448.9080   \n",
       "36     22212.904                                      cars         22212.9040   \n",
       "37     24660.621                              car purchase         24660.6210   \n",
       "38     30759.568                                 education         30759.5680   \n",
       "39    120678.528                        to become educated        120678.5280   \n",
       "40     22858.493                           buy real estate         22858.4930   \n",
       "41           NaN                  second-hand car purchase         24071.6695   \n",
       "42     13130.414                      getting an education         13130.4140   \n",
       "43     43673.141                              car purchase         43673.1410   \n",
       "44     16124.879                         buying my own car         16124.8790   \n",
       "45     17021.747                        to become educated         17021.7470   \n",
       "46     29229.194                  second-hand car purchase         29229.1940   \n",
       "47     57004.465                          having a wedding         57004.4650   \n",
       "48     25930.483              construction of own property         25930.4830   \n",
       "49      7134.689                                       car          7134.6890   \n",
       "\n",
       "    total_income_full1  income_cat purpose_cat  \n",
       "0            40620.102  extra_high     housing  \n",
       "1            17932.802      medium         car  \n",
       "2            23341.752        high     housing  \n",
       "3            42820.568  extra_high   education  \n",
       "4            25378.572        high     wedding  \n",
       "5            40922.170  extra_high     housing  \n",
       "6            38484.156  extra_high     housing  \n",
       "7            21731.829      medium   education  \n",
       "8            15337.093         low     wedding  \n",
       "9            23108.150        high     housing  \n",
       "10           18230.959      medium     housing  \n",
       "11           12331.077         low     housing  \n",
       "12           18374.857      medium     wedding  \n",
       "13           20873.317      medium         car  \n",
       "14           26420.466        high     housing  \n",
       "15           18691.345      medium     housing  \n",
       "16           46272.433  extra_high     housing  \n",
       "17           14465.694         low     housing  \n",
       "18            9091.804         low         car  \n",
       "19           38852.977  extra_high         car  \n",
       "20           33528.423  extra_high     housing  \n",
       "21           21089.953      medium         car  \n",
       "22           23948.983        high         car  \n",
       "23           20522.515      medium     wedding  \n",
       "24           46487.558  extra_high     housing  \n",
       "25            8818.041         low     housing  \n",
       "26           21864.475        high   education  \n",
       "27           49415.837  extra_high     housing  \n",
       "28           30058.118        high     housing  \n",
       "29           18374.857      medium     housing  \n",
       "30           27432.971        high     housing  \n",
       "31           44077.710  extra_high     housing  \n",
       "32           22249.194      medium     wedding  \n",
       "33           25159.326        high     housing  \n",
       "34           16745.672         low     housing  \n",
       "35           12448.908         low     wedding  \n",
       "36           22212.904      medium         car  \n",
       "37           24660.621        high         car  \n",
       "38           30759.568        high   education  \n",
       "39          120678.528  extra_high   education  \n",
       "40           22858.493        high     housing  \n",
       "41           21864.475        high         car  \n",
       "42           13130.414         low   education  \n",
       "43           43673.141  extra_high         car  \n",
       "44           16124.879         low         car  \n",
       "45           17021.747         low   education  \n",
       "46           29229.194        high         car  \n",
       "47           57004.465  extra_high     wedding  \n",
       "48           25930.483        high     housing  \n",
       "49            7134.689         low         car  "
      ]
     },
     "execution_count": 53,
     "metadata": {},
     "output_type": "execute_result"
    }
   ],
   "source": [
    "credit_scoring.head(50)"
   ]
  },
  {
   "cell_type": "markdown",
   "metadata": {},
   "source": [
    "### Conclusion"
   ]
  },
  {
   "cell_type": "markdown",
   "metadata": {},
   "source": [
    "People who takes loan for car purpose have lower chance to repay loan but people that takes the loan for wedding proposes have higher chance to repay the loan "
   ]
  },
  {
   "cell_type": "markdown",
   "metadata": {},
   "source": [
    "<div class=\"alert alert-success\">\n",
    "<b>Reviewer's comment v2:</b> Well done, all answers are right.\n",
    "</div>"
   ]
  },
  {
   "cell_type": "markdown",
   "metadata": {},
   "source": [
    "## General conclusion"
   ]
  },
  {
   "cell_type": "markdown",
   "metadata": {},
   "source": [
    "general conclusion is that there is several factors that effect on-time repayment of the loan like income level , marital status, family status .we need to take in consideration all of those factors when offering the loan."
   ]
  },
  {
   "cell_type": "markdown",
   "metadata": {},
   "source": [
    "General conclusion is that there is several factors that effect  on-time repayment of the loan like income level(middle class people with medium income have higher chance to not repay the loan), marital status(unmarried people have the lowest chance to repay the loan). family status (as more children you have is harder to repay the loan), the purpose of the loan(people that takes the loan for car purpose have the lowest chance to repay the loan).we need to take in consideration all of those factors when offering the loan."
   ]
  },
  {
   "cell_type": "markdown",
   "metadata": {},
   "source": [
    "<div class=\"alert alert-danger\">\n",
    "<b>Reviewer's comment v2:</b> This is too brief conclusion for such a large research. If this were a real task, your supervisor would read this part at first. Please, expand it.\n",
    "</div>"
   ]
  },
  {
   "cell_type": "markdown",
   "metadata": {},
   "source": [
    "## Project Readiness Checklist\n",
    "\n",
    "Put 'x' in the completed points. Then press Shift + Enter."
   ]
  },
  {
   "cell_type": "markdown",
   "metadata": {},
   "source": [
    "- [x]  file open;\n",
    "- [X ]  file examined;\n",
    "- [ X]  missing values defined;\n",
    "- [X ]  missing values are filled;\n",
    "- [ X]  an explanation of which missing value types were detected;\n",
    "- [ X]  explanation for the possible causes of missing values;\n",
    "- [X ]  an explanation of how the blanks are filled;\n",
    "- [ X]  replaced the real data type with an integer;\n",
    "- [ X]  an explanation of which method is used to change the data type and why;\n",
    "- [ X]  duplicates deleted;\n",
    "- [X ]  an explanation of which method is used to find and remove duplicates;\n",
    "- [X ]  description of the possible reasons for the appearance of duplicates in the data;\n",
    "- [X ]  data is categorized;\n",
    "- [X ]  an explanation of the principle of data categorization;\n",
    "- [X ]  an answer to the question \"Is there a relation between having kids and repaying a loan on time?\";\n",
    "- [X ]  an answer to the question \" Is there a relation between marital status and repaying a loan on time?\";\n",
    "- [X ]   an answer to the question \" Is there a relation between income level and repaying a loan on time?\";\n",
    "- [X ]  an answer to the question \" How do different loan purposes affect on-time repayment of the loan?\"\n",
    "- [ X]  conclusions are present on each stage;\n",
    "- [ X]  a general conclusion is made."
   ]
  },
  {
   "cell_type": "markdown",
   "metadata": {},
   "source": [
    "hi, i have saved the project as i can please try to run all the codes from the begeening to the end."
   ]
  }
 ],
 "metadata": {
  "ExecuteTimeLog": [
   {
    "duration": 727,
    "start_time": "2021-10-13T07:51:30.885Z"
   },
   {
    "duration": 53,
    "start_time": "2021-10-13T07:54:43.279Z"
   },
   {
    "duration": 4,
    "start_time": "2021-10-13T07:57:47.864Z"
   },
   {
    "duration": 50,
    "start_time": "2021-10-13T07:57:48.662Z"
   },
   {
    "duration": 3,
    "start_time": "2021-10-13T07:57:53.861Z"
   },
   {
    "duration": 52,
    "start_time": "2021-10-13T07:57:54.757Z"
   },
   {
    "duration": 3,
    "start_time": "2021-10-13T08:04:10.129Z"
   },
   {
    "duration": 50,
    "start_time": "2021-10-13T08:04:10.830Z"
   },
   {
    "duration": 65,
    "start_time": "2021-10-13T08:05:45.504Z"
   },
   {
    "duration": 58,
    "start_time": "2021-10-13T08:06:59.416Z"
   },
   {
    "duration": 60,
    "start_time": "2021-10-13T08:09:33.607Z"
   },
   {
    "duration": 79,
    "start_time": "2021-10-13T08:09:42.600Z"
   },
   {
    "duration": 64,
    "start_time": "2021-10-13T08:09:59.375Z"
   },
   {
    "duration": 62,
    "start_time": "2021-10-13T08:10:13.538Z"
   },
   {
    "duration": 15,
    "start_time": "2021-10-13T08:10:59.699Z"
   },
   {
    "duration": 29,
    "start_time": "2021-10-13T08:11:51.209Z"
   },
   {
    "duration": 49,
    "start_time": "2021-10-13T08:18:30.483Z"
   },
   {
    "duration": 468,
    "start_time": "2021-10-13T08:19:09.784Z"
   },
   {
    "duration": 13,
    "start_time": "2021-10-13T08:19:19.425Z"
   },
   {
    "duration": 13,
    "start_time": "2021-10-13T08:25:14.163Z"
   },
   {
    "duration": 106,
    "start_time": "2021-10-13T08:26:37.278Z"
   },
   {
    "duration": 131,
    "start_time": "2021-10-13T08:28:32.853Z"
   },
   {
    "duration": 311,
    "start_time": "2021-10-13T08:28:53.449Z"
   },
   {
    "duration": 101,
    "start_time": "2021-10-13T08:30:13.104Z"
   },
   {
    "duration": 1097,
    "start_time": "2021-10-13T08:30:26.666Z"
   },
   {
    "duration": 16,
    "start_time": "2021-10-13T08:31:31.359Z"
   },
   {
    "duration": 14,
    "start_time": "2021-10-13T08:32:17.020Z"
   },
   {
    "duration": 307,
    "start_time": "2021-10-13T08:33:50.147Z"
   },
   {
    "duration": 7,
    "start_time": "2021-10-13T08:34:18.174Z"
   },
   {
    "duration": 308,
    "start_time": "2021-10-13T08:34:39.264Z"
   },
   {
    "duration": -121,
    "start_time": "2021-10-13T08:34:54.742Z"
   },
   {
    "duration": 7,
    "start_time": "2021-10-13T08:34:58.037Z"
   },
   {
    "duration": 8199,
    "start_time": "2021-10-13T08:35:10.599Z"
   },
   {
    "duration": 15,
    "start_time": "2021-10-13T08:35:19.344Z"
   },
   {
    "duration": 10128,
    "start_time": "2021-10-13T08:35:31.404Z"
   },
   {
    "duration": 7,
    "start_time": "2021-10-13T08:35:54.272Z"
   },
   {
    "duration": 323,
    "start_time": "2021-10-13T08:40:31.635Z"
   },
   {
    "duration": 5,
    "start_time": "2021-10-13T08:40:46.338Z"
   },
   {
    "duration": 6,
    "start_time": "2021-10-13T08:41:41.146Z"
   },
   {
    "duration": 6,
    "start_time": "2021-10-13T08:49:43.010Z"
   },
   {
    "duration": 12,
    "start_time": "2021-10-13T08:52:24.448Z"
   },
   {
    "duration": 15,
    "start_time": "2021-10-13T09:28:03.523Z"
   },
   {
    "duration": 7,
    "start_time": "2021-10-13T09:33:18.356Z"
   },
   {
    "duration": 12,
    "start_time": "2021-10-13T09:33:28.310Z"
   },
   {
    "duration": 299,
    "start_time": "2021-10-13T09:39:41.666Z"
   },
   {
    "duration": 14,
    "start_time": "2021-10-13T09:40:06.597Z"
   },
   {
    "duration": 39,
    "start_time": "2021-10-13T09:40:25.274Z"
   },
   {
    "duration": 10,
    "start_time": "2021-10-13T09:42:17.890Z"
   },
   {
    "duration": 10,
    "start_time": "2021-10-13T09:42:28.622Z"
   },
   {
    "duration": 39,
    "start_time": "2021-10-13T09:42:47.237Z"
   },
   {
    "duration": 16,
    "start_time": "2021-10-13T09:43:06.242Z"
   },
   {
    "duration": 305,
    "start_time": "2021-10-13T09:51:35.379Z"
   },
   {
    "duration": 414,
    "start_time": "2021-10-13T09:51:47.461Z"
   },
   {
    "duration": 299,
    "start_time": "2021-10-13T09:52:03.702Z"
   },
   {
    "duration": 39,
    "start_time": "2021-10-13T09:53:06.121Z"
   },
   {
    "duration": 277,
    "start_time": "2021-10-13T09:56:40.686Z"
   },
   {
    "duration": 14,
    "start_time": "2021-10-13T09:56:52.829Z"
   },
   {
    "duration": 42,
    "start_time": "2021-10-13T09:57:24.142Z"
   },
   {
    "duration": 331,
    "start_time": "2021-10-13T10:01:05.985Z"
   },
   {
    "duration": 17,
    "start_time": "2021-10-13T10:01:36.921Z"
   },
   {
    "duration": 330,
    "start_time": "2021-10-13T10:02:57.429Z"
   },
   {
    "duration": 334,
    "start_time": "2021-10-13T10:03:53.259Z"
   },
   {
    "duration": 36,
    "start_time": "2021-10-13T10:04:29.827Z"
   },
   {
    "duration": 15,
    "start_time": "2021-10-13T10:06:26.499Z"
   },
   {
    "duration": 307,
    "start_time": "2021-10-13T10:59:46.385Z"
   },
   {
    "duration": 355,
    "start_time": "2021-10-13T10:59:58.975Z"
   },
   {
    "duration": 300,
    "start_time": "2021-10-13T11:03:48.085Z"
   },
   {
    "duration": 30,
    "start_time": "2021-10-13T11:04:06.430Z"
   },
   {
    "duration": 27,
    "start_time": "2021-10-13T11:04:30.204Z"
   },
   {
    "duration": 30,
    "start_time": "2021-10-13T11:04:42.069Z"
   },
   {
    "duration": 278,
    "start_time": "2021-10-13T11:12:18.005Z"
   },
   {
    "duration": 39,
    "start_time": "2021-10-13T11:12:55.257Z"
   },
   {
    "duration": 11,
    "start_time": "2021-10-13T11:20:42.366Z"
   },
   {
    "duration": 103,
    "start_time": "2021-10-13T11:31:38.336Z"
   },
   {
    "duration": 137,
    "start_time": "2021-10-13T11:32:08.987Z"
   },
   {
    "duration": 106,
    "start_time": "2021-10-13T11:32:28.161Z"
   },
   {
    "duration": 4,
    "start_time": "2021-10-13T11:32:40.549Z"
   },
   {
    "duration": 4,
    "start_time": "2021-10-13T11:33:24.574Z"
   },
   {
    "duration": 5,
    "start_time": "2021-10-13T11:34:18.783Z"
   },
   {
    "duration": 5,
    "start_time": "2021-10-13T11:34:50.373Z"
   },
   {
    "duration": 8,
    "start_time": "2021-10-13T11:35:28.939Z"
   },
   {
    "duration": 6,
    "start_time": "2021-10-13T11:37:15.101Z"
   },
   {
    "duration": 5,
    "start_time": "2021-10-13T11:38:32.688Z"
   },
   {
    "duration": 4,
    "start_time": "2021-10-13T11:38:36.805Z"
   },
   {
    "duration": 6,
    "start_time": "2021-10-13T11:40:09.739Z"
   },
   {
    "duration": 6,
    "start_time": "2021-10-13T11:40:26.222Z"
   },
   {
    "duration": 5,
    "start_time": "2021-10-13T11:40:46.338Z"
   },
   {
    "duration": 6,
    "start_time": "2021-10-13T11:40:50.431Z"
   },
   {
    "duration": 4,
    "start_time": "2021-10-13T11:41:02.390Z"
   },
   {
    "duration": 5,
    "start_time": "2021-10-13T11:41:11.525Z"
   },
   {
    "duration": 4,
    "start_time": "2021-10-13T11:41:44.282Z"
   },
   {
    "duration": 5,
    "start_time": "2021-10-13T11:41:47.616Z"
   },
   {
    "duration": 5,
    "start_time": "2021-10-13T11:42:01.636Z"
   },
   {
    "duration": 6,
    "start_time": "2021-10-13T11:42:23.237Z"
   },
   {
    "duration": 5,
    "start_time": "2021-10-13T11:42:47.191Z"
   },
   {
    "duration": 5,
    "start_time": "2021-10-13T11:43:12.213Z"
   },
   {
    "duration": -202,
    "start_time": "2021-10-13T11:46:47.370Z"
   },
   {
    "duration": 9438,
    "start_time": "2021-10-13T11:46:57.736Z"
   },
   {
    "duration": 35,
    "start_time": "2021-10-13T11:48:11.236Z"
   },
   {
    "duration": 93,
    "start_time": "2021-10-13T11:50:05.295Z"
   },
   {
    "duration": 13,
    "start_time": "2021-10-13T11:50:12.794Z"
   },
   {
    "duration": 334,
    "start_time": "2021-10-13T11:50:26.475Z"
   },
   {
    "duration": 2125,
    "start_time": "2021-10-13T11:51:56.069Z"
   },
   {
    "duration": 7,
    "start_time": "2021-10-13T11:52:16.501Z"
   },
   {
    "duration": 18,
    "start_time": "2021-10-13T12:00:05.578Z"
   },
   {
    "duration": 48,
    "start_time": "2021-10-13T12:00:37.438Z"
   },
   {
    "duration": 16,
    "start_time": "2021-10-13T12:00:53.990Z"
   },
   {
    "duration": 303,
    "start_time": "2021-10-13T12:01:44.519Z"
   },
   {
    "duration": 12,
    "start_time": "2021-10-13T12:03:38.966Z"
   },
   {
    "duration": 51,
    "start_time": "2021-10-13T12:03:43.775Z"
   },
   {
    "duration": 314,
    "start_time": "2021-10-13T12:07:36.986Z"
   },
   {
    "duration": 7,
    "start_time": "2021-10-13T12:07:52.721Z"
   },
   {
    "duration": 371,
    "start_time": "2021-10-13T12:13:02.020Z"
   },
   {
    "duration": 311,
    "start_time": "2021-10-13T12:13:37.914Z"
   },
   {
    "duration": 311,
    "start_time": "2021-10-13T12:14:17.324Z"
   },
   {
    "duration": 319,
    "start_time": "2021-10-13T12:18:36.286Z"
   },
   {
    "duration": 335,
    "start_time": "2021-10-13T12:20:12.639Z"
   },
   {
    "duration": 968,
    "start_time": "2021-10-13T12:20:45.323Z"
   },
   {
    "duration": 327,
    "start_time": "2021-10-13T12:53:49.052Z"
   },
   {
    "duration": 62,
    "start_time": "2021-10-13T12:53:56.210Z"
   },
   {
    "duration": 18,
    "start_time": "2021-10-13T12:59:00.586Z"
   },
   {
    "duration": 14,
    "start_time": "2021-10-13T13:08:04.065Z"
   },
   {
    "duration": 13,
    "start_time": "2021-10-13T13:09:06.767Z"
   },
   {
    "duration": 57,
    "start_time": "2021-10-13T13:09:13.304Z"
   },
   {
    "duration": 61,
    "start_time": "2021-10-13T13:10:28.738Z"
   },
   {
    "duration": 61,
    "start_time": "2021-10-13T13:10:44.038Z"
   },
   {
    "duration": 7,
    "start_time": "2021-10-13T13:13:49.662Z"
   },
   {
    "duration": 6,
    "start_time": "2021-10-13T13:14:03.044Z"
   },
   {
    "duration": 12,
    "start_time": "2021-10-13T13:14:47.233Z"
   },
   {
    "duration": 7,
    "start_time": "2021-10-13T13:15:16.876Z"
   },
   {
    "duration": 58,
    "start_time": "2021-10-13T13:16:25.999Z"
   },
   {
    "duration": 5,
    "start_time": "2021-10-13T13:20:12.956Z"
   },
   {
    "duration": 10,
    "start_time": "2021-10-13T13:20:26.562Z"
   },
   {
    "duration": 10,
    "start_time": "2021-10-13T13:20:49.754Z"
   },
   {
    "duration": 6,
    "start_time": "2021-10-13T13:20:55.120Z"
   },
   {
    "duration": 6,
    "start_time": "2021-10-13T13:21:41.320Z"
   },
   {
    "duration": 349,
    "start_time": "2021-10-13T13:22:40.728Z"
   },
   {
    "duration": 8,
    "start_time": "2021-10-13T13:24:31.089Z"
   },
   {
    "duration": 111,
    "start_time": "2021-10-13T13:24:44.290Z"
   },
   {
    "duration": 120,
    "start_time": "2021-10-13T13:24:50.155Z"
   },
   {
    "duration": 109,
    "start_time": "2021-10-13T13:25:02.933Z"
   },
   {
    "duration": 8,
    "start_time": "2021-10-13T13:25:15.774Z"
   },
   {
    "duration": 7,
    "start_time": "2021-10-13T13:25:41.692Z"
   },
   {
    "duration": 6,
    "start_time": "2021-10-13T13:25:59.605Z"
   },
   {
    "duration": 358,
    "start_time": "2021-10-13T13:26:22.930Z"
   },
   {
    "duration": 113,
    "start_time": "2021-10-13T13:26:43.658Z"
   },
   {
    "duration": 24,
    "start_time": "2021-10-13T13:26:56.392Z"
   },
   {
    "duration": 29,
    "start_time": "2021-10-13T13:27:06.719Z"
   },
   {
    "duration": 362,
    "start_time": "2021-10-13T13:27:27.773Z"
   },
   {
    "duration": 13,
    "start_time": "2021-10-13T13:27:51.906Z"
   },
   {
    "duration": 29,
    "start_time": "2021-10-13T13:28:25.251Z"
   },
   {
    "duration": 5,
    "start_time": "2021-10-13T13:30:28.422Z"
   },
   {
    "duration": 7,
    "start_time": "2021-10-13T13:30:33.485Z"
   },
   {
    "duration": 60,
    "start_time": "2021-10-13T13:30:59.542Z"
   },
   {
    "duration": 120,
    "start_time": "2021-10-13T13:31:51.149Z"
   },
   {
    "duration": 275,
    "start_time": "2021-10-13T13:36:13.744Z"
   },
   {
    "duration": 24,
    "start_time": "2021-10-13T13:36:35.002Z"
   },
   {
    "duration": 24,
    "start_time": "2021-10-13T13:36:49.994Z"
   },
   {
    "duration": 27,
    "start_time": "2021-10-13T13:37:21.830Z"
   },
   {
    "duration": 14,
    "start_time": "2021-10-13T13:39:06.305Z"
   },
   {
    "duration": 90,
    "start_time": "2021-10-13T13:43:19.323Z"
   },
   {
    "duration": 59,
    "start_time": "2021-10-13T13:46:15.288Z"
   },
   {
    "duration": 12,
    "start_time": "2021-10-13T13:46:51.887Z"
   },
   {
    "duration": 12,
    "start_time": "2021-10-13T13:47:17.507Z"
   },
   {
    "duration": 7,
    "start_time": "2021-10-13T13:54:23.026Z"
   },
   {
    "duration": 58,
    "start_time": "2021-10-13T13:57:11.372Z"
   },
   {
    "duration": 7,
    "start_time": "2021-10-13T13:58:21.689Z"
   },
   {
    "duration": 47,
    "start_time": "2021-10-13T14:07:17.908Z"
   },
   {
    "duration": 32,
    "start_time": "2021-10-13T14:22:23.440Z"
   },
   {
    "duration": 309,
    "start_time": "2021-10-13T14:22:49.710Z"
   },
   {
    "duration": 28,
    "start_time": "2021-10-13T14:22:56.070Z"
   },
   {
    "duration": 797,
    "start_time": "2021-10-13T14:44:54.156Z"
   },
   {
    "duration": 4,
    "start_time": "2021-10-13T14:56:14.299Z"
   },
   {
    "duration": 4,
    "start_time": "2021-10-13T14:58:38.496Z"
   },
   {
    "duration": 341,
    "start_time": "2021-10-13T14:59:18.739Z"
   },
   {
    "duration": 10,
    "start_time": "2021-10-13T14:59:26.222Z"
   },
   {
    "duration": 344,
    "start_time": "2021-10-13T15:00:09.173Z"
   },
   {
    "duration": 322,
    "start_time": "2021-10-13T15:00:11.073Z"
   },
   {
    "duration": 3,
    "start_time": "2021-10-13T15:00:21.022Z"
   },
   {
    "duration": 3,
    "start_time": "2021-10-13T15:00:33.932Z"
   },
   {
    "duration": 3,
    "start_time": "2021-10-13T15:00:37.457Z"
   },
   {
    "duration": 840,
    "start_time": "2021-10-13T15:00:43.262Z"
   },
   {
    "duration": 338,
    "start_time": "2021-10-13T15:50:48.019Z"
   },
   {
    "duration": 421,
    "start_time": "2021-10-13T15:51:02.312Z"
   },
   {
    "duration": 309,
    "start_time": "2021-10-13T15:51:18.876Z"
   },
   {
    "duration": 299,
    "start_time": "2021-10-13T15:51:39.654Z"
   },
   {
    "duration": 331,
    "start_time": "2021-10-13T15:52:36.873Z"
   },
   {
    "duration": 326,
    "start_time": "2021-10-13T15:53:00.152Z"
   },
   {
    "duration": 314,
    "start_time": "2021-10-13T15:53:27.819Z"
   },
   {
    "duration": 324,
    "start_time": "2021-10-13T15:53:52.158Z"
   },
   {
    "duration": 439,
    "start_time": "2021-10-13T15:57:48.135Z"
   },
   {
    "duration": 341,
    "start_time": "2021-10-13T16:04:20.489Z"
   },
   {
    "duration": 522,
    "start_time": "2021-10-13T16:04:49.828Z"
   },
   {
    "duration": 324,
    "start_time": "2021-10-13T16:06:38.803Z"
   },
   {
    "duration": 414,
    "start_time": "2021-10-13T16:12:10.687Z"
   },
   {
    "duration": 5,
    "start_time": "2021-10-13T16:12:22.902Z"
   },
   {
    "duration": 392,
    "start_time": "2021-10-13T16:12:51.780Z"
   },
   {
    "duration": 352,
    "start_time": "2021-10-13T16:13:00.628Z"
   },
   {
    "duration": 304,
    "start_time": "2021-10-13T16:13:11.313Z"
   },
   {
    "duration": 294,
    "start_time": "2021-10-13T16:13:24.833Z"
   },
   {
    "duration": 70,
    "start_time": "2021-10-13T16:13:50.982Z"
   },
   {
    "duration": 16,
    "start_time": "2021-10-13T16:13:55.109Z"
   },
   {
    "duration": 59,
    "start_time": "2021-10-13T16:13:58.826Z"
   },
   {
    "duration": 44,
    "start_time": "2021-10-13T16:14:03.253Z"
   },
   {
    "duration": 34,
    "start_time": "2021-10-13T16:14:15.761Z"
   },
   {
    "duration": 39,
    "start_time": "2021-10-13T16:14:29.172Z"
   },
   {
    "duration": 68,
    "start_time": "2021-10-13T16:14:41.518Z"
   },
   {
    "duration": 39,
    "start_time": "2021-10-13T16:14:54.132Z"
   },
   {
    "duration": 38,
    "start_time": "2021-10-13T16:14:59.863Z"
   },
   {
    "duration": 56,
    "start_time": "2021-10-13T16:15:06.881Z"
   },
   {
    "duration": 12,
    "start_time": "2021-10-13T16:15:13.811Z"
   },
   {
    "duration": 8,
    "start_time": "2021-10-13T16:15:22.451Z"
   },
   {
    "duration": 50,
    "start_time": "2021-10-13T16:15:34.746Z"
   },
   {
    "duration": 6,
    "start_time": "2021-10-13T16:17:23.630Z"
   },
   {
    "duration": 294,
    "start_time": "2021-10-13T16:18:01.962Z"
   },
   {
    "duration": 335,
    "start_time": "2021-10-13T16:18:38.896Z"
   },
   {
    "duration": 122,
    "start_time": "2021-10-13T16:19:50.260Z"
   },
   {
    "duration": 319,
    "start_time": "2021-10-13T16:19:59.590Z"
   },
   {
    "duration": 300,
    "start_time": "2021-10-13T16:21:04.134Z"
   },
   {
    "duration": 343,
    "start_time": "2021-10-13T16:21:12.687Z"
   },
   {
    "duration": 317,
    "start_time": "2021-10-13T16:21:31.752Z"
   },
   {
    "duration": 417,
    "start_time": "2021-10-13T16:28:11.291Z"
   },
   {
    "duration": 313,
    "start_time": "2021-10-13T16:34:10.715Z"
   },
   {
    "duration": 783,
    "start_time": "2021-10-13T16:41:05.108Z"
   },
   {
    "duration": 4,
    "start_time": "2021-10-13T16:45:59.200Z"
   },
   {
    "duration": 5,
    "start_time": "2021-10-13T16:46:10.642Z"
   },
   {
    "duration": 6,
    "start_time": "2021-10-13T16:46:17.635Z"
   },
   {
    "duration": 2279,
    "start_time": "2021-10-13T16:46:25.150Z"
   },
   {
    "duration": 1864,
    "start_time": "2021-10-13T16:46:59.466Z"
   },
   {
    "duration": 34,
    "start_time": "2021-10-13T16:49:51.232Z"
   },
   {
    "duration": 2119,
    "start_time": "2021-10-13T16:50:02.796Z"
   },
   {
    "duration": 2073,
    "start_time": "2021-10-13T16:50:06.186Z"
   },
   {
    "duration": 42,
    "start_time": "2021-10-13T16:50:31.775Z"
   },
   {
    "duration": 60,
    "start_time": "2021-10-13T16:52:51.946Z"
   },
   {
    "duration": 1863,
    "start_time": "2021-10-13T16:53:04.324Z"
   },
   {
    "duration": 5,
    "start_time": "2021-10-13T16:53:17.383Z"
   },
   {
    "duration": 1442,
    "start_time": "2021-10-13T16:53:20.737Z"
   },
   {
    "duration": 4,
    "start_time": "2021-10-13T16:53:56.196Z"
   },
   {
    "duration": 1910,
    "start_time": "2021-10-13T16:54:02.526Z"
   },
   {
    "duration": 5,
    "start_time": "2021-10-13T16:54:43.519Z"
   },
   {
    "duration": 9,
    "start_time": "2021-10-13T16:55:12.877Z"
   },
   {
    "duration": 7,
    "start_time": "2021-10-13T16:55:17.675Z"
   },
   {
    "duration": 5,
    "start_time": "2021-10-13T16:55:29.164Z"
   },
   {
    "duration": 8,
    "start_time": "2021-10-13T16:55:32.660Z"
   },
   {
    "duration": 6,
    "start_time": "2021-10-13T16:55:49.490Z"
   },
   {
    "duration": 6,
    "start_time": "2021-10-13T16:55:54.530Z"
   },
   {
    "duration": 7,
    "start_time": "2021-10-13T16:55:58.774Z"
   },
   {
    "duration": 6,
    "start_time": "2021-10-13T16:56:03.768Z"
   },
   {
    "duration": 6,
    "start_time": "2021-10-13T16:56:07.343Z"
   },
   {
    "duration": 6,
    "start_time": "2021-10-13T16:56:17.017Z"
   },
   {
    "duration": 7,
    "start_time": "2021-10-13T16:56:33.833Z"
   },
   {
    "duration": 5,
    "start_time": "2021-10-13T16:56:39.109Z"
   },
   {
    "duration": 6,
    "start_time": "2021-10-13T16:57:29.589Z"
   },
   {
    "duration": 6,
    "start_time": "2021-10-13T16:57:33.111Z"
   },
   {
    "duration": 5,
    "start_time": "2021-10-13T16:57:46.264Z"
   },
   {
    "duration": 6,
    "start_time": "2021-10-13T16:57:49.729Z"
   },
   {
    "duration": 6,
    "start_time": "2021-10-13T16:57:50.723Z"
   },
   {
    "duration": 6,
    "start_time": "2021-10-13T16:59:16.358Z"
   },
   {
    "duration": 5,
    "start_time": "2021-10-13T17:02:37.294Z"
   },
   {
    "duration": 7,
    "start_time": "2021-10-13T17:03:22.428Z"
   },
   {
    "duration": 6,
    "start_time": "2021-10-13T17:03:25.926Z"
   },
   {
    "duration": 6,
    "start_time": "2021-10-13T17:03:40.923Z"
   },
   {
    "duration": 3,
    "start_time": "2021-10-13T17:04:03.602Z"
   },
   {
    "duration": 5,
    "start_time": "2021-10-13T17:04:06.122Z"
   },
   {
    "duration": 5,
    "start_time": "2021-10-13T17:04:10.164Z"
   },
   {
    "duration": 5,
    "start_time": "2021-10-13T17:04:20.732Z"
   },
   {
    "duration": 5,
    "start_time": "2021-10-13T17:04:29.223Z"
   },
   {
    "duration": 5,
    "start_time": "2021-10-13T17:04:33.182Z"
   },
   {
    "duration": 5,
    "start_time": "2021-10-13T17:04:38.177Z"
   },
   {
    "duration": 6,
    "start_time": "2021-10-13T17:04:45.091Z"
   },
   {
    "duration": 1845,
    "start_time": "2021-10-13T17:05:11.150Z"
   },
   {
    "duration": 43,
    "start_time": "2021-10-13T17:05:15.647Z"
   },
   {
    "duration": 316,
    "start_time": "2021-10-13T17:05:55.337Z"
   },
   {
    "duration": 102,
    "start_time": "2021-10-13T17:06:18.197Z"
   },
   {
    "duration": 5,
    "start_time": "2021-10-13T17:07:03.961Z"
   },
   {
    "duration": 7,
    "start_time": "2021-10-13T17:08:10.147Z"
   },
   {
    "duration": 6,
    "start_time": "2021-10-13T17:09:16.201Z"
   },
   {
    "duration": 6,
    "start_time": "2021-10-13T17:09:29.069Z"
   },
   {
    "duration": 6,
    "start_time": "2021-10-13T17:09:43.981Z"
   },
   {
    "duration": 1881,
    "start_time": "2021-10-13T17:10:29.506Z"
   },
   {
    "duration": 1836,
    "start_time": "2021-10-13T17:11:28.260Z"
   },
   {
    "duration": 38,
    "start_time": "2021-10-13T17:11:33.804Z"
   },
   {
    "duration": 1842,
    "start_time": "2021-10-13T17:14:57.212Z"
   },
   {
    "duration": 1834,
    "start_time": "2021-10-13T17:16:33.689Z"
   },
   {
    "duration": 39,
    "start_time": "2021-10-13T17:16:37.342Z"
   },
   {
    "duration": 316,
    "start_time": "2021-10-13T17:17:13.609Z"
   },
   {
    "duration": 35,
    "start_time": "2021-10-13T17:17:36.719Z"
   },
   {
    "duration": 6,
    "start_time": "2021-10-13T17:22:43.378Z"
   },
   {
    "duration": 311,
    "start_time": "2021-10-13T17:22:52.263Z"
   },
   {
    "duration": 298,
    "start_time": "2021-10-13T17:23:08.832Z"
   },
   {
    "duration": 6,
    "start_time": "2021-10-13T17:23:45.181Z"
   },
   {
    "duration": 6,
    "start_time": "2021-10-13T17:24:03.632Z"
   },
   {
    "duration": 6,
    "start_time": "2021-10-13T17:24:23.638Z"
   },
   {
    "duration": 289,
    "start_time": "2021-10-13T17:24:59.832Z"
   },
   {
    "duration": 6,
    "start_time": "2021-10-13T17:25:07.334Z"
   },
   {
    "duration": 6,
    "start_time": "2021-10-13T17:25:14.637Z"
   },
   {
    "duration": 5,
    "start_time": "2021-10-13T17:25:59.084Z"
   },
   {
    "duration": 4,
    "start_time": "2021-10-13T17:26:02.610Z"
   },
   {
    "duration": 6,
    "start_time": "2021-10-13T17:26:05.878Z"
   },
   {
    "duration": 7,
    "start_time": "2021-10-13T17:26:21.056Z"
   },
   {
    "duration": 5,
    "start_time": "2021-10-13T17:26:47.532Z"
   },
   {
    "duration": 1915,
    "start_time": "2021-10-13T17:26:51.431Z"
   },
   {
    "duration": 9,
    "start_time": "2021-10-13T17:26:55.812Z"
   },
   {
    "duration": 9,
    "start_time": "2021-10-13T17:27:08.801Z"
   },
   {
    "duration": 1858,
    "start_time": "2021-10-13T17:27:12.297Z"
   },
   {
    "duration": 40,
    "start_time": "2021-10-13T17:27:28.841Z"
   },
   {
    "duration": 301,
    "start_time": "2021-10-13T17:28:16.372Z"
   },
   {
    "duration": 9,
    "start_time": "2021-10-13T17:28:21.596Z"
   },
   {
    "duration": 9,
    "start_time": "2021-10-13T17:29:02.966Z"
   },
   {
    "duration": 11,
    "start_time": "2021-10-13T17:29:41.651Z"
   },
   {
    "duration": 11,
    "start_time": "2021-10-13T17:30:49.300Z"
   },
   {
    "duration": 9,
    "start_time": "2021-10-13T17:35:13.791Z"
   },
   {
    "duration": 41,
    "start_time": "2021-10-13T17:35:38.412Z"
   },
   {
    "duration": 4,
    "start_time": "2021-10-13T17:37:17.635Z"
   },
   {
    "duration": 3,
    "start_time": "2021-10-13T17:37:17.873Z"
   },
   {
    "duration": 5,
    "start_time": "2021-10-13T17:37:21.360Z"
   },
   {
    "duration": 6,
    "start_time": "2021-10-13T17:37:22.241Z"
   },
   {
    "duration": 6,
    "start_time": "2021-10-13T17:37:26.949Z"
   },
   {
    "duration": 6,
    "start_time": "2021-10-13T17:37:30.117Z"
   },
   {
    "duration": 1935,
    "start_time": "2021-10-13T17:37:34.501Z"
   },
   {
    "duration": 10,
    "start_time": "2021-10-13T17:37:36.438Z"
   },
   {
    "duration": 6,
    "start_time": "2021-10-13T17:38:12.941Z"
   },
   {
    "duration": 4,
    "start_time": "2021-10-13T17:39:03.669Z"
   },
   {
    "duration": 4,
    "start_time": "2021-10-13T17:39:06.892Z"
   },
   {
    "duration": 6,
    "start_time": "2021-10-13T17:39:10.120Z"
   },
   {
    "duration": 303,
    "start_time": "2021-10-13T17:39:14.903Z"
   },
   {
    "duration": 7,
    "start_time": "2021-10-13T17:39:24.594Z"
   },
   {
    "duration": 6,
    "start_time": "2021-10-13T17:39:29.635Z"
   },
   {
    "duration": 6,
    "start_time": "2021-10-13T17:39:41.993Z"
   },
   {
    "duration": 6,
    "start_time": "2021-10-13T17:39:48.040Z"
   },
   {
    "duration": 40,
    "start_time": "2021-10-13T17:40:45.827Z"
   },
   {
    "duration": 6,
    "start_time": "2021-10-13T17:40:59.665Z"
   },
   {
    "duration": 6,
    "start_time": "2021-10-13T17:41:07.777Z"
   },
   {
    "duration": 7,
    "start_time": "2021-10-13T17:41:10.883Z"
   },
   {
    "duration": 6,
    "start_time": "2021-10-13T17:41:26.017Z"
   },
   {
    "duration": 6,
    "start_time": "2021-10-13T17:41:30.797Z"
   },
   {
    "duration": 6,
    "start_time": "2021-10-13T17:41:34.192Z"
   },
   {
    "duration": 1893,
    "start_time": "2021-10-13T17:41:38.857Z"
   },
   {
    "duration": 10,
    "start_time": "2021-10-13T17:41:41.755Z"
   },
   {
    "duration": 14,
    "start_time": "2021-10-13T17:41:59.698Z"
   },
   {
    "duration": 40,
    "start_time": "2021-10-13T17:42:11.153Z"
   },
   {
    "duration": 3,
    "start_time": "2021-10-13T17:44:14.414Z"
   },
   {
    "duration": 3,
    "start_time": "2021-10-13T17:44:16.914Z"
   },
   {
    "duration": 4,
    "start_time": "2021-10-13T17:44:20.141Z"
   },
   {
    "duration": 6,
    "start_time": "2021-10-13T17:44:23.257Z"
   },
   {
    "duration": 6,
    "start_time": "2021-10-13T17:44:26.708Z"
   },
   {
    "duration": 5,
    "start_time": "2021-10-13T17:44:29.354Z"
   },
   {
    "duration": 1911,
    "start_time": "2021-10-13T17:44:32.005Z"
   },
   {
    "duration": 10,
    "start_time": "2021-10-13T17:44:36.966Z"
   },
   {
    "duration": 14,
    "start_time": "2021-10-13T17:44:44.738Z"
   },
   {
    "duration": 326,
    "start_time": "2021-10-13T17:46:39.352Z"
   },
   {
    "duration": 340,
    "start_time": "2021-10-13T17:47:38.781Z"
   },
   {
    "duration": 42,
    "start_time": "2021-10-13T17:47:51.399Z"
   },
   {
    "duration": 62,
    "start_time": "2021-10-13T17:48:52.686Z"
   },
   {
    "duration": 18,
    "start_time": "2021-10-13T17:48:57.591Z"
   },
   {
    "duration": 37,
    "start_time": "2021-10-13T18:00:03.323Z"
   },
   {
    "duration": 20,
    "start_time": "2021-10-13T18:00:15.710Z"
   },
   {
    "duration": 38,
    "start_time": "2021-10-13T18:00:24.398Z"
   },
   {
    "duration": 66,
    "start_time": "2021-10-13T18:01:36.168Z"
   },
   {
    "duration": 14,
    "start_time": "2021-10-13T18:02:08.794Z"
   },
   {
    "duration": 642,
    "start_time": "2021-10-14T10:23:16.960Z"
   },
   {
    "duration": 11,
    "start_time": "2021-10-14T10:23:17.604Z"
   },
   {
    "duration": 37,
    "start_time": "2021-10-14T10:23:17.617Z"
   },
   {
    "duration": 30,
    "start_time": "2021-10-14T10:23:17.656Z"
   },
   {
    "duration": 7,
    "start_time": "2021-10-14T10:23:17.688Z"
   },
   {
    "duration": 8,
    "start_time": "2021-10-14T10:23:17.696Z"
   },
   {
    "duration": 7,
    "start_time": "2021-10-14T10:23:17.706Z"
   },
   {
    "duration": 34,
    "start_time": "2021-10-14T10:23:17.715Z"
   },
   {
    "duration": 21,
    "start_time": "2021-10-14T10:23:17.753Z"
   },
   {
    "duration": 25,
    "start_time": "2021-10-14T10:23:17.777Z"
   },
   {
    "duration": 54,
    "start_time": "2021-10-14T10:23:17.804Z"
   },
   {
    "duration": 12,
    "start_time": "2021-10-14T10:23:17.860Z"
   },
   {
    "duration": 9,
    "start_time": "2021-10-14T10:23:17.874Z"
   },
   {
    "duration": 28,
    "start_time": "2021-10-14T10:23:17.885Z"
   },
   {
    "duration": 43,
    "start_time": "2021-10-14T10:23:17.914Z"
   },
   {
    "duration": 11,
    "start_time": "2021-10-14T10:23:17.959Z"
   },
   {
    "duration": 23,
    "start_time": "2021-10-14T10:23:17.971Z"
   },
   {
    "duration": 55,
    "start_time": "2021-10-14T10:23:17.995Z"
   },
   {
    "duration": 8,
    "start_time": "2021-10-14T10:23:18.052Z"
   },
   {
    "duration": 7,
    "start_time": "2021-10-14T10:23:18.062Z"
   },
   {
    "duration": 752,
    "start_time": "2021-10-14T10:23:18.070Z"
   },
   {
    "duration": -15,
    "start_time": "2021-10-14T10:23:18.839Z"
   },
   {
    "duration": -22,
    "start_time": "2021-10-14T10:23:18.847Z"
   },
   {
    "duration": -24,
    "start_time": "2021-10-14T10:23:18.850Z"
   },
   {
    "duration": -26,
    "start_time": "2021-10-14T10:23:18.853Z"
   },
   {
    "duration": -29,
    "start_time": "2021-10-14T10:23:18.857Z"
   },
   {
    "duration": -33,
    "start_time": "2021-10-14T10:23:18.863Z"
   },
   {
    "duration": -35,
    "start_time": "2021-10-14T10:23:18.866Z"
   },
   {
    "duration": -37,
    "start_time": "2021-10-14T10:23:18.869Z"
   },
   {
    "duration": -39,
    "start_time": "2021-10-14T10:23:18.872Z"
   },
   {
    "duration": -46,
    "start_time": "2021-10-14T10:23:18.879Z"
   },
   {
    "duration": -47,
    "start_time": "2021-10-14T10:23:18.881Z"
   },
   {
    "duration": -49,
    "start_time": "2021-10-14T10:23:18.884Z"
   },
   {
    "duration": -51,
    "start_time": "2021-10-14T10:23:18.887Z"
   },
   {
    "duration": -55,
    "start_time": "2021-10-14T10:23:18.893Z"
   },
   {
    "duration": -57,
    "start_time": "2021-10-14T10:23:18.895Z"
   },
   {
    "duration": -60,
    "start_time": "2021-10-14T10:23:18.899Z"
   },
   {
    "duration": -60,
    "start_time": "2021-10-14T10:23:18.901Z"
   },
   {
    "duration": -63,
    "start_time": "2021-10-14T10:23:18.904Z"
   },
   {
    "duration": -67,
    "start_time": "2021-10-14T10:23:18.909Z"
   },
   {
    "duration": -69,
    "start_time": "2021-10-14T10:23:18.912Z"
   },
   {
    "duration": -71,
    "start_time": "2021-10-14T10:23:18.915Z"
   },
   {
    "duration": -73,
    "start_time": "2021-10-14T10:23:18.918Z"
   },
   {
    "duration": -75,
    "start_time": "2021-10-14T10:23:18.921Z"
   },
   {
    "duration": 6,
    "start_time": "2021-10-15T08:53:28.857Z"
   },
   {
    "duration": 615,
    "start_time": "2021-10-15T08:53:32.839Z"
   },
   {
    "duration": 546,
    "start_time": "2021-10-15T08:54:05.906Z"
   },
   {
    "duration": 4,
    "start_time": "2021-10-15T08:54:24.100Z"
   },
   {
    "duration": 12,
    "start_time": "2021-10-15T08:54:26.688Z"
   },
   {
    "duration": 1360,
    "start_time": "2021-10-15T13:06:30.264Z"
   },
   {
    "duration": 16,
    "start_time": "2021-10-15T13:06:31.627Z"
   },
   {
    "duration": 47,
    "start_time": "2021-10-15T13:06:31.662Z"
   },
   {
    "duration": 58,
    "start_time": "2021-10-15T13:06:31.711Z"
   },
   {
    "duration": 10,
    "start_time": "2021-10-15T13:06:31.771Z"
   },
   {
    "duration": 12,
    "start_time": "2021-10-15T13:06:31.784Z"
   },
   {
    "duration": 9,
    "start_time": "2021-10-15T13:06:31.798Z"
   },
   {
    "duration": 11,
    "start_time": "2021-10-15T13:06:31.809Z"
   },
   {
    "duration": 64,
    "start_time": "2021-10-15T13:06:31.824Z"
   },
   {
    "duration": 37,
    "start_time": "2021-10-15T13:06:31.891Z"
   },
   {
    "duration": 62,
    "start_time": "2021-10-15T13:06:31.930Z"
   },
   {
    "duration": 14,
    "start_time": "2021-10-15T13:06:31.994Z"
   },
   {
    "duration": 14,
    "start_time": "2021-10-15T13:06:32.010Z"
   },
   {
    "duration": 73,
    "start_time": "2021-10-15T13:06:32.026Z"
   },
   {
    "duration": 13,
    "start_time": "2021-10-15T13:06:32.101Z"
   },
   {
    "duration": 17,
    "start_time": "2021-10-15T13:06:32.116Z"
   },
   {
    "duration": 58,
    "start_time": "2021-10-15T13:06:32.135Z"
   },
   {
    "duration": 73,
    "start_time": "2021-10-15T13:06:32.195Z"
   },
   {
    "duration": 10,
    "start_time": "2021-10-15T13:06:32.270Z"
   },
   {
    "duration": 5,
    "start_time": "2021-10-15T13:06:32.282Z"
   },
   {
    "duration": 15,
    "start_time": "2021-10-15T13:06:32.289Z"
   },
   {
    "duration": 8685,
    "start_time": "2021-10-15T13:06:32.307Z"
   },
   {
    "duration": -47,
    "start_time": "2021-10-15T13:06:41.044Z"
   },
   {
    "duration": -52,
    "start_time": "2021-10-15T13:06:41.051Z"
   },
   {
    "duration": -55,
    "start_time": "2021-10-15T13:06:41.055Z"
   },
   {
    "duration": -56,
    "start_time": "2021-10-15T13:06:41.058Z"
   },
   {
    "duration": -58,
    "start_time": "2021-10-15T13:06:41.061Z"
   },
   {
    "duration": -64,
    "start_time": "2021-10-15T13:06:41.069Z"
   },
   {
    "duration": -66,
    "start_time": "2021-10-15T13:06:41.072Z"
   },
   {
    "duration": -68,
    "start_time": "2021-10-15T13:06:41.075Z"
   },
   {
    "duration": -74,
    "start_time": "2021-10-15T13:06:41.082Z"
   },
   {
    "duration": -78,
    "start_time": "2021-10-15T13:06:41.088Z"
   },
   {
    "duration": -80,
    "start_time": "2021-10-15T13:06:41.091Z"
   },
   {
    "duration": -81,
    "start_time": "2021-10-15T13:06:41.094Z"
   },
   {
    "duration": -88,
    "start_time": "2021-10-15T13:06:41.102Z"
   },
   {
    "duration": -89,
    "start_time": "2021-10-15T13:06:41.104Z"
   },
   {
    "duration": -91,
    "start_time": "2021-10-15T13:06:41.108Z"
   },
   {
    "duration": -97,
    "start_time": "2021-10-15T13:06:41.115Z"
   },
   {
    "duration": -99,
    "start_time": "2021-10-15T13:06:41.118Z"
   },
   {
    "duration": -101,
    "start_time": "2021-10-15T13:06:41.121Z"
   },
   {
    "duration": -102,
    "start_time": "2021-10-15T13:06:41.124Z"
   },
   {
    "duration": -107,
    "start_time": "2021-10-15T13:06:41.130Z"
   },
   {
    "duration": -110,
    "start_time": "2021-10-15T13:06:41.134Z"
   },
   {
    "duration": -112,
    "start_time": "2021-10-15T13:06:41.138Z"
   },
   {
    "duration": 327,
    "start_time": "2021-10-15T19:14:28.531Z"
   },
   {
    "duration": 248,
    "start_time": "2021-10-15T19:14:46.558Z"
   },
   {
    "duration": 266,
    "start_time": "2021-10-15T19:14:52.628Z"
   },
   {
    "duration": 440,
    "start_time": "2021-10-15T19:14:59.588Z"
   },
   {
    "duration": 825,
    "start_time": "2021-10-15T19:15:06.938Z"
   },
   {
    "duration": 46,
    "start_time": "2021-10-15T19:15:11.482Z"
   },
   {
    "duration": 6,
    "start_time": "2021-10-15T19:15:16.087Z"
   },
   {
    "duration": 6,
    "start_time": "2021-10-15T19:15:20.545Z"
   },
   {
    "duration": 33,
    "start_time": "2021-10-15T19:15:23.449Z"
   },
   {
    "duration": 756,
    "start_time": "2021-10-15T19:15:44.686Z"
   },
   {
    "duration": 743,
    "start_time": "2021-10-15T19:15:44.701Z"
   },
   {
    "duration": 737,
    "start_time": "2021-10-15T19:15:44.708Z"
   },
   {
    "duration": 6759,
    "start_time": "2021-10-15T19:15:51.832Z"
   },
   {
    "duration": 735,
    "start_time": "2021-10-15T19:15:57.859Z"
   },
   {
    "duration": 7152,
    "start_time": "2021-10-15T19:16:04.404Z"
   },
   {
    "duration": 7379,
    "start_time": "2021-10-15T19:16:21.989Z"
   },
   {
    "duration": 612,
    "start_time": "2021-10-15T19:16:36.275Z"
   },
   {
    "duration": 33,
    "start_time": "2021-10-15T19:16:48.239Z"
   },
   {
    "duration": 51,
    "start_time": "2021-10-15T19:16:58.149Z"
   },
   {
    "duration": 275,
    "start_time": "2021-10-15T19:17:07.585Z"
   },
   {
    "duration": 8254,
    "start_time": "2021-10-15T19:17:23.976Z"
   },
   {
    "duration": 7499,
    "start_time": "2021-10-15T19:17:41.662Z"
   },
   {
    "duration": 617,
    "start_time": "2021-10-15T19:17:48.547Z"
   },
   {
    "duration": 46,
    "start_time": "2021-10-15T19:18:01.997Z"
   },
   {
    "duration": 34,
    "start_time": "2021-10-15T19:18:13.086Z"
   },
   {
    "duration": 40,
    "start_time": "2021-10-15T19:18:41.962Z"
   },
   {
    "duration": 14,
    "start_time": "2021-10-15T19:18:59.706Z"
   },
   {
    "duration": 34,
    "start_time": "2021-10-15T19:19:08.063Z"
   },
   {
    "duration": 49,
    "start_time": "2021-10-15T19:19:17.316Z"
   },
   {
    "duration": 26,
    "start_time": "2021-10-15T19:19:30.864Z"
   },
   {
    "duration": 764,
    "start_time": "2021-10-15T19:19:43.934Z"
   },
   {
    "duration": 5,
    "start_time": "2021-10-15T19:19:46.989Z"
   },
   {
    "duration": 5,
    "start_time": "2021-10-15T19:19:49.415Z"
   },
   {
    "duration": 10788,
    "start_time": "2021-10-15T19:19:59.412Z"
   },
   {
    "duration": 4,
    "start_time": "2021-10-15T19:20:16.506Z"
   },
   {
    "duration": 7856,
    "start_time": "2021-10-15T19:20:22.239Z"
   },
   {
    "duration": 7421,
    "start_time": "2021-10-15T19:20:34.768Z"
   },
   {
    "duration": 738,
    "start_time": "2021-10-15T19:20:41.455Z"
   },
   {
    "duration": 6,
    "start_time": "2021-10-15T19:20:45.235Z"
   },
   {
    "duration": 1441,
    "start_time": "2021-10-15T19:20:47.736Z"
   },
   {
    "duration": 1298,
    "start_time": "2021-10-15T19:20:52.416Z"
   },
   {
    "duration": 283,
    "start_time": "2021-10-15T19:21:11.420Z"
   },
   {
    "duration": 11,
    "start_time": "2021-10-15T19:21:18.860Z"
   },
   {
    "duration": 3,
    "start_time": "2021-10-15T19:21:21.834Z"
   },
   {
    "duration": 913,
    "start_time": "2021-10-15T19:21:25.830Z"
   },
   {
    "duration": 317,
    "start_time": "2021-10-15T19:21:33.640Z"
   },
   {
    "duration": 3,
    "start_time": "2021-10-15T19:21:38.495Z"
   },
   {
    "duration": 6,
    "start_time": "2021-10-15T19:21:40.704Z"
   },
   {
    "duration": 6,
    "start_time": "2021-10-15T19:21:43.048Z"
   },
   {
    "duration": 315,
    "start_time": "2021-10-15T19:21:46.010Z"
   },
   {
    "duration": 3,
    "start_time": "2021-10-15T19:22:01.478Z"
   },
   {
    "duration": 6,
    "start_time": "2021-10-15T19:22:04.550Z"
   },
   {
    "duration": 5,
    "start_time": "2021-10-15T19:22:09.245Z"
   },
   {
    "duration": 1923,
    "start_time": "2021-10-15T19:22:12.786Z"
   },
   {
    "duration": 11,
    "start_time": "2021-10-15T19:22:15.965Z"
   },
   {
    "duration": 5,
    "start_time": "2021-10-15T19:22:31.628Z"
   },
   {
    "duration": 4,
    "start_time": "2021-10-15T19:22:36.901Z"
   },
   {
    "duration": 5,
    "start_time": "2021-10-15T19:22:39.832Z"
   },
   {
    "duration": 6912,
    "start_time": "2021-10-15T19:22:43.895Z"
   },
   {
    "duration": 531,
    "start_time": "2021-10-15T19:22:50.279Z"
   },
   {
    "duration": 5,
    "start_time": "2021-10-15T19:23:01.159Z"
   },
   {
    "duration": 625,
    "start_time": "2021-10-15T19:23:13.267Z"
   },
   {
    "duration": 7425,
    "start_time": "2021-10-15T19:23:15.970Z"
   },
   {
    "duration": 496,
    "start_time": "2021-10-15T19:23:22.901Z"
   },
   {
    "duration": 595,
    "start_time": "2021-10-15T19:24:01.738Z"
   },
   {
    "duration": 391,
    "start_time": "2021-10-15T19:24:01.943Z"
   },
   {
    "duration": 376,
    "start_time": "2021-10-15T19:24:01.960Z"
   },
   {
    "duration": 372,
    "start_time": "2021-10-15T19:24:01.965Z"
   },
   {
    "duration": 47,
    "start_time": "2021-10-15T19:25:19.338Z"
   },
   {
    "duration": 43,
    "start_time": "2021-10-15T19:27:14.675Z"
   },
   {
    "duration": 46,
    "start_time": "2021-10-15T19:28:03.726Z"
   },
   {
    "duration": 46,
    "start_time": "2021-10-15T19:29:12.354Z"
   },
   {
    "duration": 13,
    "start_time": "2021-10-15T19:29:12.578Z"
   },
   {
    "duration": 11,
    "start_time": "2021-10-15T19:37:55.045Z"
   },
   {
    "duration": 39,
    "start_time": "2021-10-15T19:37:58.832Z"
   },
   {
    "duration": 13,
    "start_time": "2021-10-15T19:38:28.283Z"
   },
   {
    "duration": 41,
    "start_time": "2021-10-15T19:38:37.712Z"
   },
   {
    "duration": 8,
    "start_time": "2021-10-15T19:39:31.518Z"
   },
   {
    "duration": 36,
    "start_time": "2021-10-15T19:40:14.506Z"
   },
   {
    "duration": 688,
    "start_time": "2021-10-16T12:58:36.020Z"
   },
   {
    "duration": 10,
    "start_time": "2021-10-16T12:58:36.710Z"
   },
   {
    "duration": 29,
    "start_time": "2021-10-16T12:58:36.722Z"
   },
   {
    "duration": 26,
    "start_time": "2021-10-16T12:58:36.753Z"
   },
   {
    "duration": 2,
    "start_time": "2021-10-16T12:58:36.781Z"
   },
   {
    "duration": 10,
    "start_time": "2021-10-16T12:58:36.785Z"
   },
   {
    "duration": 6,
    "start_time": "2021-10-16T12:58:36.797Z"
   },
   {
    "duration": 5,
    "start_time": "2021-10-16T12:58:36.804Z"
   },
   {
    "duration": 19,
    "start_time": "2021-10-16T12:58:36.844Z"
   },
   {
    "duration": 25,
    "start_time": "2021-10-16T12:58:36.866Z"
   },
   {
    "duration": 25,
    "start_time": "2021-10-16T12:58:36.892Z"
   },
   {
    "duration": 33,
    "start_time": "2021-10-16T12:58:36.919Z"
   },
   {
    "duration": 7,
    "start_time": "2021-10-16T12:58:36.953Z"
   },
   {
    "duration": 7,
    "start_time": "2021-10-16T12:58:36.962Z"
   },
   {
    "duration": 21,
    "start_time": "2021-10-16T12:58:36.971Z"
   },
   {
    "duration": 9,
    "start_time": "2021-10-16T12:58:36.993Z"
   },
   {
    "duration": 58,
    "start_time": "2021-10-16T12:58:37.003Z"
   },
   {
    "duration": 8,
    "start_time": "2021-10-16T12:58:37.063Z"
   },
   {
    "duration": 18,
    "start_time": "2021-10-16T12:58:37.072Z"
   },
   {
    "duration": 7,
    "start_time": "2021-10-16T12:58:37.091Z"
   },
   {
    "duration": 3,
    "start_time": "2021-10-16T12:58:37.100Z"
   },
   {
    "duration": 6,
    "start_time": "2021-10-16T12:58:37.105Z"
   },
   {
    "duration": 6783,
    "start_time": "2021-10-16T12:58:37.112Z"
   },
   {
    "duration": -15,
    "start_time": "2021-10-16T12:58:43.912Z"
   },
   {
    "duration": -21,
    "start_time": "2021-10-16T12:58:43.919Z"
   },
   {
    "duration": -23,
    "start_time": "2021-10-16T12:58:43.922Z"
   },
   {
    "duration": -25,
    "start_time": "2021-10-16T12:58:43.925Z"
   },
   {
    "duration": -29,
    "start_time": "2021-10-16T12:58:43.929Z"
   },
   {
    "duration": -34,
    "start_time": "2021-10-16T12:58:43.935Z"
   },
   {
    "duration": -34,
    "start_time": "2021-10-16T12:58:43.937Z"
   },
   {
    "duration": -37,
    "start_time": "2021-10-16T12:58:43.941Z"
   },
   {
    "duration": -39,
    "start_time": "2021-10-16T12:58:43.944Z"
   },
   {
    "duration": -45,
    "start_time": "2021-10-16T12:58:43.952Z"
   },
   {
    "duration": -47,
    "start_time": "2021-10-16T12:58:43.955Z"
   },
   {
    "duration": -49,
    "start_time": "2021-10-16T12:58:43.958Z"
   },
   {
    "duration": -49,
    "start_time": "2021-10-16T12:58:43.960Z"
   },
   {
    "duration": -54,
    "start_time": "2021-10-16T12:58:43.966Z"
   },
   {
    "duration": -54,
    "start_time": "2021-10-16T12:58:43.968Z"
   },
   {
    "duration": -56,
    "start_time": "2021-10-16T12:58:43.972Z"
   },
   {
    "duration": -57,
    "start_time": "2021-10-16T12:58:43.974Z"
   },
   {
    "duration": -58,
    "start_time": "2021-10-16T12:58:43.977Z"
   },
   {
    "duration": -62,
    "start_time": "2021-10-16T12:58:43.982Z"
   },
   {
    "duration": -64,
    "start_time": "2021-10-16T12:58:43.985Z"
   },
   {
    "duration": -64,
    "start_time": "2021-10-16T12:58:43.987Z"
   },
   {
    "duration": -66,
    "start_time": "2021-10-16T12:58:43.990Z"
   },
   {
    "duration": 617,
    "start_time": "2021-10-16T14:20:08.080Z"
   },
   {
    "duration": 17,
    "start_time": "2021-10-16T14:20:11.908Z"
   },
   {
    "duration": 32,
    "start_time": "2021-10-16T14:20:14.931Z"
   },
   {
    "duration": 37,
    "start_time": "2021-10-16T14:20:17.722Z"
   },
   {
    "duration": 4,
    "start_time": "2021-10-16T14:20:20.975Z"
   },
   {
    "duration": 5,
    "start_time": "2021-10-16T14:20:23.806Z"
   },
   {
    "duration": 4,
    "start_time": "2021-10-16T14:20:27.501Z"
   },
   {
    "duration": 5,
    "start_time": "2021-10-16T14:20:31.480Z"
   },
   {
    "duration": 19,
    "start_time": "2021-10-16T14:20:35.826Z"
   },
   {
    "duration": 24,
    "start_time": "2021-10-16T14:20:42.966Z"
   },
   {
    "duration": 11,
    "start_time": "2021-10-16T14:20:46.881Z"
   },
   {
    "duration": 4375,
    "start_time": "2021-10-16T14:20:58.986Z"
   },
   {
    "duration": 170,
    "start_time": "2021-10-16T14:21:11.930Z"
   },
   {
    "duration": 3,
    "start_time": "2021-10-16T14:21:19.936Z"
   },
   {
    "duration": 3,
    "start_time": "2021-10-16T14:21:24.119Z"
   },
   {
    "duration": 4314,
    "start_time": "2021-10-16T14:21:29.181Z"
   },
   {
    "duration": 6,
    "start_time": "2021-10-16T14:21:42.066Z"
   },
   {
    "duration": 4,
    "start_time": "2021-10-16T14:21:44.950Z"
   },
   {
    "duration": 4,
    "start_time": "2021-10-16T14:21:48.471Z"
   },
   {
    "duration": 4705,
    "start_time": "2021-10-16T14:22:06.729Z"
   },
   {
    "duration": 4302,
    "start_time": "2021-10-16T14:22:30.112Z"
   },
   {
    "duration": 16,
    "start_time": "2021-10-16T14:22:38.929Z"
   },
   {
    "duration": 8,
    "start_time": "2021-10-16T14:22:52.670Z"
   },
   {
    "duration": 22,
    "start_time": "2021-10-16T14:22:57.884Z"
   },
   {
    "duration": 9,
    "start_time": "2021-10-16T14:23:12.305Z"
   },
   {
    "duration": 23,
    "start_time": "2021-10-16T14:23:14.900Z"
   },
   {
    "duration": 10,
    "start_time": "2021-10-16T14:23:22.085Z"
   },
   {
    "duration": 19,
    "start_time": "2021-10-16T14:23:26.284Z"
   },
   {
    "duration": 8,
    "start_time": "2021-10-16T14:23:35.332Z"
   },
   {
    "duration": 3,
    "start_time": "2021-10-16T14:23:40.551Z"
   },
   {
    "duration": 4,
    "start_time": "2021-10-16T14:23:42.679Z"
   },
   {
    "duration": 4443,
    "start_time": "2021-10-16T14:23:45.474Z"
   },
   {
    "duration": 22,
    "start_time": "2021-10-16T14:24:06.739Z"
   },
   {
    "duration": 5,
    "start_time": "2021-10-16T14:24:12.143Z"
   },
   {
    "duration": 5,
    "start_time": "2021-10-16T14:24:18.229Z"
   },
   {
    "duration": 31,
    "start_time": "2021-10-16T14:24:21.427Z"
   },
   {
    "duration": 21,
    "start_time": "2021-10-16T14:24:48.470Z"
   },
   {
    "duration": 5,
    "start_time": "2021-10-16T14:24:52.099Z"
   },
   {
    "duration": 170,
    "start_time": "2021-10-16T14:24:57.592Z"
   },
   {
    "duration": 3,
    "start_time": "2021-10-16T14:25:03.968Z"
   },
   {
    "duration": 3,
    "start_time": "2021-10-16T14:25:06.532Z"
   },
   {
    "duration": 7,
    "start_time": "2021-10-16T14:25:08.662Z"
   },
   {
    "duration": 334,
    "start_time": "2021-10-16T14:25:10.668Z"
   },
   {
    "duration": 528,
    "start_time": "2021-10-16T14:25:11.396Z"
   },
   {
    "duration": 3,
    "start_time": "2021-10-16T14:25:21.904Z"
   },
   {
    "duration": 5,
    "start_time": "2021-10-16T14:25:24.078Z"
   },
   {
    "duration": 4,
    "start_time": "2021-10-16T14:25:27.845Z"
   },
   {
    "duration": 345,
    "start_time": "2021-10-16T14:25:31.896Z"
   },
   {
    "duration": 181,
    "start_time": "2021-10-16T14:25:38.031Z"
   },
   {
    "duration": 189,
    "start_time": "2021-10-16T14:25:42.203Z"
   },
   {
    "duration": 171,
    "start_time": "2021-10-16T14:25:45.819Z"
   },
   {
    "duration": 5,
    "start_time": "2021-10-16T14:25:51.010Z"
   },
   {
    "duration": 2,
    "start_time": "2021-10-16T14:25:53.436Z"
   },
   {
    "duration": 624,
    "start_time": "2021-10-16T14:25:56.224Z"
   },
   {
    "duration": 3,
    "start_time": "2021-10-16T14:25:59.859Z"
   },
   {
    "duration": 6,
    "start_time": "2021-10-16T14:26:02.288Z"
   },
   {
    "duration": 5,
    "start_time": "2021-10-16T14:26:05.029Z"
   },
   {
    "duration": 5,
    "start_time": "2021-10-16T14:26:10.538Z"
   },
   {
    "duration": 4,
    "start_time": "2021-10-16T14:26:22.567Z"
   },
   {
    "duration": 5,
    "start_time": "2021-10-16T14:26:25.445Z"
   },
   {
    "duration": 1371,
    "start_time": "2021-10-16T14:26:28.790Z"
   },
   {
    "duration": 8,
    "start_time": "2021-10-16T14:26:31.249Z"
   },
   {
    "duration": 859,
    "start_time": "2021-10-17T15:38:38.120Z"
   },
   {
    "duration": 14,
    "start_time": "2021-10-17T15:38:38.982Z"
   },
   {
    "duration": 63,
    "start_time": "2021-10-17T15:38:39.000Z"
   },
   {
    "duration": 42,
    "start_time": "2021-10-17T15:38:39.066Z"
   },
   {
    "duration": 6,
    "start_time": "2021-10-17T15:38:39.110Z"
   },
   {
    "duration": 7,
    "start_time": "2021-10-17T15:38:39.118Z"
   },
   {
    "duration": 39,
    "start_time": "2021-10-17T15:38:39.128Z"
   },
   {
    "duration": 8,
    "start_time": "2021-10-17T15:38:39.169Z"
   },
   {
    "duration": 35,
    "start_time": "2021-10-17T15:38:39.182Z"
   },
   {
    "duration": 77,
    "start_time": "2021-10-17T15:38:39.221Z"
   },
   {
    "duration": 61,
    "start_time": "2021-10-17T15:38:39.301Z"
   },
   {
    "duration": 15,
    "start_time": "2021-10-17T15:38:39.364Z"
   },
   {
    "duration": 12,
    "start_time": "2021-10-17T15:38:39.381Z"
   },
   {
    "duration": 10,
    "start_time": "2021-10-17T15:38:39.395Z"
   },
   {
    "duration": 68,
    "start_time": "2021-10-17T15:38:39.407Z"
   },
   {
    "duration": 13,
    "start_time": "2021-10-17T15:38:39.478Z"
   },
   {
    "duration": 40,
    "start_time": "2021-10-17T15:38:39.493Z"
   },
   {
    "duration": 28,
    "start_time": "2021-10-17T15:38:39.536Z"
   },
   {
    "duration": 29,
    "start_time": "2021-10-17T15:38:39.567Z"
   },
   {
    "duration": 11,
    "start_time": "2021-10-17T15:38:39.598Z"
   },
   {
    "duration": 4,
    "start_time": "2021-10-17T15:38:39.612Z"
   },
   {
    "duration": 5,
    "start_time": "2021-10-17T15:38:39.663Z"
   },
   {
    "duration": 8933,
    "start_time": "2021-10-17T15:38:39.670Z"
   },
   {
    "duration": -31,
    "start_time": "2021-10-17T15:38:48.637Z"
   },
   {
    "duration": -32,
    "start_time": "2021-10-17T15:38:48.640Z"
   },
   {
    "duration": -35,
    "start_time": "2021-10-17T15:38:48.644Z"
   },
   {
    "duration": -35,
    "start_time": "2021-10-17T15:38:48.646Z"
   },
   {
    "duration": -41,
    "start_time": "2021-10-17T15:38:48.653Z"
   },
   {
    "duration": -42,
    "start_time": "2021-10-17T15:38:48.655Z"
   },
   {
    "duration": -44,
    "start_time": "2021-10-17T15:38:48.658Z"
   },
   {
    "duration": -45,
    "start_time": "2021-10-17T15:38:48.661Z"
   },
   {
    "duration": -52,
    "start_time": "2021-10-17T15:38:48.669Z"
   },
   {
    "duration": -53,
    "start_time": "2021-10-17T15:38:48.671Z"
   },
   {
    "duration": -55,
    "start_time": "2021-10-17T15:38:48.675Z"
   },
   {
    "duration": -57,
    "start_time": "2021-10-17T15:38:48.678Z"
   },
   {
    "duration": -62,
    "start_time": "2021-10-17T15:38:48.684Z"
   },
   {
    "duration": -63,
    "start_time": "2021-10-17T15:38:48.687Z"
   },
   {
    "duration": -66,
    "start_time": "2021-10-17T15:38:48.691Z"
   },
   {
    "duration": -71,
    "start_time": "2021-10-17T15:38:48.698Z"
   },
   {
    "duration": -72,
    "start_time": "2021-10-17T15:38:48.700Z"
   },
   {
    "duration": -74,
    "start_time": "2021-10-17T15:38:48.703Z"
   },
   {
    "duration": -76,
    "start_time": "2021-10-17T15:38:48.706Z"
   },
   {
    "duration": -78,
    "start_time": "2021-10-17T15:38:48.710Z"
   },
   {
    "duration": -83,
    "start_time": "2021-10-17T15:38:48.716Z"
   },
   {
    "duration": -85,
    "start_time": "2021-10-17T15:38:48.719Z"
   },
   {
    "duration": 7,
    "start_time": "2021-10-17T15:47:17.516Z"
   },
   {
    "duration": 34,
    "start_time": "2021-10-17T15:50:11.141Z"
   },
   {
    "duration": 16,
    "start_time": "2021-10-17T15:50:14.444Z"
   },
   {
    "duration": 326,
    "start_time": "2021-10-17T16:52:44.623Z"
   },
   {
    "duration": 248,
    "start_time": "2021-10-17T16:52:54.313Z"
   },
   {
    "duration": 271,
    "start_time": "2021-10-17T16:52:58.607Z"
   },
   {
    "duration": 820,
    "start_time": "2021-10-17T16:53:04.843Z"
   },
   {
    "duration": 22,
    "start_time": "2021-10-17T16:53:08.937Z"
   },
   {
    "duration": 47,
    "start_time": "2021-10-17T16:53:13.067Z"
   },
   {
    "duration": 6,
    "start_time": "2021-10-17T16:53:18.332Z"
   },
   {
    "duration": 9,
    "start_time": "2021-10-17T16:53:23.623Z"
   },
   {
    "duration": 13,
    "start_time": "2021-10-17T16:53:55.754Z"
   },
   {
    "duration": 23,
    "start_time": "2021-10-17T16:56:19.612Z"
   },
   {
    "duration": 6688,
    "start_time": "2021-10-17T16:56:23.831Z"
   },
   {
    "duration": 593,
    "start_time": "2021-10-17T16:56:29.930Z"
   },
   {
    "duration": 8239,
    "start_time": "2021-10-17T16:56:35.638Z"
   },
   {
    "duration": 740,
    "start_time": "2021-10-17T16:56:43.140Z"
   },
   {
    "duration": 14,
    "start_time": "2021-10-17T16:56:53.730Z"
   },
   {
    "duration": 21,
    "start_time": "2021-10-17T16:56:59.821Z"
   },
   {
    "duration": 7257,
    "start_time": "2021-10-17T16:57:03.178Z"
   },
   {
    "duration": 16,
    "start_time": "2021-10-17T16:57:22.848Z"
   },
   {
    "duration": 34,
    "start_time": "2021-10-17T16:57:26.539Z"
   },
   {
    "duration": 40,
    "start_time": "2021-10-17T16:57:32.403Z"
   },
   {
    "duration": 10,
    "start_time": "2021-10-17T16:57:34.665Z"
   },
   {
    "duration": 15,
    "start_time": "2021-10-17T16:57:38.757Z"
   },
   {
    "duration": 28,
    "start_time": "2021-10-17T16:57:42.883Z"
   },
   {
    "duration": 12,
    "start_time": "2021-10-17T16:57:47.817Z"
   },
   {
    "duration": 5,
    "start_time": "2021-10-17T16:57:52.801Z"
   },
   {
    "duration": 5,
    "start_time": "2021-10-17T16:57:56.921Z"
   },
   {
    "duration": 7670,
    "start_time": "2021-10-17T16:58:01.391Z"
   },
   {
    "duration": 6,
    "start_time": "2021-10-17T16:58:18.357Z"
   },
   {
    "duration": 4,
    "start_time": "2021-10-17T16:58:24.744Z"
   },
   {
    "duration": 5,
    "start_time": "2021-10-17T16:58:31.210Z"
   },
   {
    "duration": 7267,
    "start_time": "2021-10-17T16:58:34.571Z"
   },
   {
    "duration": 8008,
    "start_time": "2021-10-17T16:58:47.831Z"
   },
   {
    "duration": 22,
    "start_time": "2021-10-17T16:59:28.046Z"
   },
   {
    "duration": 33,
    "start_time": "2021-10-17T16:59:54.461Z"
   },
   {
    "duration": 6,
    "start_time": "2021-10-17T17:00:00.673Z"
   },
   {
    "duration": 32,
    "start_time": "2021-10-17T17:00:37.333Z"
   },
   {
    "duration": 7,
    "start_time": "2021-10-17T17:00:40.753Z"
   },
   {
    "duration": 10,
    "start_time": "2021-10-17T17:00:45.459Z"
   },
   {
    "duration": 3,
    "start_time": "2021-10-17T17:00:48.669Z"
   },
   {
    "duration": 873,
    "start_time": "2021-10-17T17:00:51.535Z"
   },
   {
    "duration": 4,
    "start_time": "2021-10-17T17:00:55.874Z"
   },
   {
    "duration": 7431,
    "start_time": "2021-10-17T17:01:02.440Z"
   },
   {
    "duration": 1782,
    "start_time": "2021-10-17T17:01:20.530Z"
   },
   {
    "duration": 36,
    "start_time": "2021-10-17T17:01:25.450Z"
   },
   {
    "duration": 6,
    "start_time": "2021-10-17T17:01:48.371Z"
   },
   {
    "duration": 35,
    "start_time": "2021-10-17T17:01:51.298Z"
   },
   {
    "duration": 36,
    "start_time": "2021-10-17T17:02:04.331Z"
   },
   {
    "duration": 35,
    "start_time": "2021-10-17T17:02:20.080Z"
   },
   {
    "duration": 11,
    "start_time": "2021-10-17T17:02:37.364Z"
   },
   {
    "duration": 559,
    "start_time": "2021-10-17T17:02:42.194Z"
   },
   {
    "duration": 672,
    "start_time": "2021-10-17T17:02:45.705Z"
   },
   {
    "duration": 4,
    "start_time": "2021-10-17T17:02:53.275Z"
   },
   {
    "duration": 4,
    "start_time": "2021-10-17T17:02:55.768Z"
   },
   {
    "duration": 6,
    "start_time": "2021-10-17T17:02:57.839Z"
   },
   {
    "duration": 6,
    "start_time": "2021-10-17T17:03:00.375Z"
   },
   {
    "duration": 6,
    "start_time": "2021-10-17T17:03:06.509Z"
   },
   {
    "duration": 5,
    "start_time": "2021-10-17T17:03:11.126Z"
   },
   {
    "duration": 1833,
    "start_time": "2021-10-17T17:03:19.314Z"
   },
   {
    "duration": 9,
    "start_time": "2021-10-17T17:03:22.435Z"
   },
   {
    "duration": 23,
    "start_time": "2021-10-17T17:03:29.538Z"
   },
   {
    "duration": 32,
    "start_time": "2021-10-17T17:04:34.406Z"
   },
   {
    "duration": 118,
    "start_time": "2021-10-17T17:07:49.001Z"
   },
   {
    "duration": 90,
    "start_time": "2021-10-17T17:07:52.859Z"
   },
   {
    "duration": 47,
    "start_time": "2021-10-17T17:08:01.736Z"
   },
   {
    "duration": 15,
    "start_time": "2021-10-17T17:08:12.923Z"
   },
   {
    "duration": 271,
    "start_time": "2021-10-17T17:09:02.713Z"
   },
   {
    "duration": 8,
    "start_time": "2021-10-17T17:09:31.527Z"
   },
   {
    "duration": 22,
    "start_time": "2021-10-17T17:10:44.964Z"
   },
   {
    "duration": 568,
    "start_time": "2021-10-17T19:19:18.824Z"
   },
   {
    "duration": 12,
    "start_time": "2021-10-17T19:19:19.394Z"
   },
   {
    "duration": 30,
    "start_time": "2021-10-17T19:19:19.408Z"
   },
   {
    "duration": 50,
    "start_time": "2021-10-17T19:19:19.441Z"
   },
   {
    "duration": 4,
    "start_time": "2021-10-17T19:19:19.493Z"
   },
   {
    "duration": 6,
    "start_time": "2021-10-17T19:19:19.498Z"
   },
   {
    "duration": 5,
    "start_time": "2021-10-17T19:19:19.506Z"
   },
   {
    "duration": 5,
    "start_time": "2021-10-17T19:19:19.514Z"
   },
   {
    "duration": 19,
    "start_time": "2021-10-17T19:19:19.521Z"
   },
   {
    "duration": 10,
    "start_time": "2021-10-17T19:19:19.541Z"
   },
   {
    "duration": 5,
    "start_time": "2021-10-17T19:19:19.592Z"
   },
   {
    "duration": 12,
    "start_time": "2021-10-17T19:19:19.599Z"
   },
   {
    "duration": 24,
    "start_time": "2021-10-17T19:19:19.613Z"
   },
   {
    "duration": 9,
    "start_time": "2021-10-17T19:19:19.639Z"
   },
   {
    "duration": 47,
    "start_time": "2021-10-17T19:19:19.650Z"
   },
   {
    "duration": 8,
    "start_time": "2021-10-17T19:19:19.699Z"
   },
   {
    "duration": 7,
    "start_time": "2021-10-17T19:19:19.709Z"
   },
   {
    "duration": 22,
    "start_time": "2021-10-17T19:19:19.717Z"
   },
   {
    "duration": 8,
    "start_time": "2021-10-17T19:19:19.741Z"
   },
   {
    "duration": 53,
    "start_time": "2021-10-17T19:19:19.751Z"
   },
   {
    "duration": 9,
    "start_time": "2021-10-17T19:19:19.805Z"
   },
   {
    "duration": 17,
    "start_time": "2021-10-17T19:19:19.816Z"
   },
   {
    "duration": 8,
    "start_time": "2021-10-17T19:19:19.836Z"
   },
   {
    "duration": 2,
    "start_time": "2021-10-17T19:19:19.846Z"
   },
   {
    "duration": 5,
    "start_time": "2021-10-17T19:19:19.850Z"
   },
   {
    "duration": 45,
    "start_time": "2021-10-17T19:19:19.856Z"
   },
   {
    "duration": 19,
    "start_time": "2021-10-17T19:19:19.903Z"
   },
   {
    "duration": 6,
    "start_time": "2021-10-17T19:19:19.924Z"
   },
   {
    "duration": 7,
    "start_time": "2021-10-17T19:19:19.932Z"
   },
   {
    "duration": 6,
    "start_time": "2021-10-17T19:19:19.941Z"
   },
   {
    "duration": 6,
    "start_time": "2021-10-17T19:19:19.948Z"
   },
   {
    "duration": 663,
    "start_time": "2021-10-17T19:19:19.956Z"
   },
   {
    "duration": 3,
    "start_time": "2021-10-17T19:19:20.621Z"
   },
   {
    "duration": 6,
    "start_time": "2021-10-17T19:19:20.625Z"
   },
   {
    "duration": 12,
    "start_time": "2021-10-17T19:19:20.633Z"
   },
   {
    "duration": 4,
    "start_time": "2021-10-17T19:19:20.646Z"
   },
   {
    "duration": 6,
    "start_time": "2021-10-17T19:19:20.651Z"
   },
   {
    "duration": 5,
    "start_time": "2021-10-17T19:19:20.658Z"
   },
   {
    "duration": 1398,
    "start_time": "2021-10-17T19:19:20.664Z"
   },
   {
    "duration": 7,
    "start_time": "2021-10-17T19:19:22.064Z"
   },
   {
    "duration": 15,
    "start_time": "2021-10-17T19:19:22.092Z"
   },
   {
    "duration": 43,
    "start_time": "2021-10-17T19:19:22.109Z"
   },
   {
    "duration": 9,
    "start_time": "2021-10-17T19:19:22.153Z"
   },
   {
    "duration": 54,
    "start_time": "2021-10-17T19:19:22.164Z"
   },
   {
    "duration": 8,
    "start_time": "2021-10-17T19:19:22.220Z"
   },
   {
    "duration": 39,
    "start_time": "2021-10-17T19:19:22.229Z"
   },
   {
    "duration": 27,
    "start_time": "2021-10-17T19:19:22.269Z"
   },
   {
    "duration": 38,
    "start_time": "2021-10-17T19:19:22.298Z"
   },
   {
    "duration": 8,
    "start_time": "2021-10-17T19:19:22.338Z"
   },
   {
    "duration": 51,
    "start_time": "2021-10-17T19:19:22.347Z"
   },
   {
    "duration": 892,
    "start_time": "2021-10-18T15:06:39.825Z"
   },
   {
    "duration": 15,
    "start_time": "2021-10-18T15:06:40.720Z"
   },
   {
    "duration": 68,
    "start_time": "2021-10-18T15:06:40.738Z"
   },
   {
    "duration": 59,
    "start_time": "2021-10-18T15:06:40.808Z"
   },
   {
    "duration": 4,
    "start_time": "2021-10-18T15:06:40.870Z"
   },
   {
    "duration": 8,
    "start_time": "2021-10-18T15:06:40.877Z"
   },
   {
    "duration": 8,
    "start_time": "2021-10-18T15:06:40.887Z"
   },
   {
    "duration": 8,
    "start_time": "2021-10-18T15:06:40.897Z"
   },
   {
    "duration": 78,
    "start_time": "2021-10-18T15:06:40.909Z"
   },
   {
    "duration": 13,
    "start_time": "2021-10-18T15:06:40.991Z"
   },
   {
    "duration": 9,
    "start_time": "2021-10-18T15:06:41.006Z"
   },
   {
    "duration": 49,
    "start_time": "2021-10-18T15:06:41.018Z"
   },
   {
    "duration": 42,
    "start_time": "2021-10-18T15:06:41.070Z"
   },
   {
    "duration": 14,
    "start_time": "2021-10-18T15:06:41.115Z"
   },
   {
    "duration": 14,
    "start_time": "2021-10-18T15:06:41.163Z"
   },
   {
    "duration": 14,
    "start_time": "2021-10-18T15:06:41.179Z"
   },
   {
    "duration": 24,
    "start_time": "2021-10-18T15:06:41.195Z"
   },
   {
    "duration": 65,
    "start_time": "2021-10-18T15:06:41.222Z"
   },
   {
    "duration": 14,
    "start_time": "2021-10-18T15:06:41.289Z"
   },
   {
    "duration": 60,
    "start_time": "2021-10-18T15:06:41.305Z"
   },
   {
    "duration": 14,
    "start_time": "2021-10-18T15:06:41.367Z"
   },
   {
    "duration": 28,
    "start_time": "2021-10-18T15:06:41.383Z"
   },
   {
    "duration": 11,
    "start_time": "2021-10-18T15:06:41.413Z"
   },
   {
    "duration": 5,
    "start_time": "2021-10-18T15:06:41.462Z"
   },
   {
    "duration": 7,
    "start_time": "2021-10-18T15:06:41.469Z"
   },
   {
    "duration": 22,
    "start_time": "2021-10-18T15:06:41.478Z"
   },
   {
    "duration": 63,
    "start_time": "2021-10-18T15:06:41.506Z"
   },
   {
    "duration": 8,
    "start_time": "2021-10-18T15:06:41.571Z"
   },
   {
    "duration": 6,
    "start_time": "2021-10-18T15:06:41.582Z"
   },
   {
    "duration": 10,
    "start_time": "2021-10-18T15:06:41.590Z"
   },
   {
    "duration": 3,
    "start_time": "2021-10-18T15:06:41.602Z"
   },
   {
    "duration": 943,
    "start_time": "2021-10-18T15:06:41.607Z"
   },
   {
    "duration": 10,
    "start_time": "2021-10-18T15:06:42.553Z"
   },
   {
    "duration": 6,
    "start_time": "2021-10-18T15:06:42.567Z"
   },
   {
    "duration": 15,
    "start_time": "2021-10-18T15:06:42.575Z"
   },
   {
    "duration": 7,
    "start_time": "2021-10-18T15:06:42.593Z"
   },
   {
    "duration": 8,
    "start_time": "2021-10-18T15:06:42.603Z"
   },
   {
    "duration": 6,
    "start_time": "2021-10-18T15:06:42.663Z"
   },
   {
    "duration": 2134,
    "start_time": "2021-10-18T15:06:42.671Z"
   },
   {
    "duration": 11,
    "start_time": "2021-10-18T15:06:44.808Z"
   },
   {
    "duration": 49,
    "start_time": "2021-10-18T15:06:44.822Z"
   },
   {
    "duration": 74,
    "start_time": "2021-10-18T15:06:44.874Z"
   },
   {
    "duration": 22,
    "start_time": "2021-10-18T15:06:44.962Z"
   },
   {
    "duration": 77,
    "start_time": "2021-10-18T15:06:44.986Z"
   },
   {
    "duration": 13,
    "start_time": "2021-10-18T15:06:45.065Z"
   },
   {
    "duration": 98,
    "start_time": "2021-10-18T15:06:45.081Z"
   },
   {
    "duration": 15,
    "start_time": "2021-10-18T15:06:45.182Z"
   },
   {
    "duration": 93,
    "start_time": "2021-10-18T15:06:45.200Z"
   },
   {
    "duration": 15,
    "start_time": "2021-10-18T15:06:45.296Z"
   },
   {
    "duration": 69,
    "start_time": "2021-10-18T15:06:45.314Z"
   },
   {
    "duration": 67,
    "start_time": "2021-10-18T15:07:53.530Z"
   },
   {
    "duration": 15,
    "start_time": "2021-10-18T15:07:53.599Z"
   },
   {
    "duration": 75,
    "start_time": "2021-10-18T15:07:53.618Z"
   },
   {
    "duration": 67,
    "start_time": "2021-10-18T15:07:53.696Z"
   },
   {
    "duration": 5,
    "start_time": "2021-10-18T15:07:53.765Z"
   },
   {
    "duration": 14,
    "start_time": "2021-10-18T15:07:53.772Z"
   },
   {
    "duration": 9,
    "start_time": "2021-10-18T15:07:53.788Z"
   },
   {
    "duration": 7,
    "start_time": "2021-10-18T15:07:53.799Z"
   },
   {
    "duration": 76,
    "start_time": "2021-10-18T15:07:53.811Z"
   },
   {
    "duration": 14,
    "start_time": "2021-10-18T15:07:53.889Z"
   },
   {
    "duration": 11,
    "start_time": "2021-10-18T15:07:53.906Z"
   },
   {
    "duration": 47,
    "start_time": "2021-10-18T15:07:53.920Z"
   },
   {
    "duration": 41,
    "start_time": "2021-10-18T15:07:53.970Z"
   },
   {
    "duration": 14,
    "start_time": "2021-10-18T15:07:54.013Z"
   },
   {
    "duration": 43,
    "start_time": "2021-10-18T15:07:54.029Z"
   },
   {
    "duration": 11,
    "start_time": "2021-10-18T15:07:54.075Z"
   },
   {
    "duration": 11,
    "start_time": "2021-10-18T15:07:54.089Z"
   },
   {
    "duration": 71,
    "start_time": "2021-10-18T15:07:54.102Z"
   },
   {
    "duration": 13,
    "start_time": "2021-10-18T15:07:54.175Z"
   },
   {
    "duration": 37,
    "start_time": "2021-10-18T15:07:54.190Z"
   },
   {
    "duration": 43,
    "start_time": "2021-10-18T15:07:54.229Z"
   },
   {
    "duration": 37,
    "start_time": "2021-10-18T15:08:44.032Z"
   },
   {
    "duration": 393,
    "start_time": "2021-10-19T09:42:34.492Z"
   },
   {
    "duration": 242,
    "start_time": "2021-10-19T09:42:42.012Z"
   },
   {
    "duration": 786,
    "start_time": "2021-10-19T09:42:48.800Z"
   },
   {
    "duration": 52,
    "start_time": "2021-10-19T09:43:15.067Z"
   },
   {
    "duration": 13,
    "start_time": "2021-10-19T09:43:21.485Z"
   },
   {
    "duration": 7,
    "start_time": "2021-10-19T09:43:57.409Z"
   },
   {
    "duration": 8,
    "start_time": "2021-10-19T09:44:35.524Z"
   },
   {
    "duration": 13,
    "start_time": "2021-10-19T09:44:47.167Z"
   },
   {
    "duration": 12,
    "start_time": "2021-10-19T09:45:09.846Z"
   },
   {
    "duration": 8,
    "start_time": "2021-10-19T09:45:16.837Z"
   },
   {
    "duration": 13,
    "start_time": "2021-10-19T09:45:20.539Z"
   },
   {
    "duration": 45,
    "start_time": "2021-10-19T09:45:33.753Z"
   },
   {
    "duration": 5,
    "start_time": "2021-10-19T09:46:11.720Z"
   },
   {
    "duration": 18,
    "start_time": "2021-10-19T09:46:16.669Z"
   },
   {
    "duration": 7,
    "start_time": "2021-10-19T09:46:25.803Z"
   },
   {
    "duration": 854,
    "start_time": "2021-10-19T22:29:24.027Z"
   },
   {
    "duration": 16,
    "start_time": "2021-10-19T22:29:24.884Z"
   },
   {
    "duration": 48,
    "start_time": "2021-10-19T22:29:24.904Z"
   },
   {
    "duration": 72,
    "start_time": "2021-10-19T22:29:24.956Z"
   },
   {
    "duration": 6,
    "start_time": "2021-10-19T22:29:25.031Z"
   },
   {
    "duration": 10,
    "start_time": "2021-10-19T22:29:25.040Z"
   },
   {
    "duration": 11,
    "start_time": "2021-10-19T22:29:25.053Z"
   },
   {
    "duration": 38,
    "start_time": "2021-10-19T22:29:25.067Z"
   },
   {
    "duration": 36,
    "start_time": "2021-10-19T22:29:25.110Z"
   },
   {
    "duration": 5,
    "start_time": "2021-10-19T22:29:25.150Z"
   },
   {
    "duration": 43,
    "start_time": "2021-10-19T22:29:25.157Z"
   },
   {
    "duration": 8,
    "start_time": "2021-10-19T22:29:25.203Z"
   },
   {
    "duration": 23,
    "start_time": "2021-10-19T22:29:25.213Z"
   },
   {
    "duration": 6,
    "start_time": "2021-10-19T22:29:25.238Z"
   },
   {
    "duration": 20,
    "start_time": "2021-10-19T22:29:25.247Z"
   },
   {
    "duration": 39,
    "start_time": "2021-10-19T22:29:25.300Z"
   },
   {
    "duration": 13,
    "start_time": "2021-10-19T22:29:25.342Z"
   },
   {
    "duration": 44,
    "start_time": "2021-10-19T22:29:25.358Z"
   },
   {
    "duration": 13,
    "start_time": "2021-10-19T22:29:25.404Z"
   },
   {
    "duration": 12,
    "start_time": "2021-10-19T22:29:25.420Z"
   },
   {
    "duration": 79,
    "start_time": "2021-10-19T22:29:25.435Z"
   },
   {
    "duration": 16,
    "start_time": "2021-10-19T22:29:25.517Z"
   },
   {
    "duration": 70,
    "start_time": "2021-10-19T22:29:25.536Z"
   },
   {
    "duration": 14,
    "start_time": "2021-10-19T22:29:25.610Z"
   },
   {
    "duration": 27,
    "start_time": "2021-10-19T22:29:25.626Z"
   },
   {
    "duration": 47,
    "start_time": "2021-10-19T22:29:25.655Z"
   },
   {
    "duration": 5,
    "start_time": "2021-10-19T22:29:25.707Z"
   },
   {
    "duration": 8,
    "start_time": "2021-10-19T22:29:25.715Z"
   },
   {
    "duration": 22,
    "start_time": "2021-10-19T22:29:25.725Z"
   },
   {
    "duration": 63,
    "start_time": "2021-10-19T22:29:25.749Z"
   },
   {
    "duration": 7,
    "start_time": "2021-10-19T22:29:25.815Z"
   },
   {
    "duration": 7,
    "start_time": "2021-10-19T22:29:25.825Z"
   },
   {
    "duration": 9,
    "start_time": "2021-10-19T22:29:25.834Z"
   },
   {
    "duration": 3,
    "start_time": "2021-10-19T22:29:25.845Z"
   },
   {
    "duration": 1002,
    "start_time": "2021-10-19T22:29:25.850Z"
   },
   {
    "duration": 4,
    "start_time": "2021-10-19T22:29:26.854Z"
   },
   {
    "duration": 8,
    "start_time": "2021-10-19T22:29:26.860Z"
   },
   {
    "duration": 38,
    "start_time": "2021-10-19T22:29:26.871Z"
   },
   {
    "duration": 5,
    "start_time": "2021-10-19T22:29:26.912Z"
   },
   {
    "duration": 9,
    "start_time": "2021-10-19T22:29:26.919Z"
   },
   {
    "duration": 7,
    "start_time": "2021-10-19T22:29:26.930Z"
   },
   {
    "duration": 2041,
    "start_time": "2021-10-19T22:29:26.939Z"
   },
   {
    "duration": 28,
    "start_time": "2021-10-19T22:29:28.983Z"
   },
   {
    "duration": 27,
    "start_time": "2021-10-19T22:29:29.014Z"
   },
   {
    "duration": 111,
    "start_time": "2021-10-19T22:29:29.044Z"
   },
   {
    "duration": 20,
    "start_time": "2021-10-19T22:29:29.159Z"
   },
   {
    "duration": 79,
    "start_time": "2021-10-19T22:29:29.181Z"
   },
   {
    "duration": 12,
    "start_time": "2021-10-19T22:29:29.262Z"
   },
   {
    "duration": 83,
    "start_time": "2021-10-19T22:29:29.276Z"
   },
   {
    "duration": 12,
    "start_time": "2021-10-19T22:29:29.361Z"
   },
   {
    "duration": 82,
    "start_time": "2021-10-19T22:29:29.376Z"
   },
   {
    "duration": 12,
    "start_time": "2021-10-19T22:29:29.460Z"
   },
   {
    "duration": 66,
    "start_time": "2021-10-19T22:29:29.474Z"
   },
   {
    "duration": 288,
    "start_time": "2021-10-30T09:07:04.633Z"
   },
   {
    "duration": 269,
    "start_time": "2021-10-30T09:07:12.211Z"
   }
  ],
  "kernelspec": {
   "display_name": "Python 3",
   "language": "python",
   "name": "python3"
  },
  "language_info": {
   "codemirror_mode": {
    "name": "ipython",
    "version": 3
   },
   "file_extension": ".py",
   "mimetype": "text/x-python",
   "name": "python",
   "nbconvert_exporter": "python",
   "pygments_lexer": "ipython3",
   "version": "3.7.8"
  },
  "toc": {
   "base_numbering": 1,
   "nav_menu": {},
   "number_sections": true,
   "sideBar": true,
   "skip_h1_title": true,
   "title_cell": "Table of Contents",
   "title_sidebar": "Contents",
   "toc_cell": false,
   "toc_position": {},
   "toc_section_display": true,
   "toc_window_display": false
  }
 },
 "nbformat": 4,
 "nbformat_minor": 2
}
